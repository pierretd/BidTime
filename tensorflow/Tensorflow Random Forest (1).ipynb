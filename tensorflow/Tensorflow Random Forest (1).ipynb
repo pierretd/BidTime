{
 "cells": [
  {
   "cell_type": "code",
   "execution_count": 1,
   "metadata": {},
   "outputs": [],
   "source": [
    "import pandas as pd\n",
    "import numpy as np\n",
    "from sklearn import preprocessing\n",
    "from sklearn.preprocessing import OneHotEncoder\n",
    "from sklearn.model_selection import GridSearchCV\n",
    "from sklearn.metrics import roc_auc_score"
   ]
  },
  {
   "cell_type": "code",
   "execution_count": 2,
   "metadata": {},
   "outputs": [],
   "source": [
    "n_rows = 1000000\n",
    "df = pd.read_csv(\"train.gz\", nrows=n_rows, compression=\"infer\")"
   ]
  },
  {
   "cell_type": "code",
   "execution_count": 3,
   "metadata": {},
   "outputs": [],
   "source": [
    "for c in df.columns:\n",
    "    df[c]=df[c].apply(str)\n",
    "    le=preprocessing.LabelEncoder().fit(df[c])\n",
    "    df[c] =le.transform(df[c])\n",
    "    pd.to_numeric(df[c]).astype(np.float)"
   ]
  },
  {
   "cell_type": "code",
   "execution_count": 4,
   "metadata": {},
   "outputs": [
    {
     "name": "stdout",
     "output_type": "stream",
     "text": [
      "(500000, 19) (500000,)\n"
     ]
    }
   ],
   "source": [
    "X = df.drop(['click', 'id', 'hour', 'device_id', 'device_ip'], axis=1).values\n",
    "Y = df['click'].values\n",
    "\n",
    "print(X.shape, Y.shape)\n",
    "\n"
   ]
  },
  {
   "cell_type": "code",
   "execution_count": 5,
   "metadata": {},
   "outputs": [
    {
     "data": {
      "text/html": [
       "<div>\n",
       "<style scoped>\n",
       "    .dataframe tbody tr th:only-of-type {\n",
       "        vertical-align: middle;\n",
       "    }\n",
       "\n",
       "    .dataframe tbody tr th {\n",
       "        vertical-align: top;\n",
       "    }\n",
       "\n",
       "    .dataframe thead th {\n",
       "        text-align: right;\n",
       "    }\n",
       "</style>\n",
       "<table border=\"1\" class=\"dataframe\">\n",
       "  <thead>\n",
       "    <tr style=\"text-align: right;\">\n",
       "      <th></th>\n",
       "      <th>id</th>\n",
       "      <th>click</th>\n",
       "      <th>hour</th>\n",
       "      <th>C1</th>\n",
       "      <th>banner_pos</th>\n",
       "      <th>site_id</th>\n",
       "      <th>site_domain</th>\n",
       "      <th>site_category</th>\n",
       "      <th>app_id</th>\n",
       "      <th>app_domain</th>\n",
       "      <th>...</th>\n",
       "      <th>device_type</th>\n",
       "      <th>device_conn_type</th>\n",
       "      <th>C14</th>\n",
       "      <th>C15</th>\n",
       "      <th>C16</th>\n",
       "      <th>C17</th>\n",
       "      <th>C18</th>\n",
       "      <th>C19</th>\n",
       "      <th>C20</th>\n",
       "      <th>C21</th>\n",
       "    </tr>\n",
       "  </thead>\n",
       "  <tbody>\n",
       "    <tr>\n",
       "      <th>0</th>\n",
       "      <td>5</td>\n",
       "      <td>0</td>\n",
       "      <td>0</td>\n",
       "      <td>2</td>\n",
       "      <td>0</td>\n",
       "      <td>215</td>\n",
       "      <td>1503</td>\n",
       "      <td>2</td>\n",
       "      <td>1518</td>\n",
       "      <td>62</td>\n",
       "      <td>...</td>\n",
       "      <td>1</td>\n",
       "      <td>1</td>\n",
       "      <td>102</td>\n",
       "      <td>4</td>\n",
       "      <td>6</td>\n",
       "      <td>18</td>\n",
       "      <td>0</td>\n",
       "      <td>19</td>\n",
       "      <td>0</td>\n",
       "      <td>27</td>\n",
       "    </tr>\n",
       "    <tr>\n",
       "      <th>1</th>\n",
       "      <td>9</td>\n",
       "      <td>0</td>\n",
       "      <td>0</td>\n",
       "      <td>2</td>\n",
       "      <td>0</td>\n",
       "      <td>215</td>\n",
       "      <td>1503</td>\n",
       "      <td>2</td>\n",
       "      <td>1518</td>\n",
       "      <td>62</td>\n",
       "      <td>...</td>\n",
       "      <td>1</td>\n",
       "      <td>0</td>\n",
       "      <td>100</td>\n",
       "      <td>4</td>\n",
       "      <td>6</td>\n",
       "      <td>18</td>\n",
       "      <td>0</td>\n",
       "      <td>19</td>\n",
       "      <td>60</td>\n",
       "      <td>27</td>\n",
       "    </tr>\n",
       "    <tr>\n",
       "      <th>2</th>\n",
       "      <td>17</td>\n",
       "      <td>0</td>\n",
       "      <td>0</td>\n",
       "      <td>2</td>\n",
       "      <td>0</td>\n",
       "      <td>215</td>\n",
       "      <td>1503</td>\n",
       "      <td>2</td>\n",
       "      <td>1518</td>\n",
       "      <td>62</td>\n",
       "      <td>...</td>\n",
       "      <td>1</td>\n",
       "      <td>0</td>\n",
       "      <td>100</td>\n",
       "      <td>4</td>\n",
       "      <td>6</td>\n",
       "      <td>18</td>\n",
       "      <td>0</td>\n",
       "      <td>19</td>\n",
       "      <td>60</td>\n",
       "      <td>27</td>\n",
       "    </tr>\n",
       "    <tr>\n",
       "      <th>3</th>\n",
       "      <td>28</td>\n",
       "      <td>0</td>\n",
       "      <td>0</td>\n",
       "      <td>2</td>\n",
       "      <td>0</td>\n",
       "      <td>215</td>\n",
       "      <td>1503</td>\n",
       "      <td>2</td>\n",
       "      <td>1518</td>\n",
       "      <td>62</td>\n",
       "      <td>...</td>\n",
       "      <td>1</td>\n",
       "      <td>0</td>\n",
       "      <td>102</td>\n",
       "      <td>4</td>\n",
       "      <td>6</td>\n",
       "      <td>18</td>\n",
       "      <td>0</td>\n",
       "      <td>19</td>\n",
       "      <td>60</td>\n",
       "      <td>27</td>\n",
       "    </tr>\n",
       "    <tr>\n",
       "      <th>4</th>\n",
       "      <td>31</td>\n",
       "      <td>0</td>\n",
       "      <td>0</td>\n",
       "      <td>2</td>\n",
       "      <td>1</td>\n",
       "      <td>1687</td>\n",
       "      <td>910</td>\n",
       "      <td>0</td>\n",
       "      <td>1518</td>\n",
       "      <td>62</td>\n",
       "      <td>...</td>\n",
       "      <td>1</td>\n",
       "      <td>0</td>\n",
       "      <td>196</td>\n",
       "      <td>4</td>\n",
       "      <td>6</td>\n",
       "      <td>59</td>\n",
       "      <td>0</td>\n",
       "      <td>19</td>\n",
       "      <td>0</td>\n",
       "      <td>8</td>\n",
       "    </tr>\n",
       "  </tbody>\n",
       "</table>\n",
       "<p>5 rows × 24 columns</p>\n",
       "</div>"
      ],
      "text/plain": [
       "   id  click  hour  C1  banner_pos  site_id  site_domain  site_category  \\\n",
       "0   5      0     0   2           0      215         1503              2   \n",
       "1   9      0     0   2           0      215         1503              2   \n",
       "2  17      0     0   2           0      215         1503              2   \n",
       "3  28      0     0   2           0      215         1503              2   \n",
       "4  31      0     0   2           1     1687          910              0   \n",
       "\n",
       "   app_id  app_domain ...   device_type  device_conn_type  C14  C15  C16  C17  \\\n",
       "0    1518          62 ...             1                 1  102    4    6   18   \n",
       "1    1518          62 ...             1                 0  100    4    6   18   \n",
       "2    1518          62 ...             1                 0  100    4    6   18   \n",
       "3    1518          62 ...             1                 0  102    4    6   18   \n",
       "4    1518          62 ...             1                 0  196    4    6   59   \n",
       "\n",
       "   C18  C19  C20  C21  \n",
       "0    0   19    0   27  \n",
       "1    0   19   60   27  \n",
       "2    0   19   60   27  \n",
       "3    0   19   60   27  \n",
       "4    0   19    0    8  \n",
       "\n",
       "[5 rows x 24 columns]"
      ]
     },
     "execution_count": 5,
     "metadata": {},
     "output_type": "execute_result"
    }
   ],
   "source": [
    "df.head()"
   ]
  },
  {
   "cell_type": "code",
   "execution_count": 6,
   "metadata": {},
   "outputs": [],
   "source": [
    "n_train = int(n_rows * 0.9)\n",
    "X_train = X[:n_train]\n",
    "Y_train = Y[:n_train]\n",
    "X_test = X[n_train:]\n",
    "Y_test = Y[n_train:]"
   ]
  },
  {
   "cell_type": "code",
   "execution_count": 7,
   "metadata": {},
   "outputs": [],
   "source": [
    "enc = OneHotEncoder(handle_unknown='ignore')\n",
    "X_train_enc = enc.fit_transform(X_train)\n",
    "X_test_enc = enc.transform(X_test)"
   ]
  },
  {
   "cell_type": "code",
   "execution_count": 8,
   "metadata": {},
   "outputs": [
    {
     "name": "stdout",
     "output_type": "stream",
     "text": [
      "Requirement already satisfied: tensorflow in /home/ec2-user/anaconda3/envs/python3/lib/python3.6/site-packages (1.13.1)\n",
      "Requirement already satisfied: gast>=0.2.0 in /home/ec2-user/anaconda3/envs/python3/lib/python3.6/site-packages (from tensorflow) (0.2.2)\n",
      "Requirement already satisfied: keras-applications>=1.0.6 in /home/ec2-user/anaconda3/envs/python3/lib/python3.6/site-packages (from tensorflow) (1.0.8)\n",
      "Requirement already satisfied: tensorboard<1.14.0,>=1.13.0 in /home/ec2-user/anaconda3/envs/python3/lib/python3.6/site-packages (from tensorflow) (1.13.1)\n",
      "Requirement already satisfied: termcolor>=1.1.0 in /home/ec2-user/anaconda3/envs/python3/lib/python3.6/site-packages (from tensorflow) (1.1.0)\n",
      "Requirement already satisfied: tensorflow-estimator<1.14.0rc0,>=1.13.0 in /home/ec2-user/anaconda3/envs/python3/lib/python3.6/site-packages (from tensorflow) (1.13.0)\n",
      "Requirement already satisfied: wheel>=0.26 in /home/ec2-user/anaconda3/envs/python3/lib/python3.6/site-packages (from tensorflow) (0.31.1)\n",
      "Requirement already satisfied: numpy>=1.13.3 in /home/ec2-user/anaconda3/envs/python3/lib/python3.6/site-packages (from tensorflow) (1.15.4)\n",
      "Requirement already satisfied: absl-py>=0.1.6 in /home/ec2-user/anaconda3/envs/python3/lib/python3.6/site-packages (from tensorflow) (0.7.1)\n",
      "Requirement already satisfied: grpcio>=1.8.6 in /home/ec2-user/anaconda3/envs/python3/lib/python3.6/site-packages (from tensorflow) (1.21.1)\n",
      "Requirement already satisfied: protobuf>=3.6.1 in /home/ec2-user/anaconda3/envs/python3/lib/python3.6/site-packages (from tensorflow) (3.6.1)\n",
      "Requirement already satisfied: six>=1.10.0 in /home/ec2-user/anaconda3/envs/python3/lib/python3.6/site-packages (from tensorflow) (1.11.0)\n",
      "Requirement already satisfied: keras-preprocessing>=1.0.5 in /home/ec2-user/anaconda3/envs/python3/lib/python3.6/site-packages (from tensorflow) (1.1.0)\n",
      "Requirement already satisfied: astor>=0.6.0 in /home/ec2-user/anaconda3/envs/python3/lib/python3.6/site-packages (from tensorflow) (0.8.0)\n",
      "Requirement already satisfied: h5py in /home/ec2-user/anaconda3/envs/python3/lib/python3.6/site-packages (from keras-applications>=1.0.6->tensorflow) (2.8.0)\n",
      "Requirement already satisfied: markdown>=2.6.8 in /home/ec2-user/anaconda3/envs/python3/lib/python3.6/site-packages (from tensorboard<1.14.0,>=1.13.0->tensorflow) (3.1.1)\n",
      "Requirement already satisfied: werkzeug>=0.11.15 in /home/ec2-user/anaconda3/envs/python3/lib/python3.6/site-packages (from tensorboard<1.14.0,>=1.13.0->tensorflow) (0.14.1)\n",
      "Requirement already satisfied: mock>=2.0.0 in /home/ec2-user/anaconda3/envs/python3/lib/python3.6/site-packages (from tensorflow-estimator<1.14.0rc0,>=1.13.0->tensorflow) (2.0.0)\n",
      "Requirement already satisfied: setuptools in /home/ec2-user/anaconda3/envs/python3/lib/python3.6/site-packages (from protobuf>=3.6.1->tensorflow) (39.1.0)\n",
      "Requirement already satisfied: pbr>=0.11 in /home/ec2-user/anaconda3/envs/python3/lib/python3.6/site-packages (from mock>=2.0.0->tensorflow-estimator<1.14.0rc0,>=1.13.0->tensorflow) (5.1.3)\n",
      "\u001b[33mYou are using pip version 10.0.1, however version 19.1.1 is available.\n",
      "You should consider upgrading via the 'pip install --upgrade pip' command.\u001b[0m\n"
     ]
    }
   ],
   "source": [
    "!pip install tensorflow\n",
    "import tensorflow as tf\n",
    "from tensorflow.contrib.tensor_forest.python import tensor_forest\n",
    "from tensorflow.python.ops import resources"
   ]
  },
  {
   "cell_type": "code",
   "execution_count": 9,
   "metadata": {},
   "outputs": [],
   "source": [
    "n_iter = 50\n",
    "n_classes = 2\n",
    "n_features = int(X_train_enc.toarray().shape[1])\n",
    "n_trees = 10\n",
    "max_nodes = 30000"
   ]
  },
  {
   "cell_type": "code",
   "execution_count": 10,
   "metadata": {},
   "outputs": [],
   "source": [
    "x = tf.placeholder(tf.float32, shape=[None, n_features])\n",
    "y = tf.placeholder(tf.int64, shape=[None])"
   ]
  },
  {
   "cell_type": "code",
   "execution_count": 11,
   "metadata": {},
   "outputs": [],
   "source": [
    "hparams = tensor_forest.ForestHParams(num_classes=n_classes, num_features=n_features, num_trees=n_trees,\n",
    "                                      max_nodes=max_nodes, split_after_samples=50).fill()"
   ]
  },
  {
   "cell_type": "code",
   "execution_count": 12,
   "metadata": {},
   "outputs": [
    {
     "name": "stdout",
     "output_type": "stream",
     "text": [
      "INFO:tensorflow:Constructing forest with params = \n",
      "INFO:tensorflow:{'num_trees': 10, 'max_nodes': 30000, 'bagging_fraction': 1.0, 'feature_bagging_fraction': 1.0, 'num_splits_to_consider': 97, 'max_fertile_nodes': 0, 'split_after_samples': 50, 'valid_leaf_threshold': 1, 'dominate_method': 'bootstrap', 'dominate_fraction': 0.99, 'model_name': 'all_dense', 'split_finish_name': 'basic', 'split_pruning_name': 'none', 'collate_examples': False, 'checkpoint_stats': False, 'use_running_stats_method': False, 'initialize_average_splits': False, 'inference_tree_paths': False, 'param_file': None, 'split_name': 'less_or_equal', 'early_finish_check_every_samples': 0, 'prune_every_samples': 0, 'num_classes': 2, 'num_features': 9571, 'bagged_num_features': 9571, 'bagged_features': None, 'regression': False, 'num_outputs': 1, 'num_output_columns': 3, 'base_random_seed': 0, 'leaf_model_type': 0, 'stats_model_type': 0, 'finish_type': 0, 'pruning_type': 0, 'split_type': 0}\n",
      "WARNING:tensorflow:From /home/ec2-user/anaconda3/envs/python3/lib/python3.6/site-packages/tensorflow/python/framework/op_def_library.py:263: colocate_with (from tensorflow.python.framework.ops) is deprecated and will be removed in a future version.\n",
      "Instructions for updating:\n",
      "Colocations handled automatically by placer.\n"
     ]
    }
   ],
   "source": [
    "forest_graph = tensor_forest.RandomForestGraphs(hparams)"
   ]
  },
  {
   "cell_type": "code",
   "execution_count": 13,
   "metadata": {},
   "outputs": [
    {
     "name": "stdout",
     "output_type": "stream",
     "text": [
      "WARNING:tensorflow:From /home/ec2-user/anaconda3/envs/python3/lib/python3.6/site-packages/tensorflow/contrib/tensor_forest/python/ops/data_ops.py:212: to_float (from tensorflow.python.ops.math_ops) is deprecated and will be removed in a future version.\n",
      "Instructions for updating:\n",
      "Use tf.cast instead.\n",
      "WARNING:tensorflow:From /home/ec2-user/anaconda3/envs/python3/lib/python3.6/site-packages/tensorflow/contrib/tensor_forest/python/tensor_forest.py:606: to_int32 (from tensorflow.python.ops.math_ops) is deprecated and will be removed in a future version.\n",
      "Instructions for updating:\n",
      "Use tf.cast instead.\n"
     ]
    }
   ],
   "source": [
    "train_op = forest_graph.training_graph(x, y)\n",
    "loss_op = forest_graph.training_loss(x, y)"
   ]
  },
  {
   "cell_type": "code",
   "execution_count": 14,
   "metadata": {},
   "outputs": [
    {
     "name": "stdout",
     "output_type": "stream",
     "text": [
      "WARNING:tensorflow:From /home/ec2-user/anaconda3/envs/python3/lib/python3.6/site-packages/tensorflow/contrib/tensor_forest/python/tensor_forest.py:523: div (from tensorflow.python.ops.math_ops) is deprecated and will be removed in a future version.\n",
      "Instructions for updating:\n",
      "Deprecated in favor of operator or tf.math.divide.\n"
     ]
    }
   ],
   "source": [
    "infer_op, _, _ = forest_graph.inference_graph(x)"
   ]
  },
  {
   "cell_type": "code",
   "execution_count": 15,
   "metadata": {},
   "outputs": [],
   "source": [
    "auc = tf.metrics.auc(tf.cast(y, tf.int64), infer_op[:, 1])[1]"
   ]
  },
  {
   "cell_type": "code",
   "execution_count": 16,
   "metadata": {},
   "outputs": [],
   "source": [
    "init_vars = tf.group(tf.global_variables_initializer(), tf.local_variables_initializer(), resources.initialize_resources(resources.shared_resources()))\n",
    "\n",
    "sess = tf.Session()\n",
    "\n",
    "sess.run(init_vars)"
   ]
  },
  {
   "cell_type": "code",
   "execution_count": 17,
   "metadata": {},
   "outputs": [],
   "source": [
    "batch_size = 1000"
   ]
  },
  {
   "cell_type": "code",
   "execution_count": 18,
   "metadata": {},
   "outputs": [],
   "source": [
    "indices = list(range(n_train))"
   ]
  },
  {
   "cell_type": "code",
   "execution_count": 19,
   "metadata": {},
   "outputs": [],
   "source": [
    "def gen_batch(indices):\n",
    "    np.random.shuffle(indices)\n",
    "    for batch_i in range(int(n_train / batch_size)):\n",
    "        batch_index = indices[batch_i*batch_size: (batch_i+1)*batch_size]\n",
    "        yield X_train_enc[batch_index], Y_train[batch_index]"
   ]
  },
  {
   "cell_type": "code",
   "execution_count": 20,
   "metadata": {},
   "outputs": [
    {
     "name": "stdout",
     "output_type": "stream",
     "text": [
      "Iteration 1, AUC of ROC on training set: 0.751233\n",
      "AUC of ROC on testing set: 0.74951583\n",
      "Iteration 2, AUC of ROC on training set: 0.754487\n",
      "AUC of ROC on testing set: 0.7536498\n",
      "Iteration 3, AUC of ROC on training set: 0.757522\n",
      "AUC of ROC on testing set: 0.7570152\n",
      "Iteration 4, AUC of ROC on training set: 0.760221\n",
      "AUC of ROC on testing set: 0.7598135\n",
      "Iteration 5, AUC of ROC on training set: 0.762542\n",
      "AUC of ROC on testing set: 0.76218456\n",
      "Iteration 6, AUC of ROC on training set: 0.764548\n",
      "AUC of ROC on testing set: 0.76422405\n",
      "Iteration 7, AUC of ROC on training set: 0.766393\n",
      "AUC of ROC on testing set: 0.7660935\n",
      "Iteration 8, AUC of ROC on training set: 0.768097\n",
      "AUC of ROC on testing set: 0.7678178\n",
      "Iteration 9, AUC of ROC on training set: 0.769666\n",
      "AUC of ROC on testing set: 0.76940334\n",
      "Iteration 10, AUC of ROC on training set: 0.771129\n",
      "AUC of ROC on testing set: 0.7708833\n",
      "Iteration 11, AUC of ROC on training set: 0.772491\n",
      "AUC of ROC on testing set: 0.7722548\n",
      "Iteration 12, AUC of ROC on training set: 0.773766\n",
      "AUC of ROC on testing set: 0.77354103\n",
      "Iteration 13, AUC of ROC on training set: 0.774992\n",
      "AUC of ROC on testing set: 0.7747779\n",
      "Iteration 14, AUC of ROC on training set: 0.776156\n",
      "AUC of ROC on testing set: 0.77594846\n",
      "Iteration 15, AUC of ROC on training set: 0.777280\n",
      "AUC of ROC on testing set: 0.77708006\n",
      "Iteration 16, AUC of ROC on training set: 0.778346\n",
      "AUC of ROC on testing set: 0.7781546\n",
      "Iteration 17, AUC of ROC on training set: 0.779363\n",
      "AUC of ROC on testing set: 0.779173\n",
      "Iteration 18, AUC of ROC on training set: 0.780338\n",
      "AUC of ROC on testing set: 0.78015256\n",
      "Iteration 19, AUC of ROC on training set: 0.781269\n",
      "AUC of ROC on testing set: 0.7810879\n",
      "Iteration 20, AUC of ROC on training set: 0.782176\n",
      "AUC of ROC on testing set: 0.78200114\n",
      "Iteration 21, AUC of ROC on training set: 0.783045\n",
      "AUC of ROC on testing set: 0.78287303\n",
      "Iteration 22, AUC of ROC on training set: 0.783884\n",
      "AUC of ROC on testing set: 0.7837155\n",
      "Iteration 23, AUC of ROC on training set: 0.784688\n",
      "AUC of ROC on testing set: 0.7845219\n",
      "Iteration 24, AUC of ROC on training set: 0.785466\n",
      "AUC of ROC on testing set: 0.78530365\n",
      "Iteration 25, AUC of ROC on training set: 0.786218\n",
      "AUC of ROC on testing set: 0.78605866\n",
      "Iteration 26, AUC of ROC on training set: 0.786948\n",
      "AUC of ROC on testing set: 0.7867918\n",
      "Iteration 27, AUC of ROC on training set: 0.787656\n",
      "AUC of ROC on testing set: 0.7875035\n",
      "Iteration 28, AUC of ROC on training set: 0.788349\n",
      "AUC of ROC on testing set: 0.7882001\n",
      "Iteration 29, AUC of ROC on training set: 0.789022\n",
      "AUC of ROC on testing set: 0.78887457\n",
      "Iteration 30, AUC of ROC on training set: 0.789655\n",
      "AUC of ROC on testing set: 0.7895114\n",
      "Iteration 31, AUC of ROC on training set: 0.790247\n",
      "AUC of ROC on testing set: 0.7901058\n",
      "Iteration 32, AUC of ROC on training set: 0.790800\n",
      "AUC of ROC on testing set: 0.79066217\n",
      "Iteration 33, AUC of ROC on training set: 0.791319\n",
      "AUC of ROC on testing set: 0.79118395\n",
      "Iteration 34, AUC of ROC on training set: 0.791807\n",
      "AUC of ROC on testing set: 0.7916745\n",
      "Iteration 35, AUC of ROC on training set: 0.792266\n",
      "AUC of ROC on testing set: 0.79213625\n",
      "Iteration 36, AUC of ROC on training set: 0.792699\n",
      "AUC of ROC on testing set: 0.7925719\n",
      "Iteration 37, AUC of ROC on training set: 0.793109\n",
      "AUC of ROC on testing set: 0.7929836\n",
      "Iteration 38, AUC of ROC on training set: 0.793496\n",
      "AUC of ROC on testing set: 0.7933731\n",
      "Iteration 39, AUC of ROC on training set: 0.793863\n",
      "AUC of ROC on testing set: 0.7937423\n",
      "Iteration 40, AUC of ROC on training set: 0.794211\n",
      "AUC of ROC on testing set: 0.7940928\n",
      "Iteration 41, AUC of ROC on training set: 0.794542\n",
      "AUC of ROC on testing set: 0.79442585\n",
      "Iteration 42, AUC of ROC on training set: 0.794856\n",
      "AUC of ROC on testing set: 0.7947427\n",
      "Iteration 43, AUC of ROC on training set: 0.795156\n",
      "AUC of ROC on testing set: 0.79504454\n",
      "Iteration 44, AUC of ROC on training set: 0.795442\n",
      "AUC of ROC on testing set: 0.7953325\n",
      "Iteration 45, AUC of ROC on training set: 0.795715\n",
      "AUC of ROC on testing set: 0.7956074\n",
      "Iteration 46, AUC of ROC on training set: 0.795976\n",
      "AUC of ROC on testing set: 0.79587024\n",
      "Iteration 47, AUC of ROC on training set: 0.796226\n",
      "AUC of ROC on testing set: 0.7961217\n",
      "Iteration 48, AUC of ROC on training set: 0.796465\n",
      "AUC of ROC on testing set: 0.7963625\n",
      "Iteration 49, AUC of ROC on training set: 0.796694\n",
      "AUC of ROC on testing set: 0.79659337\n",
      "Iteration 50, AUC of ROC on training set: 0.796914\n",
      "AUC of ROC on testing set: 0.7968148\n"
     ]
    }
   ],
   "source": [
    "for i in range(1, n_iter + 1):\n",
    "    for X_batch, Y_batch in gen_batch(indices):\n",
    "        _, l = sess.run([train_op, loss_op], feed_dict={x: X_batch.toarray(), y: Y_batch})\n",
    "    acc_train = sess.run(auc, feed_dict={x: X_train_enc.toarray(), y: Y_train})\n",
    "    print('Iteration %i, AUC of ROC on training set: %f' % (i, acc_train))\n",
    "    acc_test = sess.run(auc, feed_dict={x: X_test_enc.toarray(), y: Y_test})\n",
    "    print(\"AUC of ROC on testing set:\", acc_test)"
   ]
  },
  {
   "cell_type": "code",
   "execution_count": 21,
   "metadata": {},
   "outputs": [],
   "source": [
    "#With no feature engineering, we achieved a ROCAUC of almost 80"
   ]
  }
 ],
 "metadata": {
  "kernelspec": {
   "display_name": "conda_python3",
   "language": "python",
   "name": "conda_python3"
  },
  "language_info": {
   "codemirror_mode": {
    "name": "ipython",
    "version": 3
   },
   "file_extension": ".py",
   "mimetype": "text/x-python",
   "name": "python",
   "nbconvert_exporter": "python",
   "pygments_lexer": "ipython3",
   "version": "3.6.5"
  }
 },
 "nbformat": 4,
 "nbformat_minor": 2
}
