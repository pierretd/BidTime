{
 "cells": [
  {
   "cell_type": "markdown",
   "metadata": {},
   "source": [
    "# Avazu CTR Prediction"
   ]
  },
  {
   "cell_type": "markdown",
   "metadata": {},
   "source": [
    "### Model Summaries: The best ROC AUC Score for each model."
   ]
  },
  {
   "cell_type": "markdown",
   "metadata": {},
   "source": [
    "#### Best Logistic Regression: 0.6955\n",
    "\n",
    "#### Best Gradient Boosting: 0.6955\n",
    "\n",
    "### Best Xgboost: 0.7383\n",
    "\n",
    "#### Best Random Forest: 0.7367\n",
    "\n",
    "XGboost had the best perfomance among the models. \n",
    "\n",
    "todo-Comprehensive Plots of model performance, more cross validation and tweaking of cv for better results, add previous CTR as a feature, explore autocorrelation in model, use Mummify to track model changes(https://github.com/maxhumber/mummify)"
   ]
  },
  {
   "cell_type": "markdown",
   "metadata": {},
   "source": [
    "## Examples of comprehensive model performance plots"
   ]
  },
  {
   "cell_type": "markdown",
   "metadata": {},
   "source": [
    "![Model Comparison](https://scikit-learn.org/stable/_images/sphx_glr_plot_feature_transformation_002.png)"
   ]
  },
  {
   "cell_type": "markdown",
   "metadata": {},
   "source": [
    "https://scikit-learn.org/stable/auto_examples/ensemble/plot_feature_transformation.html#sphx-glr-auto-examples-ensemble-plot-feature-transformation-py"
   ]
  },
  {
   "cell_type": "markdown",
   "metadata": {},
   "source": [
    "![Roc Curve](https://scikit-learn.org/stable/_images/sphx_glr_plot_roc_001.png)\n",
    "\n"
   ]
  },
  {
   "cell_type": "markdown",
   "metadata": {},
   "source": [
    "https://scikit-learn.org/stable/auto_examples/model_selection/plot_roc.html#sphx-glr-auto-examples-model-selection-plot-roc-py"
   ]
  },
  {
   "cell_type": "markdown",
   "metadata": {},
   "source": [
    "![Roc Curve-CV](https://scikit-learn.org/stable/_images/sphx_glr_plot_roc_crossval_001.png)\n"
   ]
  },
  {
   "cell_type": "markdown",
   "metadata": {},
   "source": [
    "https://scikit-learn.org/stable/auto_examples/model_selection/plot_roc_crossval.html"
   ]
  },
  {
   "cell_type": "markdown",
   "metadata": {},
   "source": [
    "### XGboost Notes"
   ]
  },
  {
   "cell_type": "markdown",
   "metadata": {},
   "source": [
    "#### What is XGboost?\n",
    "\n",
    "##### Extreme Gradient Boosting\n",
    "\n",
    "Focused on **computational speed** and **model performance**: few frills, but a good amount of advanced features\n",
    "\n",
    "##### Background Information\n",
    "\n",
    "\n",
    "1) Original Creator was doing research on variants of tree boosting. He was looking to combine boosted trees with a conditional random field and found no existing model that satisfied his needs. \n",
    "\n",
    "2) Author states that you cannot be successful with XGboost alone, you need to process data, and feature engineer first. \n",
    "\n",
    "##### Model Features\n",
    "\n",
    "3 forms of gradient boosting are supported:\n",
    "\n",
    "1) **Gradient Boosting**- also called gradient boosting machine(w/ variable learning rate)\n",
    "\n",
    "2) **Stochastic Gradient Boosting**- with subsampling at the row, column, and column per split levels\n",
    "\n",
    "3) **Regularized Gradient Boosting**-with L1 and L2 regularization\n",
    "\n",
    "##### System Features\n",
    "\n",
    "1) **Parallelization** of tree-use all CPY cores during training\n",
    "\n",
    "2) **Distributed Computing** for training large models on a cluster of machines\n",
    "\n",
    "3) **Out of Core Computing** for large datasets that don't fit into memory\n",
    "\n",
    "4) **Cache Optimization** of data structures and algorithms to make best use of hardware\n",
    "\n",
    "##### Algorithm Features\n",
    "\n",
    "1) **Sparse Aware** implementation with automatic handling of missing data values\n",
    "\n",
    "2) **Block Structure** to support the parallelization of tree construction\n",
    "\n",
    "3) **Continued Training** so that you can further boost an already fitted model on new data\n",
    "\n",
    "#### Why use XGB\n",
    "\n",
    "**Execution Speed** and **Model performance**\n",
    "\n",
    "Very Fast, has been benchmarked against other models and performs well against the feild \n",
    "\n",
    "##### Model performance\n",
    "\n",
    "XGB thrives with **structured or tabular datasets** on **classification** and **regression** predictive modeling problems\n",
    "\n",
    "##### What algorithm does it use?\n",
    "\n",
    "**Gradient Boosted Decision Tree**: boosting is an ensemble technique where new models are added to correct errors made by existing models. Models are added sequentially until no further improvements can be made\n",
    "\n",
    "**Gradient Boosting** is an approach where new models are created that predict the residuals or errors of prior models then adds them back together to make a final predictions.\n",
    "\n",
    "It’s called **gradient boosting** because it uses a gradient descent algorithm to minimize the loss when adding new models\n",
    "\n"
   ]
  },
  {
   "cell_type": "markdown",
   "metadata": {},
   "source": [
    "## Bidding Strategy"
   ]
  },
  {
   "cell_type": "markdown",
   "metadata": {},
   "source": [
    "If we combine the partial depencies that generate the most clicks, we should be able to create a bidding strategy that optimizes for clicks. Some features, such as the time or day jump out, but have to factor in the potential higher cost of buying ads when people are clicking as well. If all ads cost the same regardless of time or device, we could simply find the highest click through rate for each feature and optimizee a model to those parameters.\n",
    "\n",
    "todo-expand on this idea and plot all the partial dependencies. Explore relationship between dependencies. Get an average cost for ads depending on features."
   ]
  },
  {
   "cell_type": "markdown",
   "metadata": {},
   "source": [
    "## Imports"
   ]
  },
  {
   "cell_type": "markdown",
   "metadata": {},
   "source": [
    "### Import Libraries"
   ]
  },
  {
   "cell_type": "code",
   "execution_count": 222,
   "metadata": {},
   "outputs": [],
   "source": [
    "import pandas as pd\n",
    "import numpy as np\n",
    "import matplotlib\n",
    "import matplotlib.pyplot as plt\n",
    "import seaborn\n",
    "import sklearn\n",
    "import matplotlib.dates as mdates\n",
    "import random\n",
    "import datetime\n",
    "from sklearn.model_selection import train_test_split\n",
    "from sklearn.model_selection import StratifiedKFold, GridSearchCV\n",
    "from sklearn.linear_model import LogisticRegression\n",
    "from sklearn.feature_selection import SelectFromModel\n",
    "from sklearn.metrics import roc_curve, roc_auc_score, confusion_matrix, classification_report, roc_curve\n",
    "from sklearn.preprocessing import OneHotEncoder"
   ]
  },
  {
   "cell_type": "markdown",
   "metadata": {},
   "source": [
    "### Ignore Warnings"
   ]
  },
  {
   "cell_type": "code",
   "execution_count": 223,
   "metadata": {},
   "outputs": [],
   "source": [
    "'''Ignore Warning Messages'''\n",
    "import warnings\n",
    "warnings.filterwarnings('ignore')"
   ]
  },
  {
   "cell_type": "markdown",
   "metadata": {},
   "source": [
    "### Matplotlib Style"
   ]
  },
  {
   "cell_type": "code",
   "execution_count": 224,
   "metadata": {},
   "outputs": [],
   "source": [
    "'''Set style to GGplot for asthetics'''\n",
    "matplotlib.style.use('ggplot')\n"
   ]
  },
  {
   "cell_type": "markdown",
   "metadata": {},
   "source": [
    "### Sample and Import Dataset"
   ]
  },
  {
   "cell_type": "code",
   "execution_count": 225,
   "metadata": {},
   "outputs": [],
   "source": [
    "''' Sample from Training Data down to 1 million records'''\n",
    "\n",
    "n = 40428966  #total number of records in the dataset \n",
    "sample_size = 1000000\n",
    "skip_values = sorted(random.sample(range(1,n), n-sample_size)) \n",
    "\n",
    "#Tracking the indices of rows to be skipped at random"
   ]
  },
  {
   "cell_type": "code",
   "execution_count": 226,
   "metadata": {},
   "outputs": [],
   "source": [
    "df = pd.read_csv('train.csv', skiprows = skip_values)"
   ]
  },
  {
   "cell_type": "markdown",
   "metadata": {},
   "source": [
    "## Data Prepation"
   ]
  },
  {
   "cell_type": "markdown",
   "metadata": {},
   "source": [
    "### Date Time conversion with Hour feature"
   ]
  },
  {
   "cell_type": "code",
   "execution_count": 227,
   "metadata": {},
   "outputs": [],
   "source": [
    "def datesplit(originalDate):\n",
    "    originalDate = str(originalDate)\n",
    "    \n",
    "    year = int(\"20\" + originalDate[0:2])\n",
    "    month = int(originalDate[2:4])\n",
    "    day = int(originalDate[4:6])\n",
    "    hour = int(originalDate[6:8])\n",
    "    \n",
    "    return datetime.datetime(year, month, day, hour)"
   ]
  },
  {
   "cell_type": "markdown",
   "metadata": {},
   "source": [
    "### Create weekday and datetime from hour"
   ]
  },
  {
   "cell_type": "code",
   "execution_count": 228,
   "metadata": {},
   "outputs": [],
   "source": [
    "df['weekday'] = df['hour'].apply(lambda x : datesplit(x).weekday()) "
   ]
  },
  {
   "cell_type": "code",
   "execution_count": 229,
   "metadata": {},
   "outputs": [],
   "source": [
    "df['hour'] = df['hour'].apply(lambda x : datesplit(x).hour)"
   ]
  },
  {
   "cell_type": "markdown",
   "metadata": {},
   "source": [
    "### Vizualizations"
   ]
  },
  {
   "cell_type": "code",
   "execution_count": 230,
   "metadata": {},
   "outputs": [
    {
     "data": {
      "image/png": "[encoded data removed]",
      "text/plain": [
       "<Figure size 864x432 with 1 Axes>"
      ]
     },
     "metadata": {},
     "output_type": "display_data"
    }
   ],
   "source": [
    "plt.figure(figsize=(12,6))\n",
    "plt.plot(df.groupby(df['hour'])['click'].mean())\n",
    "plt.xlabel(\"Hour of the day\")\n",
    "plt.ylabel(\"Click rate\")\n",
    "plt.title(\"Average click rate per hour\")\n",
    "plt.xticks(np.arange(0, 23, step=6), ('Midnight', '6AM', 'Noon', '6PM'))\n",
    "plt.xlim([0.0, 23.0])\n",
    "plt.show()"
   ]
  },
  {
   "cell_type": "markdown",
   "metadata": {},
   "source": [
    "Users click on ads the most around 1 AM, 7AM, and 3PM.\n",
    "They click on ads the least around 4AM, 9AM, and 8 PM.\n",
    "\n",
    "This suggests that the best time to run ads for maximum impressions is just after midnight, but not too late, early in the morning but before the work commute begins, and in the afternoon. This maps well with when workers are least prodcutive at work, the afternoon. During the evening users may be engaging in activities outside of a screen, but later at night they are back on the internet."
   ]
  },
  {
   "cell_type": "code",
   "execution_count": 231,
   "metadata": {},
   "outputs": [
    {
     "data": {
      "image/png": "[encoded data removed]",
      "text/plain": [
       "<Figure size 864x432 with 1 Axes>"
      ]
     },
     "metadata": {},
     "output_type": "display_data"
    }
   ],
   "source": [
    "plt.figure(figsize=(12,6))\n",
    "plt.plot(df.groupby(df['weekday'])['click'].mean())\n",
    "plt.xlabel(\"Day of the Week\")\n",
    "plt.xticks(np.arange(0, 7, step=1), ('Sunday', 'Monday', 'Tuesday', 'Wednesday', 'Thursday', 'Friday', 'Saturday',))\n",
    "plt.xlim([0.0, 6.0])\n",
    "plt.ylabel(\"Click rate\")\n",
    "plt.title(\"Average click rate per day of the week\")\n",
    "plt.show()"
   ]
  },
  {
   "cell_type": "markdown",
   "metadata": {},
   "source": [
    "Users click on ads the most on the weekend, which suggests that when users have free time, they are spending it online. Tuesday and Monday are the worst days for ads, and as we get closer to the weekend, click rates improve."
   ]
  },
  {
   "cell_type": "markdown",
   "metadata": {},
   "source": [
    "### Variable Encoding"
   ]
  },
  {
   "cell_type": "code",
   "execution_count": 232,
   "metadata": {},
   "outputs": [],
   "source": [
    "model_features = ['hour', 'weekday', 'C1', 'banner_pos', 'site_category', 'app_category', \n",
    "                'device_type', 'device_conn_type', 'C15', 'C16', 'C18', 'C21']"
   ]
  },
  {
   "cell_type": "code",
   "execution_count": 233,
   "metadata": {},
   "outputs": [],
   "source": [
    "model_target = 'click'"
   ]
  },
  {
   "cell_type": "code",
   "execution_count": 234,
   "metadata": {},
   "outputs": [],
   "source": [
    "train_model = df[model_features+[model_target]]"
   ]
  },
  {
   "cell_type": "code",
   "execution_count": 235,
   "metadata": {},
   "outputs": [],
   "source": [
    "train_model = df[model_features+[model_target]]"
   ]
  },
  {
   "cell_type": "code",
   "execution_count": 236,
   "metadata": {},
   "outputs": [],
   "source": [
    "def one_hot_features(data_frame, feature_set):\n",
    "    new_data_frame = pd.get_dummies(data_frame,\n",
    "                                     columns = feature_set,\n",
    "                                    sparse = True)\n",
    "\n",
    "    return new_data_frame"
   ]
  },
  {
   "cell_type": "code",
   "execution_count": 237,
   "metadata": {},
   "outputs": [],
   "source": [
    "train_model = one_hot_features(train_model, ['hour', 'weekday', 'C1', 'banner_pos', 'site_category', 'app_category', 'device_type', 'device_conn_type', 'C15', 'C16', 'C18', 'C21'])"
   ]
  },
  {
   "cell_type": "code",
   "execution_count": 238,
   "metadata": {},
   "outputs": [],
   "source": [
    "model_features = np.array(train_model.columns[train_model.columns!=model_target].tolist())"
   ]
  },
  {
   "cell_type": "code",
   "execution_count": 239,
   "metadata": {},
   "outputs": [],
   "source": [
    "X = train_model[model_features].values"
   ]
  },
  {
   "cell_type": "code",
   "execution_count": 240,
   "metadata": {},
   "outputs": [],
   "source": [
    "y = train_model[model_target].values"
   ]
  },
  {
   "cell_type": "markdown",
   "metadata": {},
   "source": [
    "### Test Train Splt"
   ]
  },
  {
   "cell_type": "code",
   "execution_count": 241,
   "metadata": {},
   "outputs": [],
   "source": [
    "from sklearn.model_selection import train_test_split\n",
    "Xtrain, Xtest, ytrain, ytest = train_test_split(X, y, test_size=0.1,\n",
    "                                                 random_state=100)"
   ]
  },
  {
   "cell_type": "markdown",
   "metadata": {},
   "source": [
    "## Modeling"
   ]
  },
  {
   "cell_type": "markdown",
   "metadata": {},
   "source": [
    "### Linear Regression"
   ]
  },
  {
   "cell_type": "code",
   "execution_count": 242,
   "metadata": {},
   "outputs": [
    {
     "data": {
      "text/plain": [
       "LogisticRegression(C=1.0, class_weight=None, dual=False, fit_intercept=True,\n",
       "          intercept_scaling=1, max_iter=100, multi_class='ovr', n_jobs=1,\n",
       "          penalty='l2', random_state=None, solver='liblinear', tol=0.0001,\n",
       "          verbose=0, warm_start=False)"
      ]
     },
     "execution_count": 242,
     "metadata": {},
     "output_type": "execute_result"
    }
   ],
   "source": [
    "from sklearn.linear_model import LogisticRegression\n",
    "lr = LogisticRegression()\n",
    "lr.fit(X, y)"
   ]
  },
  {
   "cell_type": "code",
   "execution_count": 243,
   "metadata": {},
   "outputs": [],
   "source": [
    "hard = lr.predict(Xtest)\n",
    "soft = lr.predict_proba(Xtest)"
   ]
  },
  {
   "cell_type": "code",
   "execution_count": 244,
   "metadata": {},
   "outputs": [],
   "source": [
    "from sklearn.metrics import roc_curve\n",
    "fpr, tpr, thresholds = roc_curve(ytest, soft[:,1]) "
   ]
  },
  {
   "cell_type": "markdown",
   "metadata": {},
   "source": [
    "#### Plot the roc curve"
   ]
  },
  {
   "cell_type": "code",
   "execution_count": 245,
   "metadata": {},
   "outputs": [
    {
     "name": "stdout",
     "output_type": "stream",
     "text": [
      "The ROC AUC is : 0.677697459257791\n"
     ]
    }
   ],
   "source": [
    "from sklearn.metrics import roc_auc_score\n",
    "print(\"The ROC AUC is : \" + str(roc_auc_score(ytest, soft[:,1])))"
   ]
  },
  {
   "cell_type": "code",
   "execution_count": 246,
   "metadata": {},
   "outputs": [
    {
     "data": {
      "image/png": "[encoded data removed]",
      "text/plain": [
       "<Figure size 864x432 with 1 Axes>"
      ]
     },
     "metadata": {},
     "output_type": "display_data"
    }
   ],
   "source": [
    "plt.figure(figsize=(12,6))\n",
    "plt.plot(fpr, tpr, color='red', lw=2)\n",
    "plt.xlim([0.0, 1.0])\n",
    "plt.ylim([0.0, 1.05])\n",
    "plt.xlabel('False Positive Rate')\n",
    "plt.ylabel('True Positive Rate')\n",
    "plt.title('Linear Regression ROC Curve')\n",
    "plt.show()"
   ]
  },
  {
   "cell_type": "markdown",
   "metadata": {},
   "source": [
    "### Confusion Matrix"
   ]
  },
  {
   "cell_type": "code",
   "execution_count": 247,
   "metadata": {},
   "outputs": [],
   "source": [
    "y_pred = lr.predict(Xtest)\n",
    "predictions = [round(value) for value in y_pred]"
   ]
  },
  {
   "cell_type": "code",
   "execution_count": 248,
   "metadata": {},
   "outputs": [
    {
     "name": "stdout",
     "output_type": "stream",
     "text": [
      "[[83020    87]\n",
      " [16754   140]]\n"
     ]
    }
   ],
   "source": [
    "from sklearn import metrics\n",
    "\n",
    "print(confusion_matrix(ytest, predictions))"
   ]
  },
  {
   "cell_type": "markdown",
   "metadata": {},
   "source": [
    "### Add site and user"
   ]
  },
  {
   "cell_type": "code",
   "execution_count": 249,
   "metadata": {},
   "outputs": [],
   "source": [
    "values = df['device_id'].value_counts().idxmax() \n",
    "\n",
    "df['user'] = np.where(df['device_id'] == values, df['device_ip'] + df['device_model'], df['device_id']) "
   ]
  },
  {
   "cell_type": "code",
   "execution_count": 250,
   "metadata": {},
   "outputs": [],
   "source": [
    "df = df.drop(['device_id', 'device_model', 'device_ip'], axis=1) \n"
   ]
  },
  {
   "cell_type": "code",
   "execution_count": 251,
   "metadata": {},
   "outputs": [],
   "source": [
    "df['site'] = df['site_id'] + df['site_domain'] \n"
   ]
  },
  {
   "cell_type": "code",
   "execution_count": 252,
   "metadata": {},
   "outputs": [],
   "source": [
    "df = df.drop(['site_id', 'site_domain'], axis=1)\n"
   ]
  },
  {
   "cell_type": "markdown",
   "metadata": {},
   "source": [
    "### Create another test train split"
   ]
  },
  {
   "cell_type": "code",
   "execution_count": 253,
   "metadata": {},
   "outputs": [],
   "source": [
    "Xtrain, Xtest, ytrain, ytest = train_test_split(X, y, test_size=0.20, random_state=100)"
   ]
  },
  {
   "cell_type": "code",
   "execution_count": 254,
   "metadata": {},
   "outputs": [],
   "source": [
    "n_ones = np.array(Xtrain.sum(axis=0))\n"
   ]
  },
  {
   "cell_type": "code",
   "execution_count": 255,
   "metadata": {},
   "outputs": [],
   "source": [
    "useful = n_ones > 100 \n"
   ]
  },
  {
   "cell_type": "code",
   "execution_count": 256,
   "metadata": {},
   "outputs": [
    {
     "data": {
      "text/plain": [
       "Counter({True: 148, False: 34})"
      ]
     },
     "execution_count": 256,
     "metadata": {},
     "output_type": "execute_result"
    }
   ],
   "source": [
    "import collections\n",
    "collections.Counter(useful)"
   ]
  },
  {
   "cell_type": "code",
   "execution_count": 257,
   "metadata": {},
   "outputs": [],
   "source": [
    "cols_to_keep = [i*b for i,b in enumerate(useful) if b == True]\n"
   ]
  },
  {
   "cell_type": "code",
   "execution_count": 258,
   "metadata": {},
   "outputs": [],
   "source": [
    "Xtrain = Xtrain[:,cols_to_keep] "
   ]
  },
  {
   "cell_type": "code",
   "execution_count": 259,
   "metadata": {},
   "outputs": [],
   "source": [
    "Xtest = Xtest[:,cols_to_keep]\n"
   ]
  },
  {
   "cell_type": "markdown",
   "metadata": {},
   "source": [
    "### Gradient Boosting"
   ]
  },
  {
   "cell_type": "code",
   "execution_count": 265,
   "metadata": {},
   "outputs": [
    {
     "name": "stdout",
     "output_type": "stream",
     "text": [
      "      Iter       Train Loss   Remaining Time \n",
      "         1           0.8723            2.29m\n",
      "         2           0.8630            2.50m\n",
      "         3           0.8594            2.32m\n",
      "         4           0.8578            2.14m\n",
      "         5           0.8552            2.12m\n",
      "         6           0.8537            2.01m\n",
      "         7           0.8527            1.90m\n",
      "         8           0.8507            1.82m\n",
      "         9           0.8500            1.72m\n",
      "        10           0.8478            1.68m\n",
      "        20           0.8410            1.23m\n",
      "        30           0.8389           47.31s\n",
      "        40           0.8363           23.58s\n",
      "        50           0.8349            0.00s\n"
     ]
    },
    {
     "data": {
      "text/plain": [
       "GradientBoostingClassifier(criterion='friedman_mse', init=None,\n",
       "              learning_rate=0.8, loss='deviance', max_depth=3,\n",
       "              max_features=None, max_leaf_nodes=None,\n",
       "              min_impurity_decrease=0.0, min_impurity_split=None,\n",
       "              min_samples_leaf=1, min_samples_split=2,\n",
       "              min_weight_fraction_leaf=0.0, n_estimators=50,\n",
       "              presort='auto', random_state=None, subsample=1.0,\n",
       "              verbose=True, warm_start=False)"
      ]
     },
     "execution_count": 265,
     "metadata": {},
     "output_type": "execute_result"
    }
   ],
   "source": [
    "from sklearn.ensemble import GradientBoostingClassifier\n",
    "gb = GradientBoostingClassifier(n_estimators=50, learning_rate = 0.8, verbose=True) \n",
    "gb.fit(Xtrain, ytrain)"
   ]
  },
  {
   "cell_type": "code",
   "execution_count": 266,
   "metadata": {},
   "outputs": [
    {
     "name": "stdout",
     "output_type": "stream",
     "text": [
      "The ROC AUC is : 0.697080438973394\n"
     ]
    }
   ],
   "source": [
    "soft = gb.predict_proba(Xtest)\n",
    "print(\"The ROC AUC is : \" + str(roc_auc_score(ytest, soft[:,1])))"
   ]
  },
  {
   "cell_type": "code",
   "execution_count": 267,
   "metadata": {},
   "outputs": [
    {
     "name": "stdout",
     "output_type": "stream",
     "text": [
      "[[165889    179]\n",
      " [ 33631    302]]\n"
     ]
    }
   ],
   "source": [
    "y_pred = lr.predict(Xtest)\n",
    "predictions = [round(value) for value in y_pred]\n",
    "print(confusion_matrix(ytest, predictions))"
   ]
  },
  {
   "cell_type": "code",
   "execution_count": 271,
   "metadata": {},
   "outputs": [
    {
     "data": {
      "text/plain": [
       "GradientBoostingClassifier(criterion='friedman_mse', init=None,\n",
       "              learning_rate=0.8, loss='deviance', max_depth=3,\n",
       "              max_features=None, max_leaf_nodes=None,\n",
       "              min_impurity_decrease=0.0, min_impurity_split=None,\n",
       "              min_samples_leaf=1, min_samples_split=2,\n",
       "              min_weight_fraction_leaf=0.0, n_estimators=50,\n",
       "              presort='auto', random_state=None, subsample=1.0,\n",
       "              verbose=False, warm_start=False)"
      ]
     },
     "execution_count": 271,
     "metadata": {},
     "output_type": "execute_result"
    }
   ],
   "source": [
    "from sklearn.ensemble import GradientBoostingClassifier\n",
    "gb = GradientBoostingClassifier(n_estimators=50, learning_rate = 0.8, verbose=False,) \n",
    "gb.fit(Xtrain, ytrain)"
   ]
  },
  {
   "cell_type": "code",
   "execution_count": 272,
   "metadata": {},
   "outputs": [
    {
     "name": "stdout",
     "output_type": "stream",
     "text": [
      "The ROC AUC is : 0.6970920180067104\n"
     ]
    }
   ],
   "source": [
    "soft = gb.predict_proba(Xtest)\n",
    "print(\"The ROC AUC is : \" + str(roc_auc_score(ytest, soft[:,1])))"
   ]
  },
  {
   "cell_type": "markdown",
   "metadata": {},
   "source": [
    "### Create leaves from gradient boosting"
   ]
  },
  {
   "cell_type": "code",
   "execution_count": 273,
   "metadata": {},
   "outputs": [],
   "source": [
    "leaves_train = gb.apply(Xtrain)[:,:,0] \n",
    "leaves_test = gb.apply(Xtest)[:,:,0] "
   ]
  },
  {
   "cell_type": "code",
   "execution_count": 274,
   "metadata": {},
   "outputs": [],
   "source": [
    "leaves_train = pd.DataFrame(leaves_train) \n",
    "leaves_test = pd.DataFrame(leaves_test)"
   ]
  },
  {
   "cell_type": "markdown",
   "metadata": {},
   "source": [
    "### Encoding"
   ]
  },
  {
   "cell_type": "code",
   "execution_count": 275,
   "metadata": {},
   "outputs": [],
   "source": [
    "encoder = OneHotEncoder(handle_unknown = 'ignore') \n",
    "leaves_train_encoded = encoder.fit_transform(leaves_train)\n",
    "leaves_test_encoded = encoder.transform(leaves_test)"
   ]
  },
  {
   "cell_type": "code",
   "execution_count": 276,
   "metadata": {},
   "outputs": [],
   "source": [
    "from scipy.sparse import csr_matrix, hstack\n",
    "Xtrain_hstack = hstack([ Xtrain, leaves_train_encoded]) "
   ]
  },
  {
   "cell_type": "code",
   "execution_count": 277,
   "metadata": {},
   "outputs": [],
   "source": [
    "Xtest_hstack = hstack([ Xtest, leaves_test_encoded])"
   ]
  },
  {
   "cell_type": "markdown",
   "metadata": {},
   "source": [
    "### Logistic Regression on new data"
   ]
  },
  {
   "cell_type": "code",
   "execution_count": 278,
   "metadata": {},
   "outputs": [
    {
     "data": {
      "text/plain": [
       "0.6970920180067104"
      ]
     },
     "execution_count": 278,
     "metadata": {},
     "output_type": "execute_result"
    }
   ],
   "source": [
    "lr = LogisticRegression()\n",
    "lr.fit(Xtrain_hstack, ytrain)\n",
    "lr.predict(Xtest_hstack)\n",
    "soft = gb.predict_proba(Xtest)\n",
    "roc_auc_score(ytest, soft[:,1])"
   ]
  },
  {
   "cell_type": "markdown",
   "metadata": {},
   "source": [
    "### XGBoost"
   ]
  },
  {
   "cell_type": "code",
   "execution_count": 280,
   "metadata": {},
   "outputs": [
    {
     "data": {
      "text/plain": [
       "XGBClassifier(base_score=0.5, booster='gbtree', colsample_bylevel=1,\n",
       "       colsample_bytree=1, gamma=0, learning_rate=0.8, max_delta_step=0,\n",
       "       max_depth=3, min_child_weight=1, missing=None, n_estimators=50,\n",
       "       n_jobs=-1, nthread=None, objective='binary:logistic',\n",
       "       random_state=0, reg_alpha=0, reg_lambda=1, scale_pos_weight=1,\n",
       "       seed=None, silent=True, subsample=1)"
      ]
     },
     "execution_count": 280,
     "metadata": {},
     "output_type": "execute_result"
    }
   ],
   "source": [
    "#!pip install xgboost-for first time running\n",
    "from xgboost import XGBClassifier\n",
    "xgb = XGBClassifier(n_estimators = 50,n_jobs = -1,learning_rate = 0.8)\n",
    "xgb.fit(Xtrain_hstack, ytrain)"
   ]
  },
  {
   "cell_type": "code",
   "execution_count": 281,
   "metadata": {},
   "outputs": [
    {
     "name": "stdout",
     "output_type": "stream",
     "text": [
      "The ROC AUC is : 0.6999213446825477\n"
     ]
    }
   ],
   "source": [
    "xgb.predict(Xtrain_hstack)\n",
    "soft = xgb.predict_proba(Xtest_hstack)\n",
    "print(\"The ROC AUC is : \" + str(roc_auc_score(ytest, soft[:,1])))"
   ]
  },
  {
   "cell_type": "code",
   "execution_count": 282,
   "metadata": {},
   "outputs": [
    {
     "name": "stdout",
     "output_type": "stream",
     "text": [
      "[[165051   1017]\n",
      " [ 32534   1399]]\n"
     ]
    }
   ],
   "source": [
    "y_pred = xgb.predict(Xtest_hstack)\n",
    "predictions = [round(value) for value in y_pred]\n",
    "print(confusion_matrix(ytest, predictions))"
   ]
  },
  {
   "cell_type": "markdown",
   "metadata": {},
   "source": [
    "## Hashing"
   ]
  },
  {
   "cell_type": "markdown",
   "metadata": {},
   "source": [
    "### Create new test train split"
   ]
  },
  {
   "cell_type": "code",
   "execution_count": 283,
   "metadata": {},
   "outputs": [],
   "source": [
    "X = df.drop(['click'], axis=1)\n",
    "y = df['click']\n",
    "Xtrain, Xtest, ytrain, ytest = train_test_split(X, y, test_size=0.20, random_state=100)"
   ]
  },
  {
   "cell_type": "markdown",
   "metadata": {},
   "source": [
    "### Hashing Function"
   ]
  },
  {
   "cell_type": "code",
   "execution_count": 284,
   "metadata": {},
   "outputs": [],
   "source": [
    "from sklearn.base import BaseEstimator, TransformerMixin\n",
    "\n",
    "class MergeRareTransformer(BaseEstimator, TransformerMixin):\n",
    "    \n",
    "    def __init__(self, col_names, threshold):\n",
    "        self.col_names = col_names\n",
    "        self.threshold = threshold\n",
    "\n",
    "    def fit(self, X, y=None):\n",
    "\n",
    "        X = pd.DataFrame(X)\n",
    "        counts_dict_list = []\n",
    "        \n",
    "        for i in range(len(self.col_names)):\n",
    "            serie = X[self.col_names[i]].value_counts()  # Series of each column\n",
    "            rare_indexes = serie[serie<self.threshold[i]].index  # The indexes for least frequent features\n",
    "            frequent_indexes = serie[serie>=self.threshold[i]].index  # The indexes for most frequent features\n",
    "            dictionary = {x:'isRare' for x in rare_indexes}\n",
    "            dictionary.update({x: str(x) for x in frequent_indexes})\n",
    "            counts_dict_list.append(dictionary)   # Index for rare and most frequent\n",
    "        self.counts_dict_list_ = counts_dict_list\n",
    "        return self\n",
    "\n",
    "    def transform(self, X):\n",
    "\n",
    "        Xt = pd.DataFrame()\n",
    "                \n",
    "        for col, count_dict in zip(self.col_names, self.counts_dict_list_):\n",
    "            Xt[col] = X[col].apply(lambda x:count_dict[x] if x in count_dict else 'isRare')\n",
    "        # Represent the new features never observed and apply the count_dict to ther rest\n",
    "\n",
    "        return Xt"
   ]
  },
  {
   "cell_type": "code",
   "execution_count": 285,
   "metadata": {},
   "outputs": [],
   "source": [
    "merged = MergeRareTransformer(col_names=Xtrain.columns, threshold=[20]*len(Xtrain.columns))\n",
    "Xtrain_merged = merged.fit_transform(Xtrain)\n",
    "Xtest_merged = merged.transform(Xtest)"
   ]
  },
  {
   "cell_type": "markdown",
   "metadata": {},
   "source": [
    "### Test Hash"
   ]
  },
  {
   "cell_type": "code",
   "execution_count": 286,
   "metadata": {},
   "outputs": [
    {
     "data": {
      "text/plain": [
       "8619595631211765194"
      ]
     },
     "execution_count": 286,
     "metadata": {},
     "output_type": "execute_result"
    }
   ],
   "source": [
    "import hashlib\n",
    "hash('test hash') "
   ]
  },
  {
   "cell_type": "markdown",
   "metadata": {},
   "source": [
    "### Hash the Dataframe"
   ]
  },
  {
   "cell_type": "code",
   "execution_count": 291,
   "metadata": {},
   "outputs": [],
   "source": [
    "Xtrain_hashed = pd.DataFrame()\n",
    "Xtest_hashed = pd.DataFrame()\n",
    "for col in Xtrain_merged.columns:\n",
    "    Xtrain_hashed[col] = Xtrain_merged[col].apply(lambda x : hash(str(x)) % 1000000) \n",
    "    Xtest_hashed[col] = Xtest_merged[col].apply(lambda x : hash( str(x)) % 1000000)"
   ]
  },
  {
   "cell_type": "markdown",
   "metadata": {},
   "source": [
    "### Log of hashed vs original feature dimentionality"
   ]
  },
  {
   "cell_type": "code",
   "execution_count": 292,
   "metadata": {},
   "outputs": [
    {
     "data": {
      "text/html": [
       "<style>\n",
       ".output {\n",
       "    flex-direction: row;\n",
       "}\n",
       "</style>"
      ],
      "text/plain": [
       "<IPython.core.display.HTML object>"
      ]
     },
     "execution_count": 292,
     "metadata": {},
     "output_type": "execute_result"
    }
   ],
   "source": [
    "import pandas as pd\n",
    "import numpy as np\n",
    "from IPython.display import display, HTML\n",
    "\n",
    "CSS = \"\"\"\n",
    ".output {\n",
    "    flex-direction: row;\n",
    "}\n",
    "\"\"\"\n",
    "\n",
    "HTML('<style>{}</style>'.format(CSS))"
   ]
  },
  {
   "cell_type": "code",
   "execution_count": 293,
   "metadata": {},
   "outputs": [
    {
     "data": {
      "text/plain": [
       "id                  800000\n",
       "hour                    24\n",
       "C1                       7\n",
       "banner_pos               7\n",
       "site_category           21\n",
       "app_id                2920\n",
       "app_domain             186\n",
       "app_category            26\n",
       "device_type              5\n",
       "device_conn_type         4\n",
       "C14                   2202\n",
       "C15                      8\n",
       "C16                      9\n",
       "C17                    421\n",
       "C18                      4\n",
       "C19                     65\n",
       "C20                    166\n",
       "C21                     60\n",
       "weekday                  7\n",
       "user                632915\n",
       "site                  5223\n",
       "dtype: int64"
      ]
     },
     "metadata": {},
     "output_type": "display_data"
    },
    {
     "data": {
      "text/plain": [
       "id                     1\n",
       "hour                  24\n",
       "C1                     7\n",
       "banner_pos             7\n",
       "site_category         19\n",
       "app_id               573\n",
       "app_domain            51\n",
       "app_category          19\n",
       "device_type            5\n",
       "device_conn_type       4\n",
       "C14                 1315\n",
       "C15                    8\n",
       "C16                    9\n",
       "C17                  380\n",
       "C18                    4\n",
       "C19                   64\n",
       "C20                  143\n",
       "C21                   60\n",
       "weekday                7\n",
       "user                 734\n",
       "site                 808\n",
       "dtype: int64"
      ]
     },
     "metadata": {},
     "output_type": "display_data"
    }
   ],
   "source": [
    "display(Xtrain.nunique()) \n",
    "\n",
    "display(Xtrain_hashed.nunique())"
   ]
  },
  {
   "cell_type": "markdown",
   "metadata": {},
   "source": [
    "### Random Forests"
   ]
  },
  {
   "cell_type": "code",
   "execution_count": 294,
   "metadata": {},
   "outputs": [
    {
     "data": {
      "text/plain": [
       "RandomForestClassifier(bootstrap=True, class_weight=None, criterion='gini',\n",
       "            max_depth=None, max_features='auto', max_leaf_nodes=None,\n",
       "            min_impurity_decrease=0.0, min_impurity_split=None,\n",
       "            min_samples_leaf=20, min_samples_split=2,\n",
       "            min_weight_fraction_leaf=0.0, n_estimators=1024, n_jobs=-1,\n",
       "            oob_score=False, random_state=None, verbose=False,\n",
       "            warm_start=False)"
      ]
     },
     "execution_count": 294,
     "metadata": {},
     "output_type": "execute_result"
    }
   ],
   "source": [
    "from sklearn.ensemble import RandomForestClassifier\n",
    "rf = RandomForestClassifier(n_estimators = 1024, min_samples_leaf = 20, verbose = False, n_jobs = -1)\n",
    "rf.fit(Xtrain_hashed, ytrain)"
   ]
  },
  {
   "cell_type": "code",
   "execution_count": 295,
   "metadata": {},
   "outputs": [],
   "source": [
    "soft = rf.predict_proba(Xtest_hashed)\n"
   ]
  },
  {
   "cell_type": "code",
   "execution_count": 296,
   "metadata": {},
   "outputs": [
    {
     "name": "stdout",
     "output_type": "stream",
     "text": [
      "The ROC AUC is : 0.7379152180213504\n"
     ]
    }
   ],
   "source": [
    "print(\"The ROC AUC is : \" + str(roc_auc_score(ytest, soft[:,1])))"
   ]
  },
  {
   "cell_type": "code",
   "execution_count": 297,
   "metadata": {},
   "outputs": [],
   "source": [
    "fpr, tpr, thresholds = metrics.roc_curve(ytest, soft[:,1])"
   ]
  },
  {
   "cell_type": "code",
   "execution_count": 298,
   "metadata": {},
   "outputs": [
    {
     "name": "stdout",
     "output_type": "stream",
     "text": [
      "[[164751   1317]\n",
      " [ 31851   2082]]\n"
     ]
    }
   ],
   "source": [
    "y_pred = rf.predict(Xtest_hashed)\n",
    "predictions = [round(value) for value in y_pred]\n",
    "print(confusion_matrix(ytest, predictions))"
   ]
  },
  {
   "cell_type": "code",
   "execution_count": 299,
   "metadata": {},
   "outputs": [
    {
     "name": "stdout",
     "output_type": "stream",
     "text": [
      "             precision    recall  f1-score   support\n",
      "\n",
      "          0       0.84      0.99      0.91    166068\n",
      "          1       0.61      0.06      0.11     33933\n",
      "\n",
      "avg / total       0.80      0.83      0.77    200001\n",
      "\n"
     ]
    }
   ],
   "source": [
    "random_forest_report = print(str(classification_report(ytest, predictions)))"
   ]
  },
  {
   "cell_type": "markdown",
   "metadata": {},
   "source": [
    "### XGboost"
   ]
  },
  {
   "cell_type": "code",
   "execution_count": null,
   "metadata": {},
   "outputs": [],
   "source": [
    "xgb = XGBClassifier(n_estimators = 1024,n_jobs = -1,learning_rate = 1)\n",
    "xgb.fit(Xtrain_hashed, ytrain) \n",
    "soft = xgb.predict_proba(Xtest_hashed)\n",
    "print(\"The ROC AUC is : \" + str(roc_auc_score(ytest, soft[:,1])))"
   ]
  },
  {
   "cell_type": "code",
   "execution_count": null,
   "metadata": {},
   "outputs": [],
   "source": [
    "y_pred = xgb.predict(Xtest_hashed)\n",
    "predictions = [round(value) for value in y_pred]\n",
    "print(confusion_matrix(ytest, predictions))"
   ]
  },
  {
   "cell_type": "code",
   "execution_count": null,
   "metadata": {},
   "outputs": [],
   "source": [
    "fpr, tpr, thresholds = roc_curve(ytest, soft[:,1]) "
   ]
  },
  {
   "cell_type": "code",
   "execution_count": null,
   "metadata": {},
   "outputs": [],
   "source": [
    "xgboost_report = print(str(classification_report(ytest, predictions)))"
   ]
  },
  {
   "cell_type": "code",
   "execution_count": null,
   "metadata": {},
   "outputs": [],
   "source": [
    "plt.figure(figsize=(12,6))\n",
    "plt.plot(fpr, tpr, color='red', lw=2)\n",
    "plt.xlim([0.0, 1.0])\n",
    "plt.ylim([0.0, 1.05])\n",
    "plt.xlabel('False Positive Rate')\n",
    "plt.ylabel('True Positive Rate')\n",
    "plt.title('XGboost ROC Curve')\n",
    "plt.show()"
   ]
  },
  {
   "cell_type": "code",
   "execution_count": null,
   "metadata": {},
   "outputs": [],
   "source": [
    "xgb = XGBClassifier(n_estimators = 1000, n_jobs = -1,learning_rate = .5, min_child_weight= 100, monotone_constraints='(0)')\n",
    "xgb.fit(Xtrain_hashed, ytrain) \n",
    "soft = xgb.predict_proba(Xtest_hashed)\n",
    "print(\"The ROC AUC is : \" + str(roc_auc_score(ytest, soft[:,1])))"
   ]
  },
  {
   "cell_type": "code",
   "execution_count": 130,
   "metadata": {},
   "outputs": [
    {
     "name": "stdout",
     "output_type": "stream",
     "text": [
      "             precision    recall  f1-score   support\n",
      "\n",
      "          0       0.84      0.99      0.91    166089\n",
      "          1       0.57      0.04      0.08     33912\n",
      "\n",
      "avg / total       0.79      0.83      0.77    200001\n",
      "\n"
     ]
    }
   ],
   "source": [
    "print(str(classification_report(ytest, predictions)))"
   ]
  },
  {
   "cell_type": "markdown",
   "metadata": {},
   "source": [
    "### Cross validation-best cv"
   ]
  },
  {
   "cell_type": "code",
   "execution_count": 90,
   "metadata": {},
   "outputs": [],
   "source": [
    "d_train = xgb.DMatrix(Xtrain_hashed, ytrain)\n",
    "d_valid = xgb.DMatrix(Xtest_hashed, ytest)"
   ]
  },
  {
   "cell_type": "code",
   "execution_count": 106,
   "metadata": {},
   "outputs": [],
   "source": [
    "# XGBoost parameters 1\n",
    "params = {\n",
    "    'n_estimators' : 1024,\n",
    "    'n_jobs' : -1,\n",
    "    'learning_rate' : 1,\n",
    "    'eval_metric': 'auc'\n",
    "}\n",
    "\n"
   ]
  },
  {
   "cell_type": "code",
   "execution_count": 140,
   "metadata": {},
   "outputs": [
    {
     "name": "stdout",
     "output_type": "stream",
     "text": [
      "[0]\ttrain-auc:0.672185+0.00105952\ttest-auc:0.671635+0.00275147\n",
      "[100]\ttrain-auc:0.762093+0.00058721\ttest-auc:0.729699+0.00262078\n",
      "[200]\ttrain-auc:0.777474+0.00043057\ttest-auc:0.726112+0.00297126\n",
      "[300]\ttrain-auc:0.7881+0.000473304\ttest-auc:0.722606+0.00285694\n",
      "[400]\ttrain-auc:0.796906+0.000327834\ttest-auc:0.719385+0.00251505\n",
      "[500]\ttrain-auc:0.80401+0.000316801\ttest-auc:0.716457+0.00228233\n",
      "[600]\ttrain-auc:0.810056+0.000360432\ttest-auc:0.714268+0.00204106\n",
      "[700]\ttrain-auc:0.815336+0.000338319\ttest-auc:0.71232+0.00202072\n",
      "[800]\ttrain-auc:0.820206+0.000346611\ttest-auc:0.710391+0.00223985\n",
      "[900]\ttrain-auc:0.824496+0.000343541\ttest-auc:0.708623+0.00227715\n",
      "[1000]\ttrain-auc:0.828391+0.000380154\ttest-auc:0.706804+0.00233694\n",
      "[1100]\ttrain-auc:0.83199+0.000316294\ttest-auc:0.70516+0.00247026\n",
      "[1200]\ttrain-auc:0.83533+0.000404143\ttest-auc:0.70395+0.00257145\n",
      "[1300]\ttrain-auc:0.838397+0.000326448\ttest-auc:0.702894+0.00247952\n",
      "[1400]\ttrain-auc:0.841163+0.000344217\ttest-auc:0.701626+0.0024417\n",
      "[1500]\ttrain-auc:0.843747+0.000313066\ttest-auc:0.700595+0.00238947\n",
      "[1600]\ttrain-auc:0.84617+0.000315352\ttest-auc:0.6994+0.00214659\n",
      "[1700]\ttrain-auc:0.848433+0.000301978\ttest-auc:0.698417+0.00234639\n",
      "[1800]\ttrain-auc:0.850513+0.000301684\ttest-auc:0.697422+0.00232096\n",
      "[1900]\ttrain-auc:0.852572+0.000222644\ttest-auc:0.696359+0.00220016\n",
      "[2000]\ttrain-auc:0.854504+0.000265863\ttest-auc:0.69569+0.00224607\n",
      "[2100]\ttrain-auc:0.856311+0.000325525\ttest-auc:0.694891+0.00210092\n",
      "[2200]\ttrain-auc:0.858017+0.00033534\ttest-auc:0.694029+0.00208317\n",
      "[2300]\ttrain-auc:0.859678+0.000359068\ttest-auc:0.693245+0.00224635\n",
      "[2400]\ttrain-auc:0.861282+0.00035988\ttest-auc:0.692558+0.00216173\n",
      "[2500]\ttrain-auc:0.862769+0.000346154\ttest-auc:0.691779+0.0022441\n",
      "[2600]\ttrain-auc:0.8642+0.000340846\ttest-auc:0.690972+0.00223969\n",
      "[2700]\ttrain-auc:0.865546+0.00033903\ttest-auc:0.690282+0.00235257\n",
      "[2800]\ttrain-auc:0.866842+0.000278369\ttest-auc:0.689734+0.00235403\n",
      "[2900]\ttrain-auc:0.868096+0.000272052\ttest-auc:0.689126+0.00228261\n",
      "[3000]\ttrain-auc:0.869324+0.000292257\ttest-auc:0.688525+0.00230836\n",
      "[3100]\ttrain-auc:0.870459+0.000302189\ttest-auc:0.68789+0.00229059\n",
      "[3200]\ttrain-auc:0.871552+0.000309546\ttest-auc:0.68745+0.0024025\n",
      "[3300]\ttrain-auc:0.87259+0.000304124\ttest-auc:0.686866+0.00247721\n",
      "[3400]\ttrain-auc:0.873599+0.000290875\ttest-auc:0.68618+0.00244119\n",
      "[3500]\ttrain-auc:0.874618+0.000325881\ttest-auc:0.685687+0.00244323\n",
      "[3600]\ttrain-auc:0.875577+0.000322915\ttest-auc:0.685315+0.00233466\n",
      "[3700]\ttrain-auc:0.876527+0.000308068\ttest-auc:0.684974+0.00231577\n",
      "[3800]\ttrain-auc:0.877413+0.000309626\ttest-auc:0.684449+0.00222345\n",
      "[3900]\ttrain-auc:0.878298+0.000304884\ttest-auc:0.683881+0.00209623\n",
      "[4000]\ttrain-auc:0.879142+0.00033361\ttest-auc:0.683469+0.00210897\n",
      "[4100]\ttrain-auc:0.879963+0.000351358\ttest-auc:0.682919+0.00215567\n",
      "[4200]\ttrain-auc:0.880747+0.000317646\ttest-auc:0.68249+0.00219967\n",
      "[4300]\ttrain-auc:0.881495+0.000338781\ttest-auc:0.682092+0.00225091\n",
      "[4400]\ttrain-auc:0.882211+0.00033249\ttest-auc:0.681728+0.0022728\n",
      "[4500]\ttrain-auc:0.88291+0.000323813\ttest-auc:0.681351+0.00219287\n",
      "[4600]\ttrain-auc:0.883604+0.000325148\ttest-auc:0.681019+0.0022001\n",
      "[4700]\ttrain-auc:0.88429+0.000291435\ttest-auc:0.680633+0.00218553\n",
      "[4800]\ttrain-auc:0.884934+0.000298213\ttest-auc:0.680184+0.00222507\n",
      "[4900]\ttrain-auc:0.885562+0.000279028\ttest-auc:0.679799+0.00223431\n",
      "[5000]\ttrain-auc:0.886184+0.000274568\ttest-auc:0.679484+0.00227237\n",
      "[5100]\ttrain-auc:0.886783+0.00026877\ttest-auc:0.679129+0.00231861\n",
      "[5200]\ttrain-auc:0.88736+0.000252996\ttest-auc:0.678832+0.00228323\n",
      "[5300]\ttrain-auc:0.887954+0.000252994\ttest-auc:0.678397+0.00218782\n",
      "[5400]\ttrain-auc:0.888504+0.000244362\ttest-auc:0.678083+0.00221066\n",
      "[5500]\ttrain-auc:0.889054+0.000224636\ttest-auc:0.67782+0.00216064\n",
      "[5600]\ttrain-auc:0.889573+0.00021443\ttest-auc:0.677459+0.00220751\n",
      "[5700]\ttrain-auc:0.890084+0.00021905\ttest-auc:0.677146+0.00225604\n",
      "[5800]\ttrain-auc:0.8906+0.000223603\ttest-auc:0.676851+0.00224441\n",
      "[5900]\ttrain-auc:0.891077+0.000215146\ttest-auc:0.676627+0.0021373\n",
      "[6000]\ttrain-auc:0.891555+0.000208567\ttest-auc:0.676321+0.00221374\n",
      "[6100]\ttrain-auc:0.892031+0.000207486\ttest-auc:0.675998+0.00214834\n",
      "[6200]\ttrain-auc:0.892483+0.000195248\ttest-auc:0.675838+0.00203508\n",
      "[6300]\ttrain-auc:0.892924+0.000199578\ttest-auc:0.675585+0.00209149\n",
      "[6400]\ttrain-auc:0.893379+0.000175725\ttest-auc:0.675275+0.00216432\n",
      "[6500]\ttrain-auc:0.893824+0.000188135\ttest-auc:0.674912+0.00215689\n",
      "[6600]\ttrain-auc:0.894248+0.000199452\ttest-auc:0.674625+0.00210391\n",
      "[6700]\ttrain-auc:0.894671+0.000198237\ttest-auc:0.674346+0.00211599\n",
      "[6800]\ttrain-auc:0.895082+0.000205397\ttest-auc:0.674066+0.00201769\n",
      "[6900]\ttrain-auc:0.895477+0.000200949\ttest-auc:0.673763+0.0019902\n",
      "[7000]\ttrain-auc:0.895869+0.000185634\ttest-auc:0.67356+0.00194903\n",
      "[7100]\ttrain-auc:0.896237+0.000186452\ttest-auc:0.673258+0.00202235\n",
      "[7200]\ttrain-auc:0.896628+0.000178132\ttest-auc:0.672938+0.00206152\n",
      "[7300]\ttrain-auc:0.897014+0.000182438\ttest-auc:0.672696+0.00205707\n",
      "[7400]\ttrain-auc:0.897391+0.000192248\ttest-auc:0.672419+0.00202151\n",
      "[7500]\ttrain-auc:0.897748+0.000194141\ttest-auc:0.672228+0.00201698\n",
      "[7600]\ttrain-auc:0.898082+0.000195092\ttest-auc:0.67204+0.00202993\n",
      "[7700]\ttrain-auc:0.898415+0.000199319\ttest-auc:0.671868+0.00200996\n",
      "[7800]\ttrain-auc:0.898737+0.000194585\ttest-auc:0.67166+0.00206058\n",
      "[7900]\ttrain-auc:0.899067+0.000182853\ttest-auc:0.6714+0.00199857\n",
      "[8000]\ttrain-auc:0.899396+0.000186006\ttest-auc:0.67121+0.00201742\n",
      "[8100]\ttrain-auc:0.899702+0.000186865\ttest-auc:0.671004+0.00207197\n",
      "[8200]\ttrain-auc:0.900011+0.000174461\ttest-auc:0.670716+0.00205165\n",
      "[8300]\ttrain-auc:0.900324+0.00017711\ttest-auc:0.67047+0.00200723\n",
      "[8400]\ttrain-auc:0.900626+0.000165828\ttest-auc:0.670278+0.00202398\n",
      "[8500]\ttrain-auc:0.900911+0.000167508\ttest-auc:0.670185+0.00197313\n",
      "[8600]\ttrain-auc:0.901189+0.000172096\ttest-auc:0.669958+0.00205451\n",
      "[8700]\ttrain-auc:0.90147+0.000162017\ttest-auc:0.669689+0.00201405\n",
      "[8800]\ttrain-auc:0.901767+0.00016056\ttest-auc:0.669504+0.00198748\n",
      "[8900]\ttrain-auc:0.902037+0.000156697\ttest-auc:0.669264+0.00198409\n",
      "[9000]\ttrain-auc:0.902316+0.000153074\ttest-auc:0.669145+0.0019144\n",
      "[9100]\ttrain-auc:0.902582+0.000146809\ttest-auc:0.668973+0.00191235\n",
      "[9200]\ttrain-auc:0.902846+0.000150517\ttest-auc:0.668808+0.00193803\n",
      "[9300]\ttrain-auc:0.903116+0.000162451\ttest-auc:0.668615+0.00197283\n",
      "[9400]\ttrain-auc:0.903382+0.000161615\ttest-auc:0.668382+0.00193906\n",
      "[9500]\ttrain-auc:0.903637+0.000160022\ttest-auc:0.668222+0.00191582\n",
      "[9600]\ttrain-auc:0.903883+0.000151496\ttest-auc:0.668035+0.00190608\n",
      "[9700]\ttrain-auc:0.904125+0.000140439\ttest-auc:0.667804+0.00196433\n",
      "[9800]\ttrain-auc:0.904357+0.000138386\ttest-auc:0.667645+0.00199246\n",
      "[9900]\ttrain-auc:0.904597+0.000139999\ttest-auc:0.66753+0.00199664\n",
      "[9999]\ttrain-auc:0.904823+0.000143278\ttest-auc:0.667361+0.00205375\n"
     ]
    }
   ],
   "source": [
    "# Without early stopping, overfit model\n",
    "bst_cv = xgb.cv(params, d_train, num_boost_round=10000, nfold=10, verbose_eval=100,  early_stopping_rounds=None, as_pandas=True)\n",
    "    "
   ]
  },
  {
   "cell_type": "code",
   "execution_count": 141,
   "metadata": {},
   "outputs": [
    {
     "data": {
      "text/html": [
       "<div>\n",
       "<style scoped>\n",
       "    .dataframe tbody tr th:only-of-type {\n",
       "        vertical-align: middle;\n",
       "    }\n",
       "\n",
       "    .dataframe tbody tr th {\n",
       "        vertical-align: top;\n",
       "    }\n",
       "\n",
       "    .dataframe thead th {\n",
       "        text-align: right;\n",
       "    }\n",
       "</style>\n",
       "<table border=\"1\" class=\"dataframe\">\n",
       "  <thead>\n",
       "    <tr style=\"text-align: right;\">\n",
       "      <th></th>\n",
       "      <th>test-auc-mean</th>\n",
       "      <th>test-auc-std</th>\n",
       "      <th>train-auc-mean</th>\n",
       "      <th>train-auc-std</th>\n",
       "    </tr>\n",
       "  </thead>\n",
       "  <tbody>\n",
       "    <tr>\n",
       "      <th>9995</th>\n",
       "      <td>0.667383</td>\n",
       "      <td>0.002067</td>\n",
       "      <td>0.904816</td>\n",
       "      <td>0.000140</td>\n",
       "    </tr>\n",
       "    <tr>\n",
       "      <th>9996</th>\n",
       "      <td>0.667380</td>\n",
       "      <td>0.002062</td>\n",
       "      <td>0.904817</td>\n",
       "      <td>0.000139</td>\n",
       "    </tr>\n",
       "    <tr>\n",
       "      <th>9997</th>\n",
       "      <td>0.667374</td>\n",
       "      <td>0.002060</td>\n",
       "      <td>0.904819</td>\n",
       "      <td>0.000141</td>\n",
       "    </tr>\n",
       "    <tr>\n",
       "      <th>9998</th>\n",
       "      <td>0.667367</td>\n",
       "      <td>0.002059</td>\n",
       "      <td>0.904822</td>\n",
       "      <td>0.000142</td>\n",
       "    </tr>\n",
       "    <tr>\n",
       "      <th>9999</th>\n",
       "      <td>0.667361</td>\n",
       "      <td>0.002054</td>\n",
       "      <td>0.904823</td>\n",
       "      <td>0.000143</td>\n",
       "    </tr>\n",
       "  </tbody>\n",
       "</table>\n",
       "</div>"
      ],
      "text/plain": [
       "      test-auc-mean  test-auc-std  train-auc-mean  train-auc-std\n",
       "9995       0.667383      0.002067        0.904816       0.000140\n",
       "9996       0.667380      0.002062        0.904817       0.000139\n",
       "9997       0.667374      0.002060        0.904819       0.000141\n",
       "9998       0.667367      0.002059        0.904822       0.000142\n",
       "9999       0.667361      0.002054        0.904823       0.000143"
      ]
     },
     "execution_count": 141,
     "metadata": {},
     "output_type": "execute_result"
    }
   ],
   "source": [
    "bst_cv.tail()"
   ]
  },
  {
   "cell_type": "code",
   "execution_count": 142,
   "metadata": {},
   "outputs": [
    {
     "data": {
      "image/png": "[encoded data removed]",
      "text/plain": [
       "<Figure size 432x288 with 1 Axes>"
      ]
     },
     "metadata": {},
     "output_type": "display_data"
    }
   ],
   "source": [
    "bst_cv[['train-auc-mean', 'test-auc-mean']].plot();"
   ]
  },
  {
   "cell_type": "code",
   "execution_count": 143,
   "metadata": {},
   "outputs": [
    {
     "name": "stdout",
     "output_type": "stream",
     "text": [
      "[0]\teval-auc:0.732289\n"
     ]
    }
   ],
   "source": [
    "print(bst.eval(d_valid))"
   ]
  },
  {
   "cell_type": "code",
   "execution_count": 107,
   "metadata": {},
   "outputs": [
    {
     "name": "stdout",
     "output_type": "stream",
     "text": [
      "[0]\ttrain-auc:0.677451+0.00066328\ttest-auc:0.676628+0.00180714\n"
     ]
    }
   ],
   "source": [
    "# With early stopping. Use CV to find the best number of trees\n",
    "\n",
    "bst_cv = xgb.cv(params, d_train, num_boost_round=1000, nfold=5, verbose_eval=100, early_stopping_rounds=10, as_pandas=True, )"
   ]
  },
  {
   "cell_type": "code",
   "execution_count": 115,
   "metadata": {},
   "outputs": [
    {
     "data": {
      "image/png": "[encoded data removed]",
      "text/plain": [
       "<Figure size 432x288 with 1 Axes>"
      ]
     },
     "metadata": {},
     "output_type": "display_data"
    }
   ],
   "source": [
    "bst_cv[['train-auc-mean', 'test-auc-mean']].plot();"
   ]
  },
  {
   "cell_type": "code",
   "execution_count": 108,
   "metadata": {},
   "outputs": [],
   "source": [
    "bst = xgb.train(params, d_train, num_boost_round=60)\n"
   ]
  },
  {
   "cell_type": "code",
   "execution_count": 109,
   "metadata": {},
   "outputs": [
    {
     "name": "stdout",
     "output_type": "stream",
     "text": [
      "[0]\teval-auc:0.729860\n"
     ]
    }
   ],
   "source": [
    "print(bst.eval(d_valid))"
   ]
  },
  {
   "cell_type": "code",
   "execution_count": 95,
   "metadata": {},
   "outputs": [],
   "source": [
    "%matplotlib inline\n",
    "import matplotlib.pyplot as plt\n",
    "import numpy as np\n",
    "\n",
    "def partial_dependency(bst, X, y, feature):\n",
    "    \"\"\"\n",
    "    Calculate the dependency (or partial dependency) of a response variable on a predictor (or multiple predictors)\n",
    "    1. Sample a grid of values of a predictor.\n",
    "    2. For each value, replace every row of that predictor with this value, calculate the average prediction.\n",
    "    \"\"\"\n",
    "\n",
    "    X_temp = X.copy()\n",
    "    \n",
    "    grid = np.linspace(start=np.percentile(X_temp[feature], 0.1),\n",
    "                       stop=np.percentile(X_temp[feature], 99.5),\n",
    "                       num=50)\n",
    "    \n",
    "    y_pred = np.zeros(len(grid))\n",
    "\n",
    "    for i, value in enumerate(grid):\n",
    "        X_temp[feature] = value\n",
    "        data = xgb.DMatrix(X_temp)\n",
    "        y_pred[i] = np.average(bst.predict(data, ntree_limit=bst.best_ntree_limit))\n",
    "\n",
    "    plt.plot(grid, y_pred, '-', color='red', linewidth=2.5)\n",
    "    plt.plot(X, y, 'o', color='grey', alpha=0.01)\n",
    "    plt.xlim(min(grid), max(grid))\n",
    "    plt.xlabel(feature)\n",
    "    plt.ylabel(y.name)\n",
    "    plt.show()\n"
   ]
  },
  {
   "cell_type": "code",
   "execution_count": 97,
   "metadata": {},
   "outputs": [],
   "source": [
    "features = list(Xtrain_hashed)"
   ]
  },
  {
   "cell_type": "code",
   "execution_count": 98,
   "metadata": {},
   "outputs": [
    {
     "name": "stdout",
     "output_type": "stream",
     "text": [
      "1\n"
     ]
    },
    {
     "data": {
      "image/png": "[encoded data removed]",
      "text/plain": [
       "<Figure size 432x288 with 1 Axes>"
      ]
     },
     "metadata": {},
     "output_type": "display_data"
    }
   ],
   "source": [
    "print(params['learning_rate'])\n",
    "\n",
    "partial_dependency(bst, Xtrain_hashed[features], ytrain, feature='site')"
   ]
  },
  {
   "cell_type": "code",
   "execution_count": 134,
   "metadata": {},
   "outputs": [
    {
     "data": {
      "image/png": "[encoded data removed]",
      "text/plain": [
       "<Figure size 432x288 with 1 Axes>"
      ]
     },
     "metadata": {},
     "output_type": "display_data"
    }
   ],
   "source": [
    "partial_dependency(bst, Xtrain_hashed[features], ytrain, feature='user')"
   ]
  },
  {
   "cell_type": "code",
   "execution_count": 135,
   "metadata": {},
   "outputs": [
    {
     "data": {
      "image/png": "[encoded data removed]",
      "text/plain": [
       "<Figure size 432x288 with 1 Axes>"
      ]
     },
     "metadata": {},
     "output_type": "display_data"
    }
   ],
   "source": [
    "partial_dependency(bst, Xtrain_hashed[features], ytrain, feature='C15')"
   ]
  },
  {
   "cell_type": "code",
   "execution_count": 137,
   "metadata": {},
   "outputs": [
    {
     "data": {
      "image/png": "[encoded data removed]",
      "text/plain": [
       "<Figure size 432x288 with 1 Axes>"
      ]
     },
     "metadata": {},
     "output_type": "display_data"
    }
   ],
   "source": [
    "partial_dependency(bst, Xtrain_hashed[features], ytrain, feature='hour')"
   ]
  },
  {
   "cell_type": "code",
   "execution_count": null,
   "metadata": {},
   "outputs": [],
   "source": [
    "todo-plot all the partial dependencies for bidding strategy"
   ]
  },
  {
   "cell_type": "markdown",
   "metadata": {},
   "source": [
    "## Work in progress- K Folds"
   ]
  },
  {
   "cell_type": "code",
   "execution_count": 86,
   "metadata": {},
   "outputs": [],
   "source": [
    "kfold = 2\n",
    "skf = StratifiedKFold(n_splits=kfold, random_state=65)"
   ]
  },
  {
   "cell_type": "code",
   "execution_count": 92,
   "metadata": {},
   "outputs": [],
   "source": [
    "# XGBoost parameters\n",
    "params = {\n",
    "    'min_child_weight': 10.0,\n",
    "    'objective': 'binary:logistic',\n",
    "    'eval_metric': 'auc',\n",
    "    'max_depth': 5,\n",
    "    'max_delta_step': 1.8,\n",
    "    'colsample_bytree': 0.4,\n",
    "    'subsample': 0.8,\n",
    "    'eta': 0.025,\n",
    "    'gamma': 0.65,\n",
    "    'num_boost_round' : 700\n",
    "    }"
   ]
  },
  {
   "cell_type": "code",
   "execution_count": 93,
   "metadata": {},
   "outputs": [],
   "source": [
    "models_by_fold = []"
   ]
  },
  {
   "cell_type": "code",
   "execution_count": 83,
   "metadata": {},
   "outputs": [
    {
     "name": "stdout",
     "output_type": "stream",
     "text": [
      "[0]\ttrain-auc:0.649499\ttest-auc:0.650687\n",
      "Multiple eval metrics have been passed: 'test-auc' will be used for early stopping.\n",
      "\n",
      "Will train until test-auc hasn't improved in 150 rounds.\n",
      "[100]\ttrain-auc:0.702714\ttest-auc:0.703281\n",
      "[200]\ttrain-auc:0.711897\ttest-auc:0.712006\n",
      "[300]\ttrain-auc:0.718246\ttest-auc:0.717931\n",
      "[400]\ttrain-auc:0.722447\ttest-auc:0.721523\n",
      "[500]\ttrain-auc:0.725956\ttest-auc:0.724632\n",
      "[600]\ttrain-auc:0.72859\ttest-auc:0.726952\n",
      "[700]\ttrain-auc:0.730838\ttest-auc:0.72886\n",
      "[800]\ttrain-auc:0.732783\ttest-auc:0.730476\n",
      "[900]\ttrain-auc:0.734434\ttest-auc:0.731837\n",
      "[1000]\ttrain-auc:0.735766\ttest-auc:0.732853\n",
      "[1100]\ttrain-auc:0.737077\ttest-auc:0.733822\n",
      "[1200]\ttrain-auc:0.738228\ttest-auc:0.734684\n",
      "[1300]\ttrain-auc:0.739227\ttest-auc:0.735396\n",
      "[1400]\ttrain-auc:0.740214\ttest-auc:0.736134\n",
      "[1500]\ttrain-auc:0.741035\ttest-auc:0.736719\n",
      "[1599]\ttrain-auc:0.741813\ttest-auc:0.737225\n",
      "[0]\ttrain-auc:0.649499\ttest-auc:0.650687\n",
      "Multiple eval metrics have been passed: 'test-auc' will be used for early stopping.\n",
      "\n",
      "Will train until test-auc hasn't improved in 150 rounds.\n",
      "[100]\ttrain-auc:0.702714\ttest-auc:0.703281\n",
      "[200]\ttrain-auc:0.711897\ttest-auc:0.712006\n",
      "[300]\ttrain-auc:0.718246\ttest-auc:0.717931\n",
      "[400]\ttrain-auc:0.722447\ttest-auc:0.721523\n",
      "[500]\ttrain-auc:0.725956\ttest-auc:0.724632\n",
      "[600]\ttrain-auc:0.72859\ttest-auc:0.726952\n",
      "[700]\ttrain-auc:0.730838\ttest-auc:0.72886\n",
      "[800]\ttrain-auc:0.732783\ttest-auc:0.730476\n",
      "[900]\ttrain-auc:0.734434\ttest-auc:0.731837\n",
      "[1000]\ttrain-auc:0.735766\ttest-auc:0.732853\n",
      "[1100]\ttrain-auc:0.737077\ttest-auc:0.733822\n",
      "[1200]\ttrain-auc:0.738228\ttest-auc:0.734684\n",
      "[1300]\ttrain-auc:0.739227\ttest-auc:0.735396\n",
      "[1400]\ttrain-auc:0.740214\ttest-auc:0.736134\n",
      "[1500]\ttrain-auc:0.741035\ttest-auc:0.736719\n",
      "[1599]\ttrain-auc:0.741813\ttest-auc:0.737225\n"
     ]
    }
   ],
   "source": [
    "#Kfold 1\n",
    "\n",
    "from sklearn.model_selection import StratifiedKFold \n",
    "import xgboost as xgb\n",
    "# Kfold training\n",
    "for train_index, test_index in skf.split(X, y):\n",
    "    \n",
    "    # Convert data into XGBoost format.\n",
    "    d_train = xgb.DMatrix(Xtrain_hashed, ytrain)\n",
    "    d_valid = xgb.DMatrix(Xtest_hashed, ytest)\n",
    "    \n",
    "    # Watchlist to evaluate results while training.\n",
    "    watchlist = [(d_train, 'train'), (d_valid, 'test')]\n",
    "\n",
    "    # Training this fold\n",
    "    mdl = xgb.train(params, d_train, 1600, watchlist, early_stopping_rounds=150, maximize=True, verbose_eval=100)\n",
    "    \n",
    "    # Add model to the list of models (one for each fold)\n",
    "    models_by_fold.append(mdl)"
   ]
  },
  {
   "cell_type": "code",
   "execution_count": 95,
   "metadata": {},
   "outputs": [
    {
     "name": "stdout",
     "output_type": "stream",
     "text": [
      "[0]\ttrain-auc:0.649499\ttest-auc:0.650687\n",
      "Multiple eval metrics have been passed: 'test-auc' will be used for early stopping.\n",
      "\n",
      "Will train until test-auc hasn't improved in 150 rounds.\n",
      "[100]\ttrain-auc:0.702714\ttest-auc:0.703281\n",
      "[200]\ttrain-auc:0.711897\ttest-auc:0.712006\n",
      "[300]\ttrain-auc:0.718246\ttest-auc:0.717931\n",
      "[400]\ttrain-auc:0.722447\ttest-auc:0.721523\n",
      "[500]\ttrain-auc:0.725956\ttest-auc:0.724632\n",
      "[600]\ttrain-auc:0.72859\ttest-auc:0.726952\n",
      "[700]\ttrain-auc:0.730838\ttest-auc:0.72886\n",
      "[800]\ttrain-auc:0.732783\ttest-auc:0.730476\n",
      "[900]\ttrain-auc:0.734434\ttest-auc:0.731837\n",
      "[1000]\ttrain-auc:0.735766\ttest-auc:0.732853\n",
      "[1100]\ttrain-auc:0.737077\ttest-auc:0.733822\n",
      "[1200]\ttrain-auc:0.738228\ttest-auc:0.734684\n",
      "[1300]\ttrain-auc:0.739227\ttest-auc:0.735396\n",
      "[1400]\ttrain-auc:0.740214\ttest-auc:0.736134\n",
      "[1500]\ttrain-auc:0.741035\ttest-auc:0.736719\n",
      "[1600]\ttrain-auc:0.74183\ttest-auc:0.737234\n",
      "[1700]\ttrain-auc:0.742625\ttest-auc:0.73775\n",
      "[1800]\ttrain-auc:0.743299\ttest-auc:0.738159\n",
      "[1900]\ttrain-auc:0.743972\ttest-auc:0.738584\n",
      "[2000]\ttrain-auc:0.744586\ttest-auc:0.738951\n",
      "[2100]\ttrain-auc:0.745179\ttest-auc:0.739324\n",
      "[2200]\ttrain-auc:0.745767\ttest-auc:0.739678\n",
      "[2300]\ttrain-auc:0.746325\ttest-auc:0.740009\n",
      "[2400]\ttrain-auc:0.746909\ttest-auc:0.740407\n",
      "[2500]\ttrain-auc:0.747401\ttest-auc:0.740649\n",
      "[2600]\ttrain-auc:0.747929\ttest-auc:0.740923\n",
      "[2700]\ttrain-auc:0.748357\ttest-auc:0.741129\n",
      "[2800]\ttrain-auc:0.74881\ttest-auc:0.741384\n",
      "[2900]\ttrain-auc:0.749194\ttest-auc:0.741536\n",
      "[3000]\ttrain-auc:0.7496\ttest-auc:0.741736\n",
      "[3100]\ttrain-auc:0.749964\ttest-auc:0.741906\n",
      "[3200]\ttrain-auc:0.750334\ttest-auc:0.742079\n",
      "[3300]\ttrain-auc:0.750704\ttest-auc:0.742222\n",
      "[3400]\ttrain-auc:0.751059\ttest-auc:0.742354\n",
      "[3500]\ttrain-auc:0.751391\ttest-auc:0.742508\n",
      "[3600]\ttrain-auc:0.751727\ttest-auc:0.742637\n",
      "[3700]\ttrain-auc:0.752036\ttest-auc:0.742771\n",
      "[3800]\ttrain-auc:0.752348\ttest-auc:0.742897\n",
      "[3900]\ttrain-auc:0.752647\ttest-auc:0.742987\n",
      "[4000]\ttrain-auc:0.752927\ttest-auc:0.743078\n",
      "[4100]\ttrain-auc:0.753191\ttest-auc:0.743177\n",
      "[4200]\ttrain-auc:0.753466\ttest-auc:0.74326\n",
      "[4300]\ttrain-auc:0.753744\ttest-auc:0.743367\n",
      "[4400]\ttrain-auc:0.753996\ttest-auc:0.743447\n",
      "[4500]\ttrain-auc:0.754274\ttest-auc:0.743528\n",
      "[4600]\ttrain-auc:0.754502\ttest-auc:0.743585\n",
      "[4700]\ttrain-auc:0.754762\ttest-auc:0.743669\n",
      "[4800]\ttrain-auc:0.754977\ttest-auc:0.743739\n",
      "[4900]\ttrain-auc:0.755207\ttest-auc:0.743791\n",
      "[5000]\ttrain-auc:0.755463\ttest-auc:0.743854\n",
      "[5100]\ttrain-auc:0.755676\ttest-auc:0.743908\n",
      "[5200]\ttrain-auc:0.755894\ttest-auc:0.743968\n",
      "[5300]\ttrain-auc:0.756136\ttest-auc:0.744026\n",
      "[5400]\ttrain-auc:0.756359\ttest-auc:0.744055\n",
      "[5500]\ttrain-auc:0.75656\ttest-auc:0.7441\n",
      "[5600]\ttrain-auc:0.75679\ttest-auc:0.744166\n",
      "[5700]\ttrain-auc:0.756993\ttest-auc:0.744182\n",
      "[5800]\ttrain-auc:0.757219\ttest-auc:0.744226\n",
      "[5900]\ttrain-auc:0.757428\ttest-auc:0.744271\n",
      "[6000]\ttrain-auc:0.757637\ttest-auc:0.74433\n",
      "[6100]\ttrain-auc:0.757835\ttest-auc:0.744383\n",
      "[6200]\ttrain-auc:0.758027\ttest-auc:0.74441\n",
      "[6300]\ttrain-auc:0.758234\ttest-auc:0.744447\n",
      "[6400]\ttrain-auc:0.758426\ttest-auc:0.744466\n",
      "[6500]\ttrain-auc:0.758625\ttest-auc:0.744488\n",
      "[6600]\ttrain-auc:0.758798\ttest-auc:0.744502\n",
      "[6700]\ttrain-auc:0.758989\ttest-auc:0.744541\n",
      "[6800]\ttrain-auc:0.759166\ttest-auc:0.744577\n",
      "[6900]\ttrain-auc:0.759344\ttest-auc:0.744595\n",
      "[7000]\ttrain-auc:0.759508\ttest-auc:0.744601\n",
      "[7100]\ttrain-auc:0.759662\ttest-auc:0.744623\n",
      "[7200]\ttrain-auc:0.759821\ttest-auc:0.744643\n",
      "[7300]\ttrain-auc:0.759973\ttest-auc:0.744663\n",
      "[7400]\ttrain-auc:0.760135\ttest-auc:0.744665\n",
      "[7500]\ttrain-auc:0.760305\ttest-auc:0.744696\n",
      "[7600]\ttrain-auc:0.760475\ttest-auc:0.744701\n",
      "[7700]\ttrain-auc:0.76065\ttest-auc:0.744731\n",
      "[7800]\ttrain-auc:0.760782\ttest-auc:0.744745\n",
      "[7900]\ttrain-auc:0.760933\ttest-auc:0.744777\n",
      "[8000]\ttrain-auc:0.76108\ttest-auc:0.744802\n",
      "[8100]\ttrain-auc:0.761241\ttest-auc:0.744797\n",
      "[8200]\ttrain-auc:0.761374\ttest-auc:0.744812\n",
      "[8300]\ttrain-auc:0.76153\ttest-auc:0.744818\n",
      "[8400]\ttrain-auc:0.761681\ttest-auc:0.744848\n",
      "[8500]\ttrain-auc:0.761838\ttest-auc:0.744849\n",
      "[8600]\ttrain-auc:0.761989\ttest-auc:0.744852\n",
      "[8700]\ttrain-auc:0.762121\ttest-auc:0.744864\n",
      "[8800]\ttrain-auc:0.762263\ttest-auc:0.744872\n",
      "[8900]\ttrain-auc:0.762417\ttest-auc:0.744885\n",
      "[9000]\ttrain-auc:0.762564\ttest-auc:0.744881\n",
      "Stopping. Best iteration:\n",
      "[8883]\ttrain-auc:0.76239\ttest-auc:0.744895\n",
      "\n",
      "[0]\ttrain-auc:0.649499\ttest-auc:0.650687\n",
      "Multiple eval metrics have been passed: 'test-auc' will be used for early stopping.\n",
      "\n",
      "Will train until test-auc hasn't improved in 150 rounds.\n",
      "[100]\ttrain-auc:0.702714\ttest-auc:0.703281\n",
      "[200]\ttrain-auc:0.711897\ttest-auc:0.712006\n",
      "[300]\ttrain-auc:0.718246\ttest-auc:0.717931\n",
      "[400]\ttrain-auc:0.722447\ttest-auc:0.721523\n",
      "[500]\ttrain-auc:0.725956\ttest-auc:0.724632\n",
      "[600]\ttrain-auc:0.72859\ttest-auc:0.726952\n",
      "[700]\ttrain-auc:0.730838\ttest-auc:0.72886\n",
      "[800]\ttrain-auc:0.732783\ttest-auc:0.730476\n",
      "[900]\ttrain-auc:0.734434\ttest-auc:0.731837\n",
      "[1000]\ttrain-auc:0.735766\ttest-auc:0.732853\n",
      "[1100]\ttrain-auc:0.737077\ttest-auc:0.733822\n",
      "[1200]\ttrain-auc:0.738228\ttest-auc:0.734684\n",
      "[1300]\ttrain-auc:0.739227\ttest-auc:0.735396\n",
      "[1400]\ttrain-auc:0.740214\ttest-auc:0.736134\n",
      "[1500]\ttrain-auc:0.741035\ttest-auc:0.736719\n",
      "[1600]\ttrain-auc:0.74183\ttest-auc:0.737234\n",
      "[1700]\ttrain-auc:0.742625\ttest-auc:0.73775\n",
      "[1800]\ttrain-auc:0.743299\ttest-auc:0.738159\n",
      "[1900]\ttrain-auc:0.743972\ttest-auc:0.738584\n",
      "[2000]\ttrain-auc:0.744586\ttest-auc:0.738951\n",
      "[2100]\ttrain-auc:0.745179\ttest-auc:0.739324\n",
      "[2200]\ttrain-auc:0.745767\ttest-auc:0.739678\n",
      "[2300]\ttrain-auc:0.746325\ttest-auc:0.740009\n",
      "[2400]\ttrain-auc:0.746909\ttest-auc:0.740407\n",
      "[2500]\ttrain-auc:0.747401\ttest-auc:0.740649\n",
      "[2600]\ttrain-auc:0.747929\ttest-auc:0.740923\n",
      "[2700]\ttrain-auc:0.748357\ttest-auc:0.741129\n",
      "[2800]\ttrain-auc:0.74881\ttest-auc:0.741384\n",
      "[2900]\ttrain-auc:0.749194\ttest-auc:0.741536\n",
      "[3000]\ttrain-auc:0.7496\ttest-auc:0.741736\n",
      "[3100]\ttrain-auc:0.749964\ttest-auc:0.741906\n",
      "[3200]\ttrain-auc:0.750334\ttest-auc:0.742079\n",
      "[3300]\ttrain-auc:0.750704\ttest-auc:0.742222\n",
      "[3400]\ttrain-auc:0.751059\ttest-auc:0.742354\n",
      "[3500]\ttrain-auc:0.751391\ttest-auc:0.742508\n",
      "[3600]\ttrain-auc:0.751727\ttest-auc:0.742637\n",
      "[3700]\ttrain-auc:0.752036\ttest-auc:0.742771\n",
      "[3800]\ttrain-auc:0.752348\ttest-auc:0.742897\n",
      "[3900]\ttrain-auc:0.752647\ttest-auc:0.742987\n",
      "[4000]\ttrain-auc:0.752927\ttest-auc:0.743078\n",
      "[4100]\ttrain-auc:0.753191\ttest-auc:0.743177\n",
      "[4200]\ttrain-auc:0.753466\ttest-auc:0.74326\n",
      "[4300]\ttrain-auc:0.753744\ttest-auc:0.743367\n",
      "[4400]\ttrain-auc:0.753996\ttest-auc:0.743447\n",
      "[4500]\ttrain-auc:0.754274\ttest-auc:0.743528\n",
      "[4600]\ttrain-auc:0.754502\ttest-auc:0.743585\n",
      "[4700]\ttrain-auc:0.754762\ttest-auc:0.743669\n",
      "[4800]\ttrain-auc:0.754977\ttest-auc:0.743739\n",
      "[4900]\ttrain-auc:0.755207\ttest-auc:0.743791\n",
      "[5000]\ttrain-auc:0.755463\ttest-auc:0.743854\n",
      "[5100]\ttrain-auc:0.755676\ttest-auc:0.743908\n",
      "[5200]\ttrain-auc:0.755894\ttest-auc:0.743968\n",
      "[5300]\ttrain-auc:0.756136\ttest-auc:0.744026\n",
      "[5400]\ttrain-auc:0.756359\ttest-auc:0.744055\n",
      "[5500]\ttrain-auc:0.75656\ttest-auc:0.7441\n",
      "[5600]\ttrain-auc:0.75679\ttest-auc:0.744166\n",
      "[5700]\ttrain-auc:0.756993\ttest-auc:0.744182\n",
      "[5800]\ttrain-auc:0.757219\ttest-auc:0.744226\n",
      "[5900]\ttrain-auc:0.757428\ttest-auc:0.744271\n",
      "[6000]\ttrain-auc:0.757637\ttest-auc:0.74433\n",
      "[6100]\ttrain-auc:0.757835\ttest-auc:0.744383\n",
      "[6200]\ttrain-auc:0.758027\ttest-auc:0.74441\n",
      "[6300]\ttrain-auc:0.758234\ttest-auc:0.744447\n",
      "[6400]\ttrain-auc:0.758426\ttest-auc:0.744466\n",
      "[6500]\ttrain-auc:0.758625\ttest-auc:0.744488\n",
      "[6600]\ttrain-auc:0.758798\ttest-auc:0.744502\n",
      "[6700]\ttrain-auc:0.758989\ttest-auc:0.744541\n",
      "[6800]\ttrain-auc:0.759166\ttest-auc:0.744577\n",
      "[6900]\ttrain-auc:0.759344\ttest-auc:0.744595\n",
      "[7000]\ttrain-auc:0.759508\ttest-auc:0.744601\n",
      "[7100]\ttrain-auc:0.759662\ttest-auc:0.744623\n",
      "[7200]\ttrain-auc:0.759821\ttest-auc:0.744643\n",
      "[7300]\ttrain-auc:0.759973\ttest-auc:0.744663\n",
      "[7400]\ttrain-auc:0.760135\ttest-auc:0.744665\n",
      "[7500]\ttrain-auc:0.760305\ttest-auc:0.744696\n",
      "[7600]\ttrain-auc:0.760475\ttest-auc:0.744701\n",
      "[7700]\ttrain-auc:0.76065\ttest-auc:0.744731\n",
      "[7800]\ttrain-auc:0.760782\ttest-auc:0.744745\n",
      "[7900]\ttrain-auc:0.760933\ttest-auc:0.744777\n",
      "[8000]\ttrain-auc:0.76108\ttest-auc:0.744802\n",
      "[8100]\ttrain-auc:0.761241\ttest-auc:0.744797\n",
      "[8200]\ttrain-auc:0.761374\ttest-auc:0.744812\n",
      "[8300]\ttrain-auc:0.76153\ttest-auc:0.744818\n",
      "[8400]\ttrain-auc:0.761681\ttest-auc:0.744848\n",
      "[8500]\ttrain-auc:0.761838\ttest-auc:0.744849\n",
      "[8600]\ttrain-auc:0.761989\ttest-auc:0.744852\n",
      "[8700]\ttrain-auc:0.762121\ttest-auc:0.744864\n",
      "[8800]\ttrain-auc:0.762263\ttest-auc:0.744872\n",
      "[8900]\ttrain-auc:0.762417\ttest-auc:0.744885\n",
      "[9000]\ttrain-auc:0.762564\ttest-auc:0.744881\n",
      "Stopping. Best iteration:\n",
      "[8883]\ttrain-auc:0.76239\ttest-auc:0.744895\n",
      "\n"
     ]
    }
   ],
   "source": [
    "#kfold2\n",
    "\n",
    "from sklearn.model_selection import StratifiedKFold \n",
    "import xgboost as xgb\n",
    "# Kfold training\n",
    "for train_index, test_index in skf.split(X, y):\n",
    "    \n",
    "    # Convert data into XGBoost format.\n",
    "    d_train = xgb.DMatrix(Xtrain_hashed, ytrain)\n",
    "    d_valid = xgb.DMatrix(Xtest_hashed, ytest)\n",
    "    \n",
    "    # Watchlist to evaluate results while training.\n",
    "    watchlist = [(d_train, 'train'), (d_valid, 'test')]\n",
    "\n",
    "    # Training this fold\n",
    "    mdl = xgb.train(params, d_train, 10000, watchlist, early_stopping_rounds=150, maximize=True, verbose_eval=100)\n",
    "    \n",
    "    # Add model to the list of models (one for each fold)\n",
    "    models_by_fold.append(mdl)"
   ]
  },
  {
   "cell_type": "code",
   "execution_count": 86,
   "metadata": {},
   "outputs": [],
   "source": [
    "# XGBoost parameters 2\n",
    "params = {\n",
    "    'n_estimators' : 1024,\n",
    "    'n_jobs' : -1,\n",
    "    'learning_rate' : 1,\n",
    "    'min_child_weight': 10.0,\n",
    "    'objective': 'binary:logistic',\n",
    "    'eval_metric': 'auc',\n",
    "    'max_depth': 5,\n",
    "    'max_delta_step': 1.8,\n",
    "    'colsample_bytree': 0.4,\n",
    "    'subsample': 0.8,\n",
    "    'eta': 0.025,\n",
    "    'gamma': 0.65,\n",
    "    'num_boost_round' : 700\n",
    "    }"
   ]
  },
  {
   "cell_type": "code",
   "execution_count": 87,
   "metadata": {},
   "outputs": [],
   "source": [
    "models_by_fold = []"
   ]
  },
  {
   "cell_type": "code",
   "execution_count": 97,
   "metadata": {},
   "outputs": [
    {
     "name": "stdout",
     "output_type": "stream",
     "text": [
      "[0]\ttrain-auc:0.649499\ttest-auc:0.650687\n",
      "Multiple eval metrics have been passed: 'test-auc' will be used for early stopping.\n",
      "\n",
      "Will train until test-auc hasn't improved in 150 rounds.\n",
      "[100]\ttrain-auc:0.702714\ttest-auc:0.703281\n",
      "[200]\ttrain-auc:0.711897\ttest-auc:0.712006\n",
      "[300]\ttrain-auc:0.718246\ttest-auc:0.717931\n",
      "[400]\ttrain-auc:0.722447\ttest-auc:0.721523\n",
      "[500]\ttrain-auc:0.725956\ttest-auc:0.724632\n",
      "[600]\ttrain-auc:0.72859\ttest-auc:0.726952\n",
      "[700]\ttrain-auc:0.730838\ttest-auc:0.72886\n",
      "[800]\ttrain-auc:0.732783\ttest-auc:0.730476\n",
      "[900]\ttrain-auc:0.734434\ttest-auc:0.731837\n",
      "[1000]\ttrain-auc:0.735766\ttest-auc:0.732853\n",
      "[1100]\ttrain-auc:0.737077\ttest-auc:0.733822\n",
      "[1200]\ttrain-auc:0.738228\ttest-auc:0.734684\n",
      "[1300]\ttrain-auc:0.739227\ttest-auc:0.735396\n",
      "[1400]\ttrain-auc:0.740214\ttest-auc:0.736134\n",
      "[1500]\ttrain-auc:0.741035\ttest-auc:0.736719\n",
      "[1599]\ttrain-auc:0.741813\ttest-auc:0.737225\n",
      "[0]\ttrain-auc:0.649499\ttest-auc:0.650687\n",
      "Multiple eval metrics have been passed: 'test-auc' will be used for early stopping.\n",
      "\n",
      "Will train until test-auc hasn't improved in 150 rounds.\n",
      "[100]\ttrain-auc:0.702714\ttest-auc:0.703281\n",
      "[200]\ttrain-auc:0.711897\ttest-auc:0.712006\n",
      "[300]\ttrain-auc:0.718246\ttest-auc:0.717931\n",
      "[400]\ttrain-auc:0.722447\ttest-auc:0.721523\n",
      "[500]\ttrain-auc:0.725956\ttest-auc:0.724632\n",
      "[600]\ttrain-auc:0.72859\ttest-auc:0.726952\n",
      "[700]\ttrain-auc:0.730838\ttest-auc:0.72886\n",
      "[800]\ttrain-auc:0.732783\ttest-auc:0.730476\n",
      "[900]\ttrain-auc:0.734434\ttest-auc:0.731837\n",
      "[1000]\ttrain-auc:0.735766\ttest-auc:0.732853\n",
      "[1100]\ttrain-auc:0.737077\ttest-auc:0.733822\n",
      "[1200]\ttrain-auc:0.738228\ttest-auc:0.734684\n",
      "[1300]\ttrain-auc:0.739227\ttest-auc:0.735396\n",
      "[1400]\ttrain-auc:0.740214\ttest-auc:0.736134\n",
      "[1500]\ttrain-auc:0.741035\ttest-auc:0.736719\n",
      "[1599]\ttrain-auc:0.741813\ttest-auc:0.737225\n"
     ]
    }
   ],
   "source": [
    "#kfold 3\n",
    "from sklearn.model_selection import StratifiedKFold \n",
    "import xgboost as xgb\n",
    "# Kfold training\n",
    "for train_index, test_index in skf.split(X, y):\n",
    "    \n",
    "    # Convert data into XGBoost format.\n",
    "    d_train = xgb.DMatrix(Xtrain_hashed, ytrain)\n",
    "    d_valid = xgb.DMatrix(Xtest_hashed, ytest)\n",
    "    \n",
    "    # Watchlist to evaluate results while training.\n",
    "    watchlist = [(d_train, 'train'), (d_valid, 'test')]\n",
    "\n",
    "    # Training this fold\n",
    "    mdl = xgb.train(params, d_train, 1600, watchlist, early_stopping_rounds=150, maximize=True, verbose_eval=100)\n",
    "    \n",
    "    # Add model to the list of models (one for each fold)\n",
    "    models_by_fold.append(mdl)"
   ]
  },
  {
   "cell_type": "code",
   "execution_count": null,
   "metadata": {},
   "outputs": [],
   "source": [
    "#kfold 4\n",
    "from sklearn.model_selection import StratifiedKFold \n",
    "import xgboost as xgb\n",
    "# Kfold training\n",
    "for train_index, test_index in skf.split(X, y):\n",
    "    \n",
    "    # Convert data into XGBoost format.\n",
    "    d_train = xgb.DMatrix(Xtrain_hashed, ytrain)\n",
    "    d_valid = xgb.DMatrix(Xtest_hashed, ytest)\n",
    "    \n",
    "    # Watchlist to evaluate results while training.\n",
    "    watchlist = [(d_train, 'train'), (d_valid, 'test')]\n",
    "\n",
    "    # Training this fold\n",
    "    mdl = xgb.train(params, d_train, 10000, watchlist, early_stopping_rounds=150, maximize=True, verbose_eval=100)\n",
    "    \n",
    "    # Add model to the list of models (one for each fold)\n",
    "    models_by_fold.append(mdl)"
   ]
  },
  {
   "cell_type": "code",
   "execution_count": 99,
   "metadata": {},
   "outputs": [],
   "source": [
    "# XGBoost parameters 2\n",
    "params = {\n",
    "    'n_estimators' : 1024,\n",
    "    'n_jobs' : -1,\n",
    "    'learning_rate' : 1,\n",
    "    'eval_metric': 'auc'\n",
    "}"
   ]
  },
  {
   "cell_type": "code",
   "execution_count": 100,
   "metadata": {},
   "outputs": [],
   "source": [
    "models_by_fold = []"
   ]
  },
  {
   "cell_type": "code",
   "execution_count": 101,
   "metadata": {},
   "outputs": [
    {
     "name": "stdout",
     "output_type": "stream",
     "text": [
      "[0]\ttrain-auc:0.671866\ttest-auc:0.673262\n",
      "Multiple eval metrics have been passed: 'test-auc' will be used for early stopping.\n",
      "\n",
      "Will train until test-auc hasn't improved in 150 rounds.\n",
      "[100]\ttrain-auc:0.760513\ttest-auc:0.731713\n",
      "[200]\ttrain-auc:0.774935\ttest-auc:0.728487\n",
      "Stopping. Best iteration:\n",
      "[77]\ttrain-auc:0.756333\ttest-auc:0.732838\n",
      "\n",
      "[0]\ttrain-auc:0.671866\ttest-auc:0.673262\n",
      "Multiple eval metrics have been passed: 'test-auc' will be used for early stopping.\n",
      "\n",
      "Will train until test-auc hasn't improved in 150 rounds.\n",
      "[100]\ttrain-auc:0.760513\ttest-auc:0.731713\n",
      "[200]\ttrain-auc:0.774935\ttest-auc:0.728487\n",
      "Stopping. Best iteration:\n",
      "[77]\ttrain-auc:0.756333\ttest-auc:0.732838\n",
      "\n"
     ]
    }
   ],
   "source": [
    "from sklearn.model_selection import StratifiedKFold \n",
    "import xgboost as xgb\n",
    "# Kfold training\n",
    "for train_index, test_index in skf.split(X, y):\n",
    "    \n",
    "    # Convert data into XGBoost format.\n",
    "    d_train = xgb.DMatrix(Xtrain_hashed, ytrain)\n",
    "    d_valid = xgb.DMatrix(Xtest_hashed, ytest)\n",
    "    \n",
    "    # Watchlist to evaluate results while training.\n",
    "    watchlist = [(d_train, 'train'), (d_valid, 'test')]\n",
    "\n",
    "    # Training this fold\n",
    "    mdl = xgb.train(params, d_train, 1600, watchlist, early_stopping_rounds=150, maximize=True, verbose_eval=100)\n",
    "    \n",
    "    # Add model to the list of models (one for each fold)\n",
    "    models_by_fold.append(mdl)"
   ]
  },
  {
   "cell_type": "code",
   "execution_count": null,
   "metadata": {},
   "outputs": [],
   "source": [
    "n_folds = 5\n",
    "early_stopping = 10\n",
    "params = {'eta': 0.02, 'max_depth': 5, 'subsample': 0.7, 'colsample_bytree': 0.7, 'objective': 'binary:logistic', 'seed': 99, 'silent': 1, 'eval_metric':'auc', 'nthread':4}\n",
    "\n",
    "xg_train = xgb.DMatrix(Xtrain_hashed, label=y_train);\n",
    "\n",
    "cv = xgb.cv(params, xg_train, 5000, nfold=n_folds, early_stopping_rounds=early_stopping, verbose_eval=1)"
   ]
  },
  {
   "cell_type": "markdown",
   "metadata": {},
   "source": [
    "## Work in progess-K folds"
   ]
  },
  {
   "cell_type": "code",
   "execution_count": null,
   "metadata": {},
   "outputs": [],
   "source": [
    "K = 5\n",
    "kf = KFold(n_splits = K, random_state = 3228, shuffle = True)"
   ]
  },
  {
   "cell_type": "code",
   "execution_count": null,
   "metadata": {},
   "outputs": [],
   "source": [
    "for train_index, test_index in kf.split(train):\n",
    "    train_X, valid_X = train[train_index], train[test_index]\n",
    "    train_y, valid_y = target_train[train_index], target_train[test_index]\n",
    "\n",
    "    xgb_params = {'eta': 0.02, 'max_depth': 4, 'subsample': 0.9, 'colsample_bytree': 0.9, 'objective': 'binary:logistic', 'eval_metric': 'auc', 'seed': 99, 'silent': True}\n",
    "\n",
    "    d_train = xgb.DMatrix(train_X, train_y)\n",
    "    d_valid = xgb.DMatrix(valid_X, valid_y)\n",
    "    d_test = xgb.DMatrix(test)\n",
    "    \n",
    "    watchlist = [(d_train, 'train'), (d_valid, 'valid')]\n",
    "    model = xgb.train(xgb_params, d_train, 5000,  watchlist, feval=gini_xgb, maximize=True, verbose_eval=50, early_stopping_rounds=100)\n",
    "                        \n",
    "    xgb_pred = model.predict(d_test)\n",
    "    xgb_preds.append(list(xgb_pred))"
   ]
  }
 ],
 "metadata": {
  "kernelspec": {
   "display_name": "conda_python3",
   "language": "python",
   "name": "conda_python3"
  },
  "language_info": {
   "codemirror_mode": {
    "name": "ipython",
    "version": 3
   },
   "file_extension": ".py",
   "mimetype": "text/x-python",
   "name": "python",
   "nbconvert_exporter": "python",
   "pygments_lexer": "ipython3",
   "version": "3.6.5"
  }
 },
 "nbformat": 4,
 "nbformat_minor": 2
}
