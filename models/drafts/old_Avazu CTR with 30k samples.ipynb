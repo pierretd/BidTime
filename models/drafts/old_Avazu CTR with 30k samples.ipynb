{
 "cells": [
  {
   "cell_type": "markdown",
   "metadata": {},
   "source": [
    "# Avazu CTR Prediction"
   ]
  },
  {
   "cell_type": "markdown",
   "metadata": {},
   "source": [
    "## Imports"
   ]
  },
  {
   "cell_type": "code",
   "execution_count": 216,
   "metadata": {},
   "outputs": [],
   "source": [
    "'''Specifying the necessary imports'''\n",
    "import pandas as pd\n",
    "import numpy as np\n",
    "import matplotlib\n",
    "import matplotlib.pyplot as plt\n",
    "import seaborn\n",
    "import sklearn\n",
    "import matplotlib.dates as mdates\n",
    "import random\n",
    "from sklearn.model_selection import train_test_split\n",
    "from sklearn.model_selection import StratifiedKFold, GridSearchCV\n",
    "from sklearn.linear_model import LogisticRegression\n",
    "from sklearn.feature_selection import SelectFromModel\n",
    "from sklearn.metrics import f1_score, auc"
   ]
  },
  {
   "cell_type": "code",
   "execution_count": 217,
   "metadata": {},
   "outputs": [],
   "source": [
    "'''Ignore Warning Messages'''\n",
    "import warnings\n",
    "warnings.filterwarnings('ignore')"
   ]
  },
  {
   "cell_type": "code",
   "execution_count": 218,
   "metadata": {},
   "outputs": [],
   "source": [
    "'''Set style to GGplot for asthetics'''\n",
    "matplotlib.style.use('ggplot')\n"
   ]
  },
  {
   "cell_type": "code",
   "execution_count": 219,
   "metadata": {},
   "outputs": [],
   "source": [
    "'''Helper function for date column which will be passed in when we import dataset'''\n",
    "parse_date = lambda val : pd.datetime.strptime(val, '%y%m%d%H')"
   ]
  },
  {
   "cell_type": "code",
   "execution_count": 220,
   "metadata": {},
   "outputs": [],
   "source": [
    "''' Sample from Training Data down to 1 million records'''\n",
    "\n",
    "n = 40428966  #total number of records in the clickstream data \n",
    "sample_size = 1000000\n",
    "skip_values = sorted(random.sample(range(1,n), n-sample_size)) \n",
    "\n",
    "#Tracking the indices of rows to be skipped at random in the next stage i.e the LOADING stage \n"
   ]
  },
  {
   "cell_type": "code",
   "execution_count": 221,
   "metadata": {},
   "outputs": [],
   "source": [
    "'''\n",
    "Memory optimization-by changing the int32 to int64-massiely reduced the size of the dataset for faster proccessing\n",
    "'''\n",
    "data_types = {\n",
    "    'id': np.str,\n",
    "    'click': np.bool_,\n",
    "    'hour': np.str,\n",
    "    'C1': np.uint16,\n",
    "    'banner_pos': np.uint16,\n",
    "    'site_id': np.object,\n",
    "    'site_domain': np.object,\n",
    "    'site_category': np.object,\n",
    "    'app_id': np.object,\n",
    "    'app_domain': np.object,\n",
    "    'app_category': np.object,\n",
    "    'device_id': np.object,\n",
    "    'device_ip': np.object,\n",
    "    'device_model': np.object,\n",
    "    'device_type': np.uint16,\n",
    "    'device_conn_type': np.uint16,\n",
    "    'C14': np.uint16,\n",
    "    'C15': np.uint16,\n",
    "    'C16': np.uint16,\n",
    "    'C17': np.uint16,\n",
    "    'C18': np.uint16,\n",
    "    'C19': np.uint16,\n",
    "    'C20': np.uint16,\n",
    "    'C21': np.uint16\n",
    "}\n",
    "\n",
    "train_data = pd.read_csv('train.csv', parse_dates = ['hour'],\n",
    "                        date_parser = parse_date, skiprows = skip_values , \n",
    "                        dtype = data_types )\n",
    "\n",
    "\n"
   ]
  },
  {
   "cell_type": "code",
   "execution_count": 226,
   "metadata": {},
   "outputs": [],
   "source": [
    "'''Create a separate data frame where clicks = 1'''\n",
    "\n",
    "train_data_clicks = train_data[train_data['click']==1]"
   ]
  },
  {
   "cell_type": "code",
   "execution_count": 227,
   "metadata": {},
   "outputs": [],
   "source": [
    "## Feature Engineering"
   ]
  },
  {
   "cell_type": "code",
   "execution_count": 228,
   "metadata": {},
   "outputs": [],
   "source": [
    "''' Click through rate for entire dataset'''\n",
    "rows = train_data.shape[0]\n",
    "\n",
    "click_through_rate = train_data['click'].value_counts()/rows "
   ]
  },
  {
   "cell_type": "code",
   "execution_count": 229,
   "metadata": {},
   "outputs": [
    {
     "data": {
      "text/plain": [
       "count                 1000001\n",
       "unique                    240\n",
       "top       2014-10-22 09:00:00\n",
       "freq                    11083\n",
       "first     2014-10-21 00:00:00\n",
       "last      2014-10-30 23:00:00\n",
       "Name: hour, dtype: object"
      ]
     },
     "execution_count": 229,
     "metadata": {},
     "output_type": "execute_result"
    }
   ],
   "source": [
    "'''Dataset ranges from 2014-10-21 to 2014-10-30-about 9 days'''\n",
    "train_data.hour.describe() \n"
   ]
  },
  {
   "cell_type": "code",
   "execution_count": 230,
   "metadata": {},
   "outputs": [],
   "source": [
    "'''Impressions V/S Clicks'''\n",
    "\n",
    "df_impressions = train_data.groupby('hour').agg({'click':'sum'})\n",
    "\n",
    "df_click = train_data[train_data['click']==1]\n",
    "\n",
    "temp_click = df_click.groupby('hour').agg({'click' : 'sum'})\n",
    "\n"
   ]
  },
  {
   "cell_type": "code",
   "execution_count": 231,
   "metadata": {},
   "outputs": [],
   "source": [
    "''' Create 3 new features based on the results from the cell above\n",
    "     1. hour_in_day-The hour of the event\n",
    "     2. weekday -- What day was the ad clicked\n",
    "     3. Day_name -- Take the specific day from hour\n",
    "'''\n",
    "\n",
    "train_data['hour_in_day'] = train_data['hour'].apply(lambda val : val.hour)\n",
    "train_data_clicks['hour_in_day'] = train_data_clicks['hour'].apply(lambda val : val.hour)\n",
    "\n",
    "train_data['weekday'] = train_data['hour'].apply(lambda val: val.dayofweek)\n",
    "train_data_clicks['weekday'] = train_data_clicks['hour'].apply(lambda val: val.dayofweek)\n",
    "\n",
    "train_data['day_name'] = train_data['hour'].apply(lambda x: x.strftime('%A'))\n",
    "train_data_clicks['day_name'] = train_data_clicks['hour'].apply(lambda x: x.strftime('%A'))\n",
    "\n"
   ]
  },
  {
   "cell_type": "code",
   "execution_count": 232,
   "metadata": {},
   "outputs": [
    {
     "data": {
      "text/plain": [
       "Index(['id', 'click', 'hour', 'C1', 'banner_pos', 'site_id', 'site_domain',\n",
       "       'site_category', 'app_id', 'app_domain', 'app_category', 'device_id',\n",
       "       'device_ip', 'device_model', 'device_type', 'device_conn_type', 'C14',\n",
       "       'C15', 'C16', 'C17', 'C18', 'C19', 'C20', 'C21', 'hour_in_day',\n",
       "       'weekday', 'day_name'],\n",
       "      dtype='object')"
      ]
     },
     "execution_count": 232,
     "metadata": {},
     "output_type": "execute_result"
    }
   ],
   "source": [
    "train_data.columns"
   ]
  },
  {
   "cell_type": "code",
   "execution_count": 233,
   "metadata": {},
   "outputs": [],
   "source": [
    "'''Create a new dataframe from hour'''\n",
    "\n",
    "hour_df = pd.DataFrame() \n",
    "\n",
    "hour_df['hr'] = train_data_clicks[['hour_in_day','click']].groupby(['hour_in_day']).count().reset_index().sort_values('click',ascending=False)['hour_in_day']\n"
   ]
  },
  {
   "cell_type": "code",
   "execution_count": 235,
   "metadata": {},
   "outputs": [],
   "source": [
    "'''Cicks vs hour'''\n",
    "\n",
    "hour_df['pos_clicks'] = train_data_clicks[['hour_in_day','click']].groupby(['hour_in_day']).count().reset_index().sort_values('click',ascending=False)['click']\n",
    "            "
   ]
  },
  {
   "cell_type": "code",
   "execution_count": 236,
   "metadata": {},
   "outputs": [],
   "source": [
    "'''Clicks and impressions vs hours'''\n",
    "\n",
    "hour_df['impressions_total'] = train_data[['hour_in_day','click']].groupby(['hour_in_day']).count().reset_index().sort_values('click',ascending=False)['click']\n",
    "            \n"
   ]
  },
  {
   "cell_type": "code",
   "execution_count": 137,
   "metadata": {},
   "outputs": [],
   "source": []
  },
  {
   "cell_type": "code",
   "execution_count": 237,
   "metadata": {},
   "outputs": [],
   "source": [
    "'''\n",
    "Create click through rate column-multiply by 100 for percentages\n",
    "'''\n",
    "\n",
    "hour_df['click_through_rate'] = 100*hour_df['pos_clicks']/hour_df['impressions_total']"
   ]
  },
  {
   "cell_type": "code",
   "execution_count": 239,
   "metadata": {},
   "outputs": [],
   "source": [
    "banner_df['position'] = train_data_clicks[['banner_pos','click']].groupby(['banner_pos']).count().reset_index().sort_values('click',ascending=False)['banner_pos']"
   ]
  },
  {
   "cell_type": "code",
   "execution_count": 240,
   "metadata": {},
   "outputs": [],
   "source": [
    "banner_df['pos_clicks'] = train_data_clicks[['banner_pos','click']].groupby(['banner_pos']).count().reset_index().sort_values('click',ascending=False)['click']"
   ]
  },
  {
   "cell_type": "code",
   "execution_count": 241,
   "metadata": {},
   "outputs": [],
   "source": [
    "banner_df['total_impressions'] = train_data[['banner_pos','click']].groupby(['banner_pos']).count().reset_index().sort_values('click',ascending=False)['click']"
   ]
  },
  {
   "cell_type": "code",
   "execution_count": 242,
   "metadata": {},
   "outputs": [],
   "source": [
    "banner_df['click_pct'] = 100*banner_df['pos_clicks']/banner_df['total_impressions']\n"
   ]
  },
  {
   "cell_type": "code",
   "execution_count": 243,
   "metadata": {},
   "outputs": [],
   "source": [
    "list_of_banners = banner_df.sort_values(by='click_pct',ascending=False)['position'].tolist()"
   ]
  },
  {
   "cell_type": "code",
   "execution_count": 244,
   "metadata": {},
   "outputs": [],
   "source": [
    "device_temp = train_data[['device_type','click']].groupby(['device_type','click'])"
   ]
  },
  {
   "cell_type": "code",
   "execution_count": 245,
   "metadata": {},
   "outputs": [],
   "source": [
    "dev_type_df_total_imp.columns = ['device_type', 'click2']\n",
    "\n",
    "merged_df = pd.merge(left = dev_type_df , right = dev_type_df_total_imp,\n",
    "                    how = 'inner', on = 'device_type')\n",
    "\n"
   ]
  },
  {
   "cell_type": "code",
   "execution_count": 246,
   "metadata": {},
   "outputs": [],
   "source": [
    "app_features = ['app_id', 'app_domain', 'app_category']"
   ]
  },
  {
   "cell_type": "code",
   "execution_count": 181,
   "metadata": {},
   "outputs": [],
   "source": [
    "#Todo:Create 3 features"
   ]
  },
  {
   "cell_type": "code",
   "execution_count": null,
   "metadata": {},
   "outputs": [],
   "source": [
    "## Build models"
   ]
  },
  {
   "cell_type": "code",
   "execution_count": 247,
   "metadata": {},
   "outputs": [],
   "source": [
    "### Data Preperation"
   ]
  },
  {
   "cell_type": "code",
   "execution_count": 248,
   "metadata": {},
   "outputs": [],
   "source": [
    "model_features = ['weekday', 'hour_in_day',\n",
    "                  'banner_pos', 'site_category',\n",
    "                  'device_conn_type', 'app_category',\n",
    "                  'device_type']"
   ]
  },
  {
   "cell_type": "code",
   "execution_count": 249,
   "metadata": {},
   "outputs": [],
   "source": [
    "model_target = 'click'"
   ]
  },
  {
   "cell_type": "code",
   "execution_count": 187,
   "metadata": {},
   "outputs": [],
   "source": [
    "'''Use a sample for processing-total entries is 30,000'''\n",
    "train_model = train_data[model_features+[model_target]].sample(frac=0.1,random_state=42)"
   ]
  },
  {
   "cell_type": "code",
   "execution_count": 188,
   "metadata": {},
   "outputs": [],
   "source": [
    "'''One hot encode features for modeling'''\n",
    "def one_hot_features(data_frame, feature_set):\n",
    "    new_data_frame = pd.get_dummies(data_frame,\n",
    "                                     columns = feature_set,\n",
    "                                    sparse = True)\n",
    "\n",
    "    return new_data_frame"
   ]
  },
  {
   "cell_type": "code",
   "execution_count": 189,
   "metadata": {},
   "outputs": [],
   "source": [
    "train_model = one_hot_features(train_model,\n",
    "                                ['site_category',\n",
    "                                 'app_category',\n",
    "                                 'banner_pos'])\n"
   ]
  },
  {
   "cell_type": "code",
   "execution_count": 191,
   "metadata": {},
   "outputs": [],
   "source": [
    "model_features = np.array(train_model.columns[train_model.columns!=model_target].tolist())"
   ]
  },
  {
   "cell_type": "markdown",
   "metadata": {},
   "source": [
    "## Xgboost"
   ]
  },
  {
   "cell_type": "code",
   "execution_count": 250,
   "metadata": {},
   "outputs": [],
   "source": [
    "import xgboost\n",
    "from xgboost import XGBClassifier\n",
    "from sklearn.metrics import classification_report\n"
   ]
  },
  {
   "cell_type": "code",
   "execution_count": 205,
   "metadata": {},
   "outputs": [],
   "source": [
    "'''Create test train split for XGboost'''\n",
    "x_train, x_valid, y_train, y_valid = train_test_split(\n",
    "    x_train,\n",
    "    y_train,\n",
    "    stratify=y_train,\n",
    "    test_size=0.3,\n",
    "    random_state=42)"
   ]
  },
  {
   "cell_type": "code",
   "execution_count": 206,
   "metadata": {},
   "outputs": [],
   "source": [
    "model = XGBClassifier()\n",
    "xgb_clf = model"
   ]
  },
  {
   "cell_type": "code",
   "execution_count": 207,
   "metadata": {},
   "outputs": [
    {
     "name": "stdout",
     "output_type": "stream",
     "text": [
      "[0]\tvalidation_0-auc:0.604403\n",
      "Will train until validation_0-auc hasn't improved in 100 rounds.\n",
      "[1]\tvalidation_0-auc:0.604403\n",
      "[2]\tvalidation_0-auc:0.604403\n",
      "[3]\tvalidation_0-auc:0.604707\n",
      "[4]\tvalidation_0-auc:0.604707\n",
      "[5]\tvalidation_0-auc:0.613264\n",
      "[6]\tvalidation_0-auc:0.61299\n",
      "[7]\tvalidation_0-auc:0.612104\n",
      "[8]\tvalidation_0-auc:0.612029\n",
      "[9]\tvalidation_0-auc:0.613154\n",
      "[10]\tvalidation_0-auc:0.613154\n",
      "[11]\tvalidation_0-auc:0.613171\n",
      "[12]\tvalidation_0-auc:0.613402\n",
      "[13]\tvalidation_0-auc:0.615491\n",
      "[14]\tvalidation_0-auc:0.616976\n",
      "[15]\tvalidation_0-auc:0.616804\n",
      "[16]\tvalidation_0-auc:0.619002\n",
      "[17]\tvalidation_0-auc:0.618989\n",
      "[18]\tvalidation_0-auc:0.619663\n",
      "[19]\tvalidation_0-auc:0.619605\n",
      "[20]\tvalidation_0-auc:0.619919\n",
      "[21]\tvalidation_0-auc:0.619962\n",
      "[22]\tvalidation_0-auc:0.620568\n",
      "[23]\tvalidation_0-auc:0.620509\n",
      "[24]\tvalidation_0-auc:0.620681\n",
      "[25]\tvalidation_0-auc:0.620733\n",
      "[26]\tvalidation_0-auc:0.620812\n",
      "[27]\tvalidation_0-auc:0.619433\n",
      "[28]\tvalidation_0-auc:0.619994\n",
      "[29]\tvalidation_0-auc:0.62135\n",
      "[30]\tvalidation_0-auc:0.621314\n",
      "[31]\tvalidation_0-auc:0.621067\n",
      "[32]\tvalidation_0-auc:0.622047\n",
      "[33]\tvalidation_0-auc:0.625454\n",
      "[34]\tvalidation_0-auc:0.625472\n",
      "[35]\tvalidation_0-auc:0.625516\n",
      "[36]\tvalidation_0-auc:0.625597\n",
      "[37]\tvalidation_0-auc:0.625766\n",
      "[38]\tvalidation_0-auc:0.625853\n",
      "[39]\tvalidation_0-auc:0.627698\n",
      "[40]\tvalidation_0-auc:0.629935\n",
      "[41]\tvalidation_0-auc:0.629833\n",
      "[42]\tvalidation_0-auc:0.630022\n",
      "[43]\tvalidation_0-auc:0.629969\n",
      "[44]\tvalidation_0-auc:0.630005\n",
      "[45]\tvalidation_0-auc:0.630095\n",
      "[46]\tvalidation_0-auc:0.631443\n",
      "[47]\tvalidation_0-auc:0.630637\n",
      "[48]\tvalidation_0-auc:0.630668\n",
      "[49]\tvalidation_0-auc:0.63063\n",
      "[50]\tvalidation_0-auc:0.630637\n",
      "[51]\tvalidation_0-auc:0.630697\n",
      "[52]\tvalidation_0-auc:0.632385\n",
      "[53]\tvalidation_0-auc:0.632749\n",
      "[54]\tvalidation_0-auc:0.63286\n",
      "[55]\tvalidation_0-auc:0.632899\n",
      "[56]\tvalidation_0-auc:0.632361\n",
      "[57]\tvalidation_0-auc:0.632472\n",
      "[58]\tvalidation_0-auc:0.632428\n",
      "[59]\tvalidation_0-auc:0.632389\n",
      "[60]\tvalidation_0-auc:0.6324\n",
      "[61]\tvalidation_0-auc:0.632499\n",
      "[62]\tvalidation_0-auc:0.632732\n",
      "[63]\tvalidation_0-auc:0.632575\n",
      "[64]\tvalidation_0-auc:0.632632\n",
      "[65]\tvalidation_0-auc:0.633546\n",
      "[66]\tvalidation_0-auc:0.633598\n",
      "[67]\tvalidation_0-auc:0.633644\n",
      "[68]\tvalidation_0-auc:0.633848\n",
      "[69]\tvalidation_0-auc:0.633821\n",
      "[70]\tvalidation_0-auc:0.633849\n",
      "[71]\tvalidation_0-auc:0.633927\n",
      "[72]\tvalidation_0-auc:0.63429\n",
      "[73]\tvalidation_0-auc:0.63442\n",
      "[74]\tvalidation_0-auc:0.634213\n",
      "[75]\tvalidation_0-auc:0.634217\n",
      "[76]\tvalidation_0-auc:0.634234\n",
      "[77]\tvalidation_0-auc:0.63423\n",
      "[78]\tvalidation_0-auc:0.63425\n",
      "[79]\tvalidation_0-auc:0.634447\n",
      "[80]\tvalidation_0-auc:0.634853\n",
      "[81]\tvalidation_0-auc:0.634814\n",
      "[82]\tvalidation_0-auc:0.635025\n",
      "[83]\tvalidation_0-auc:0.63501\n",
      "[84]\tvalidation_0-auc:0.634935\n",
      "[85]\tvalidation_0-auc:0.635012\n",
      "[86]\tvalidation_0-auc:0.634813\n",
      "[87]\tvalidation_0-auc:0.634818\n",
      "[88]\tvalidation_0-auc:0.634809\n",
      "[89]\tvalidation_0-auc:0.634782\n",
      "[90]\tvalidation_0-auc:0.635084\n",
      "[91]\tvalidation_0-auc:0.635212\n",
      "[92]\tvalidation_0-auc:0.635264\n",
      "[93]\tvalidation_0-auc:0.635363\n",
      "[94]\tvalidation_0-auc:0.635365\n",
      "[95]\tvalidation_0-auc:0.635275\n",
      "[96]\tvalidation_0-auc:0.635294\n",
      "[97]\tvalidation_0-auc:0.635276\n",
      "[98]\tvalidation_0-auc:0.635563\n",
      "[99]\tvalidation_0-auc:0.635498\n"
     ]
    },
    {
     "data": {
      "text/plain": [
       "XGBClassifier(base_score=0.5, booster='gbtree', colsample_bylevel=1,\n",
       "       colsample_bytree=1, gamma=0, learning_rate=0.1, max_delta_step=0,\n",
       "       max_depth=3, min_child_weight=1, missing=None, n_estimators=100,\n",
       "       n_jobs=1, nthread=None, objective='binary:logistic', random_state=0,\n",
       "       reg_alpha=0, reg_lambda=1, scale_pos_weight=1, seed=None,\n",
       "       silent=True, subsample=1)"
      ]
     },
     "execution_count": 207,
     "metadata": {},
     "output_type": "execute_result"
    }
   ],
   "source": [
    "'''Run model with auc as eval metric'''\n",
    "xgb_clf.fit(x_train, y_train, early_stopping_rounds=100,\n",
    "            eval_metric=\"auc\", eval_set=[(x_valid, y_valid)])"
   ]
  },
  {
   "cell_type": "code",
   "execution_count": 208,
   "metadata": {},
   "outputs": [
    {
     "name": "stdout",
     "output_type": "stream",
     "text": [
      "[0]\tvalidation_0-aucpr:0.235358\n",
      "Will train until validation_0-aucpr hasn't improved in 100 rounds.\n",
      "[1]\tvalidation_0-aucpr:0.235358\n",
      "[2]\tvalidation_0-aucpr:0.235358\n",
      "[3]\tvalidation_0-aucpr:0.235714\n",
      "[4]\tvalidation_0-aucpr:0.235714\n",
      "[5]\tvalidation_0-aucpr:0.24109\n",
      "[6]\tvalidation_0-aucpr:0.240976\n",
      "[7]\tvalidation_0-aucpr:0.240078\n",
      "[8]\tvalidation_0-aucpr:0.240065\n",
      "[9]\tvalidation_0-aucpr:0.241401\n",
      "[10]\tvalidation_0-aucpr:0.241401\n",
      "[11]\tvalidation_0-aucpr:0.241511\n",
      "[12]\tvalidation_0-aucpr:0.241581\n",
      "[13]\tvalidation_0-aucpr:0.240698\n",
      "[14]\tvalidation_0-aucpr:0.241801\n",
      "[15]\tvalidation_0-aucpr:0.241653\n",
      "[16]\tvalidation_0-aucpr:0.242363\n",
      "[17]\tvalidation_0-aucpr:0.241938\n",
      "[18]\tvalidation_0-aucpr:0.242467\n",
      "[19]\tvalidation_0-aucpr:0.242455\n",
      "[20]\tvalidation_0-aucpr:0.242605\n",
      "[21]\tvalidation_0-aucpr:0.242613\n",
      "[22]\tvalidation_0-aucpr:0.242542\n",
      "[23]\tvalidation_0-aucpr:0.242531\n",
      "[24]\tvalidation_0-aucpr:0.242759\n",
      "[25]\tvalidation_0-aucpr:0.242768\n",
      "[26]\tvalidation_0-aucpr:0.242782\n",
      "[27]\tvalidation_0-aucpr:0.242587\n",
      "[28]\tvalidation_0-aucpr:0.242807\n",
      "[29]\tvalidation_0-aucpr:0.243362\n",
      "[30]\tvalidation_0-aucpr:0.243352\n",
      "[31]\tvalidation_0-aucpr:0.243764\n",
      "[32]\tvalidation_0-aucpr:0.24402\n",
      "[33]\tvalidation_0-aucpr:0.246241\n",
      "[34]\tvalidation_0-aucpr:0.246246\n",
      "[35]\tvalidation_0-aucpr:0.246253\n",
      "[36]\tvalidation_0-aucpr:0.246071\n",
      "[37]\tvalidation_0-aucpr:0.246105\n",
      "[38]\tvalidation_0-aucpr:0.246127\n",
      "[39]\tvalidation_0-aucpr:0.246851\n",
      "[40]\tvalidation_0-aucpr:0.248464\n",
      "[41]\tvalidation_0-aucpr:0.248443\n",
      "[42]\tvalidation_0-aucpr:0.249007\n",
      "[43]\tvalidation_0-aucpr:0.249134\n",
      "[44]\tvalidation_0-aucpr:0.249142\n",
      "[45]\tvalidation_0-aucpr:0.248879\n",
      "[46]\tvalidation_0-aucpr:0.250087\n",
      "[47]\tvalidation_0-aucpr:0.249419\n",
      "[48]\tvalidation_0-aucpr:0.249426\n",
      "[49]\tvalidation_0-aucpr:0.249129\n",
      "[50]\tvalidation_0-aucpr:0.24913\n",
      "[51]\tvalidation_0-aucpr:0.249722\n",
      "[52]\tvalidation_0-aucpr:0.251316\n",
      "[53]\tvalidation_0-aucpr:0.251591\n",
      "[54]\tvalidation_0-aucpr:0.251516\n",
      "[55]\tvalidation_0-aucpr:0.251524\n",
      "[56]\tvalidation_0-aucpr:0.251269\n",
      "[57]\tvalidation_0-aucpr:0.252147\n",
      "[58]\tvalidation_0-aucpr:0.252051\n",
      "[59]\tvalidation_0-aucpr:0.2513\n",
      "[60]\tvalidation_0-aucpr:0.2513\n",
      "[61]\tvalidation_0-aucpr:0.25183\n",
      "[62]\tvalidation_0-aucpr:0.252042\n",
      "[63]\tvalidation_0-aucpr:0.25202\n",
      "[64]\tvalidation_0-aucpr:0.251963\n",
      "[65]\tvalidation_0-aucpr:0.25295\n",
      "[66]\tvalidation_0-aucpr:0.253099\n",
      "[67]\tvalidation_0-aucpr:0.253124\n",
      "[68]\tvalidation_0-aucpr:0.253309\n",
      "[69]\tvalidation_0-aucpr:0.25323\n",
      "[70]\tvalidation_0-aucpr:0.253268\n",
      "[71]\tvalidation_0-aucpr:0.253285\n",
      "[72]\tvalidation_0-aucpr:0.253673\n",
      "[73]\tvalidation_0-aucpr:0.253774\n",
      "[74]\tvalidation_0-aucpr:0.253807\n",
      "[75]\tvalidation_0-aucpr:0.253786\n",
      "[76]\tvalidation_0-aucpr:0.253834\n",
      "[77]\tvalidation_0-aucpr:0.253834\n",
      "[78]\tvalidation_0-aucpr:0.25388\n",
      "[79]\tvalidation_0-aucpr:0.254139\n",
      "[80]\tvalidation_0-aucpr:0.254385\n",
      "[81]\tvalidation_0-aucpr:0.254308\n",
      "[82]\tvalidation_0-aucpr:0.25465\n",
      "[83]\tvalidation_0-aucpr:0.254628\n",
      "[84]\tvalidation_0-aucpr:0.254634\n",
      "[85]\tvalidation_0-aucpr:0.254539\n",
      "[86]\tvalidation_0-aucpr:0.254485\n",
      "[87]\tvalidation_0-aucpr:0.254513\n",
      "[88]\tvalidation_0-aucpr:0.254534\n",
      "[89]\tvalidation_0-aucpr:0.254478\n",
      "[90]\tvalidation_0-aucpr:0.254666\n",
      "[91]\tvalidation_0-aucpr:0.25488\n",
      "[92]\tvalidation_0-aucpr:0.254913\n",
      "[93]\tvalidation_0-aucpr:0.254971\n",
      "[94]\tvalidation_0-aucpr:0.255024\n",
      "[95]\tvalidation_0-aucpr:0.255025\n",
      "[96]\tvalidation_0-aucpr:0.255028\n",
      "[97]\tvalidation_0-aucpr:0.254829\n",
      "[98]\tvalidation_0-aucpr:0.255504\n",
      "[99]\tvalidation_0-aucpr:0.255458\n"
     ]
    },
    {
     "data": {
      "text/plain": [
       "XGBClassifier(base_score=0.5, booster='gbtree', colsample_bylevel=1,\n",
       "       colsample_bytree=1, gamma=0, learning_rate=0.1, max_delta_step=0,\n",
       "       max_depth=3, min_child_weight=1, missing=None, n_estimators=100,\n",
       "       n_jobs=1, nthread=None, objective='binary:logistic', random_state=0,\n",
       "       reg_alpha=0, reg_lambda=1, scale_pos_weight=1, seed=None,\n",
       "       silent=True, subsample=1)"
      ]
     },
     "execution_count": 208,
     "metadata": {},
     "output_type": "execute_result"
    }
   ],
   "source": [
    "'''Run model with aucpr as eval metric'''\n",
    "xgb_clf.fit(x_train, y_train, early_stopping_rounds=100,\n",
    "            eval_metric=\"aucpr\", eval_set=[(x_valid, y_valid)])"
   ]
  },
  {
   "cell_type": "code",
   "execution_count": 209,
   "metadata": {},
   "outputs": [],
   "source": [
    "y_pred = xgb_clf.predict(x_test)\n",
    "predictions = [round(value) for value in y_pred]"
   ]
  },
  {
   "cell_type": "code",
   "execution_count": 254,
   "metadata": {},
   "outputs": [
    {
     "name": "stdout",
     "output_type": "stream",
     "text": [
      "[[24849     3]\n",
      " [ 5143     5]]\n"
     ]
    }
   ],
   "source": [
    "from sklearn import metrics\n",
    "\n",
    "print(metrics.confusion_matrix(y_test, predictions))"
   ]
  },
  {
   "cell_type": "code",
   "execution_count": 251,
   "metadata": {},
   "outputs": [
    {
     "name": "stdout",
     "output_type": "stream",
     "text": [
      "0.5004252681703188\n"
     ]
    }
   ],
   "source": [
    "print(metrics.roc_auc_score(y_test, predictions))\n"
   ]
  },
  {
   "cell_type": "markdown",
   "metadata": {},
   "source": [
    "The model appears to perform when looking at the evaluation metrics, but the confusion matrix suggests otherwise. The Roc Auc score hovers around 50, which suggests the mdoel is not doing a good job of predicting."
   ]
  }
 ],
 "metadata": {
  "kernelspec": {
   "display_name": "conda_python3",
   "language": "python",
   "name": "conda_python3"
  },
  "language_info": {
   "codemirror_mode": {
    "name": "ipython",
    "version": 3
   },
   "file_extension": ".py",
   "mimetype": "text/x-python",
   "name": "python",
   "nbconvert_exporter": "python",
   "pygments_lexer": "ipython3",
   "version": "3.6.5"
  }
 },
 "nbformat": 4,
 "nbformat_minor": 2
}
