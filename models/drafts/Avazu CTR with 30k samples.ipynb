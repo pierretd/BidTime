{
 "cells": [
  {
   "cell_type": "markdown",
   "metadata": {},
   "source": [
    "# Avazu CTR Prediction"
   ]
  },
  {
   "cell_type": "markdown",
   "metadata": {},
   "source": [
    "## Imports"
   ]
  },
  {
   "cell_type": "code",
   "execution_count": 53,
   "metadata": {},
   "outputs": [],
   "source": [
    "'''Specifying the necessary imports'''\n",
    "import pandas as pd\n",
    "import numpy as np\n",
    "import matplotlib\n",
    "import matplotlib.pyplot as plt\n",
    "import seaborn\n",
    "import sklearn\n",
    "import matplotlib.dates as mdates\n",
    "import random\n",
    "from sklearn.model_selection import train_test_split\n",
    "from sklearn.model_selection import StratifiedKFold, GridSearchCV\n",
    "from sklearn.linear_model import LogisticRegression\n",
    "from sklearn.feature_selection import SelectFromModel\n",
    "from sklearn.metrics import f1_score, auc"
   ]
  },
  {
   "cell_type": "code",
   "execution_count": 54,
   "metadata": {},
   "outputs": [],
   "source": [
    "'''Ignore Warning Messages'''\n",
    "import warnings\n",
    "warnings.filterwarnings('ignore')"
   ]
  },
  {
   "cell_type": "code",
   "execution_count": 55,
   "metadata": {},
   "outputs": [],
   "source": [
    "'''Set style to GGplot for asthetics'''\n",
    "matplotlib.style.use('ggplot')\n"
   ]
  },
  {
   "cell_type": "code",
   "execution_count": 56,
   "metadata": {},
   "outputs": [],
   "source": [
    "'''Helper function for date column which will be passed in when we import dataset'''\n",
    "parse_date = lambda val : pd.datetime.strptime(val, '%y%m%d%H')"
   ]
  },
  {
   "cell_type": "code",
   "execution_count": 57,
   "metadata": {},
   "outputs": [],
   "source": [
    "''' Sample from Training Data down to 1 million records'''\n",
    "\n",
    "n = 40428966  #total number of records in the clickstream data \n",
    "sample_size = 1000000\n",
    "skip_values = sorted(random.sample(range(1,n), n-sample_size)) \n",
    "\n",
    "#Tracking the indices of rows to be skipped at random in the next stage i.e the LOADING stage \n"
   ]
  },
  {
   "cell_type": "code",
   "execution_count": 58,
   "metadata": {},
   "outputs": [],
   "source": [
    "'''\n",
    "Memory optimization-by changing the int32 to int64-massiely reduced the size of the dataset for faster proccessing\n",
    "'''\n",
    "data_types = {\n",
    "    'id': np.str,\n",
    "    'click': np.bool_,\n",
    "    'hour': np.str,\n",
    "    'C1': np.uint16,\n",
    "    'banner_pos': np.uint16,\n",
    "    'site_id': np.object,\n",
    "    'site_domain': np.object,\n",
    "    'site_category': np.object,\n",
    "    'app_id': np.object,\n",
    "    'app_domain': np.object,\n",
    "    'app_category': np.object,\n",
    "    'device_id': np.object,\n",
    "    'device_ip': np.object,\n",
    "    'device_model': np.object,\n",
    "    'device_type': np.uint16,\n",
    "    'device_conn_type': np.uint16,\n",
    "    'C14': np.uint16,\n",
    "    'C15': np.uint16,\n",
    "    'C16': np.uint16,\n",
    "    'C17': np.uint16,\n",
    "    'C18': np.uint16,\n",
    "    'C19': np.uint16,\n",
    "    'C20': np.uint16,\n",
    "    'C21': np.uint16\n",
    "}\n",
    "\n",
    "train_data = pd.read_csv('train.csv', parse_dates = ['hour'],\n",
    "                        date_parser = parse_date, skiprows = skip_values , \n",
    "                        dtype = data_types )\n",
    "\n",
    "\n"
   ]
  },
  {
   "cell_type": "code",
   "execution_count": 59,
   "metadata": {},
   "outputs": [],
   "source": [
    "'''Create a separate data frame where clicks = 1'''\n",
    "\n",
    "train_data_clicks = train_data[train_data['click']==1]"
   ]
  },
  {
   "cell_type": "code",
   "execution_count": 60,
   "metadata": {},
   "outputs": [],
   "source": [
    "## Feature Engineering"
   ]
  },
  {
   "cell_type": "code",
   "execution_count": 61,
   "metadata": {},
   "outputs": [],
   "source": [
    "''' Click through rate for entire dataset'''\n",
    "rows = train_data.shape[0]\n",
    "\n",
    "click_through_rate = train_data['click'].value_counts()/rows "
   ]
  },
  {
   "cell_type": "code",
   "execution_count": 62,
   "metadata": {},
   "outputs": [
    {
     "data": {
      "text/plain": [
       "count                 1000001\n",
       "unique                    240\n",
       "top       2014-10-22 09:00:00\n",
       "freq                    11241\n",
       "first     2014-10-21 00:00:00\n",
       "last      2014-10-30 23:00:00\n",
       "Name: hour, dtype: object"
      ]
     },
     "execution_count": 62,
     "metadata": {},
     "output_type": "execute_result"
    }
   ],
   "source": [
    "'''Dataset ranges from 2014-10-21 to 2014-10-30-about 9 days'''\n",
    "train_data.hour.describe() \n"
   ]
  },
  {
   "cell_type": "code",
   "execution_count": 63,
   "metadata": {},
   "outputs": [],
   "source": [
    "'''Impressions V/S Clicks'''\n",
    "\n",
    "df_impressions = train_data.groupby('hour').agg({'click':'sum'})\n",
    "\n",
    "df_click = train_data[train_data['click']==1]\n",
    "\n",
    "temp_click = df_click.groupby('hour').agg({'click' : 'sum'})\n",
    "\n"
   ]
  },
  {
   "cell_type": "code",
   "execution_count": 64,
   "metadata": {},
   "outputs": [],
   "source": [
    "''' Create 3 new features based on the results from the cell above\n",
    "     1. hour_in_day-The hour of the event\n",
    "     2. weekday -- What day was the ad clicked\n",
    "     3. Day_name -- Take the specific day from hour\n",
    "'''\n",
    "\n",
    "train_data['hour_in_day'] = train_data['hour'].apply(lambda val : val.hour)\n",
    "train_data_clicks['hour_in_day'] = train_data_clicks['hour'].apply(lambda val : val.hour)\n",
    "\n",
    "train_data['weekday'] = train_data['hour'].apply(lambda val: val.dayofweek)\n",
    "train_data_clicks['weekday'] = train_data_clicks['hour'].apply(lambda val: val.dayofweek)\n",
    "\n",
    "train_data['day_name'] = train_data['hour'].apply(lambda x: x.strftime('%A'))\n",
    "train_data_clicks['day_name'] = train_data_clicks['hour'].apply(lambda x: x.strftime('%A'))\n",
    "\n"
   ]
  },
  {
   "cell_type": "code",
   "execution_count": 65,
   "metadata": {},
   "outputs": [
    {
     "data": {
      "text/plain": [
       "Index(['id', 'click', 'hour', 'C1', 'banner_pos', 'site_id', 'site_domain',\n",
       "       'site_category', 'app_id', 'app_domain', 'app_category', 'device_id',\n",
       "       'device_ip', 'device_model', 'device_type', 'device_conn_type', 'C14',\n",
       "       'C15', 'C16', 'C17', 'C18', 'C19', 'C20', 'C21', 'hour_in_day',\n",
       "       'weekday', 'day_name'],\n",
       "      dtype='object')"
      ]
     },
     "execution_count": 65,
     "metadata": {},
     "output_type": "execute_result"
    }
   ],
   "source": [
    "train_data.columns"
   ]
  },
  {
   "cell_type": "code",
   "execution_count": 66,
   "metadata": {},
   "outputs": [],
   "source": [
    "'''Create a new dataframe from hour'''\n",
    "\n",
    "hour_df = pd.DataFrame() \n",
    "\n",
    "hour_df['hr'] = train_data_clicks[['hour_in_day','click']].groupby(['hour_in_day']).count().reset_index().sort_values('click',ascending=False)['hour_in_day']\n"
   ]
  },
  {
   "cell_type": "code",
   "execution_count": 67,
   "metadata": {},
   "outputs": [],
   "source": [
    "'''Cicks vs hour'''\n",
    "\n",
    "hour_df['pos_clicks'] = train_data_clicks[['hour_in_day','click']].groupby(['hour_in_day']).count().reset_index().sort_values('click',ascending=False)['click']\n",
    "            "
   ]
  },
  {
   "cell_type": "code",
   "execution_count": 68,
   "metadata": {},
   "outputs": [],
   "source": [
    "'''Clicks and impressions vs hours'''\n",
    "\n",
    "hour_df['impressions_total'] = train_data[['hour_in_day','click']].groupby(['hour_in_day']).count().reset_index().sort_values('click',ascending=False)['click']\n",
    "            \n"
   ]
  },
  {
   "cell_type": "code",
   "execution_count": 69,
   "metadata": {},
   "outputs": [],
   "source": [
    "'''\n",
    "Create click through rate column-multiply by 100 for percentages\n",
    "'''\n",
    "\n",
    "hour_df['click_through_rate'] = 100*hour_df['pos_clicks']/hour_df['impressions_total']"
   ]
  },
  {
   "cell_type": "code",
   "execution_count": 70,
   "metadata": {},
   "outputs": [],
   "source": [
    "device_temp = train_data[['device_type','click']].groupby(['device_type','click'])"
   ]
  },
  {
   "cell_type": "code",
   "execution_count": 71,
   "metadata": {},
   "outputs": [],
   "source": [
    "app_features = ['app_id', 'app_domain', 'app_category']"
   ]
  },
  {
   "cell_type": "code",
   "execution_count": 72,
   "metadata": {},
   "outputs": [],
   "source": [
    "'''Create area feature-subtraction gives best results'''\n",
    "train_data['area'] = train_data['C15']-train_data['C16']"
   ]
  },
  {
   "cell_type": "code",
   "execution_count": 73,
   "metadata": {},
   "outputs": [],
   "source": [
    "'''Create others variable to capture the variety of site category'''\n",
    "train_data['site_category'] = train_data['site_category'].apply(lambda x: 'others' if x not in ['50e219e0','f028772b','28905ebd','3e814130'] else x)"
   ]
  },
  {
   "cell_type": "code",
   "execution_count": 74,
   "metadata": {},
   "outputs": [],
   "source": [
    "'''Create others for app category as well'''\n",
    "\n",
    "train_data['app_category'] = train_data['app_category'].apply(lambda x: 'others' if x not in ['07d7df22', '0f2161f8'] else x)"
   ]
  },
  {
   "cell_type": "markdown",
   "metadata": {},
   "source": [
    "## Build models"
   ]
  },
  {
   "cell_type": "markdown",
   "metadata": {},
   "source": [
    "### Data Preperation"
   ]
  },
  {
   "cell_type": "code",
   "execution_count": 75,
   "metadata": {},
   "outputs": [],
   "source": [
    "model_features = ['weekday', 'hour_in_day',\n",
    "                  'banner_pos', 'site_category',\n",
    "                  'device_conn_type', 'app_category',\n",
    "                  'device_type', 'area']"
   ]
  },
  {
   "cell_type": "code",
   "execution_count": 76,
   "metadata": {},
   "outputs": [],
   "source": [
    "model_target = 'click'"
   ]
  },
  {
   "cell_type": "code",
   "execution_count": 77,
   "metadata": {},
   "outputs": [],
   "source": [
    "'''Use a sample for processing-total entries is 30,000'''\n",
    "train_model = train_data[model_features+[model_target]].sample(frac=0.1,random_state=42)"
   ]
  },
  {
   "cell_type": "code",
   "execution_count": 78,
   "metadata": {},
   "outputs": [],
   "source": [
    "'''One hot encode features for modeling'''\n",
    "def one_hot_features(data_frame, feature_set):\n",
    "    new_data_frame = pd.get_dummies(data_frame,\n",
    "                                     columns = feature_set,\n",
    "                                    sparse = True)\n",
    "\n",
    "    return new_data_frame"
   ]
  },
  {
   "cell_type": "code",
   "execution_count": 79,
   "metadata": {},
   "outputs": [],
   "source": [
    "train_model = one_hot_features(train_model,\n",
    "                                ['site_category',\n",
    "                                 'app_category',\n",
    "                                 'banner_pos'])\n"
   ]
  },
  {
   "cell_type": "code",
   "execution_count": 80,
   "metadata": {},
   "outputs": [],
   "source": [
    "model_features = np.array(train_model.columns[train_model.columns!=model_target].tolist())"
   ]
  },
  {
   "cell_type": "markdown",
   "metadata": {},
   "source": [
    "## Xgboost"
   ]
  },
  {
   "cell_type": "code",
   "execution_count": 93,
   "metadata": {},
   "outputs": [],
   "source": [
    "import xgboost\n",
    "from xgboost import XGBClassifier\n",
    "from sklearn.metrics import classification_report\n"
   ]
  },
  {
   "cell_type": "code",
   "execution_count": 83,
   "metadata": {},
   "outputs": [],
   "source": [
    "'''Create test train split for XGboost'''\n",
    "x_train, x_valid, y_train, y_valid = train_test_split(\n",
    "    train_model[model_features].values,\n",
    "    train_model[model_target].values,\n",
    "    test_size=0.3,\n",
    "    random_state=42)"
   ]
  },
  {
   "cell_type": "code",
   "execution_count": 84,
   "metadata": {},
   "outputs": [],
   "source": [
    "model = XGBClassifier()\n",
    "xgb_clf = model"
   ]
  },
  {
   "cell_type": "code",
   "execution_count": 85,
   "metadata": {},
   "outputs": [
    {
     "name": "stdout",
     "output_type": "stream",
     "text": [
      "[0]\tvalidation_0-auc:0.603814\n",
      "Will train until validation_0-auc hasn't improved in 100 rounds.\n",
      "[1]\tvalidation_0-auc:0.603349\n",
      "[2]\tvalidation_0-auc:0.605381\n",
      "[3]\tvalidation_0-auc:0.605381\n",
      "[4]\tvalidation_0-auc:0.605381\n",
      "[5]\tvalidation_0-auc:0.610638\n",
      "[6]\tvalidation_0-auc:0.610639\n",
      "[7]\tvalidation_0-auc:0.611114\n",
      "[8]\tvalidation_0-auc:0.612332\n",
      "[9]\tvalidation_0-auc:0.620312\n",
      "[10]\tvalidation_0-auc:0.620157\n",
      "[11]\tvalidation_0-auc:0.620161\n",
      "[12]\tvalidation_0-auc:0.623171\n",
      "[13]\tvalidation_0-auc:0.62249\n",
      "[14]\tvalidation_0-auc:0.622492\n",
      "[15]\tvalidation_0-auc:0.62318\n",
      "[16]\tvalidation_0-auc:0.623638\n",
      "[17]\tvalidation_0-auc:0.623656\n",
      "[18]\tvalidation_0-auc:0.62178\n",
      "[19]\tvalidation_0-auc:0.621885\n",
      "[20]\tvalidation_0-auc:0.621879\n",
      "[21]\tvalidation_0-auc:0.621921\n",
      "[22]\tvalidation_0-auc:0.623751\n",
      "[23]\tvalidation_0-auc:0.622504\n",
      "[24]\tvalidation_0-auc:0.626604\n",
      "[25]\tvalidation_0-auc:0.625421\n",
      "[26]\tvalidation_0-auc:0.625743\n",
      "[27]\tvalidation_0-auc:0.626652\n",
      "[28]\tvalidation_0-auc:0.625749\n",
      "[29]\tvalidation_0-auc:0.625493\n",
      "[30]\tvalidation_0-auc:0.625851\n",
      "[31]\tvalidation_0-auc:0.626088\n",
      "[32]\tvalidation_0-auc:0.625907\n",
      "[33]\tvalidation_0-auc:0.630707\n",
      "[34]\tvalidation_0-auc:0.631284\n",
      "[35]\tvalidation_0-auc:0.63222\n",
      "[36]\tvalidation_0-auc:0.631493\n",
      "[37]\tvalidation_0-auc:0.631541\n",
      "[38]\tvalidation_0-auc:0.632026\n",
      "[39]\tvalidation_0-auc:0.632772\n",
      "[40]\tvalidation_0-auc:0.634085\n",
      "[41]\tvalidation_0-auc:0.634329\n",
      "[42]\tvalidation_0-auc:0.634246\n",
      "[43]\tvalidation_0-auc:0.636097\n",
      "[44]\tvalidation_0-auc:0.63609\n",
      "[45]\tvalidation_0-auc:0.636089\n",
      "[46]\tvalidation_0-auc:0.636216\n",
      "[47]\tvalidation_0-auc:0.636379\n",
      "[48]\tvalidation_0-auc:0.636251\n",
      "[49]\tvalidation_0-auc:0.636356\n",
      "[50]\tvalidation_0-auc:0.636438\n",
      "[51]\tvalidation_0-auc:0.636077\n",
      "[52]\tvalidation_0-auc:0.636113\n",
      "[53]\tvalidation_0-auc:0.63594\n",
      "[54]\tvalidation_0-auc:0.63656\n",
      "[55]\tvalidation_0-auc:0.636642\n",
      "[56]\tvalidation_0-auc:0.6369\n",
      "[57]\tvalidation_0-auc:0.637101\n",
      "[58]\tvalidation_0-auc:0.637328\n",
      "[59]\tvalidation_0-auc:0.637173\n",
      "[60]\tvalidation_0-auc:0.637422\n",
      "[61]\tvalidation_0-auc:0.637561\n",
      "[62]\tvalidation_0-auc:0.637424\n",
      "[63]\tvalidation_0-auc:0.637761\n",
      "[64]\tvalidation_0-auc:0.637923\n",
      "[65]\tvalidation_0-auc:0.63808\n",
      "[66]\tvalidation_0-auc:0.638487\n",
      "[67]\tvalidation_0-auc:0.638746\n",
      "[68]\tvalidation_0-auc:0.639012\n",
      "[69]\tvalidation_0-auc:0.639862\n",
      "[70]\tvalidation_0-auc:0.639953\n",
      "[71]\tvalidation_0-auc:0.640016\n",
      "[72]\tvalidation_0-auc:0.639991\n",
      "[73]\tvalidation_0-auc:0.640562\n",
      "[74]\tvalidation_0-auc:0.640584\n",
      "[75]\tvalidation_0-auc:0.640425\n",
      "[76]\tvalidation_0-auc:0.640932\n",
      "[77]\tvalidation_0-auc:0.640998\n",
      "[78]\tvalidation_0-auc:0.641204\n",
      "[79]\tvalidation_0-auc:0.641563\n",
      "[80]\tvalidation_0-auc:0.641571\n",
      "[81]\tvalidation_0-auc:0.641947\n",
      "[82]\tvalidation_0-auc:0.641944\n",
      "[83]\tvalidation_0-auc:0.642004\n",
      "[84]\tvalidation_0-auc:0.64205\n",
      "[85]\tvalidation_0-auc:0.642055\n",
      "[86]\tvalidation_0-auc:0.642616\n",
      "[87]\tvalidation_0-auc:0.642607\n",
      "[88]\tvalidation_0-auc:0.642752\n",
      "[89]\tvalidation_0-auc:0.642895\n",
      "[90]\tvalidation_0-auc:0.643251\n",
      "[91]\tvalidation_0-auc:0.643122\n",
      "[92]\tvalidation_0-auc:0.643451\n",
      "[93]\tvalidation_0-auc:0.643421\n",
      "[94]\tvalidation_0-auc:0.643419\n",
      "[95]\tvalidation_0-auc:0.643457\n",
      "[96]\tvalidation_0-auc:0.643416\n",
      "[97]\tvalidation_0-auc:0.64382\n",
      "[98]\tvalidation_0-auc:0.643815\n",
      "[99]\tvalidation_0-auc:0.643755\n"
     ]
    },
    {
     "data": {
      "text/plain": [
       "XGBClassifier(base_score=0.5, booster='gbtree', colsample_bylevel=1,\n",
       "       colsample_bytree=1, gamma=0, learning_rate=0.1, max_delta_step=0,\n",
       "       max_depth=3, min_child_weight=1, missing=None, n_estimators=100,\n",
       "       n_jobs=1, nthread=None, objective='binary:logistic', random_state=0,\n",
       "       reg_alpha=0, reg_lambda=1, scale_pos_weight=1, seed=None,\n",
       "       silent=True, subsample=1)"
      ]
     },
     "execution_count": 85,
     "metadata": {},
     "output_type": "execute_result"
    }
   ],
   "source": [
    "'''Run model with auc as eval metric'''\n",
    "xgb_clf.fit(x_train, y_train, early_stopping_rounds=100,\n",
    "            eval_metric=\"auc\", eval_set=[(x_valid, y_valid)])"
   ]
  },
  {
   "cell_type": "code",
   "execution_count": 86,
   "metadata": {},
   "outputs": [
    {
     "name": "stdout",
     "output_type": "stream",
     "text": [
      "[0]\tvalidation_0-aucpr:0.243317\n",
      "Will train until validation_0-aucpr hasn't improved in 100 rounds.\n",
      "[1]\tvalidation_0-aucpr:0.245373\n",
      "[2]\tvalidation_0-aucpr:0.248288\n",
      "[3]\tvalidation_0-aucpr:0.248288\n",
      "[4]\tvalidation_0-aucpr:0.248288\n",
      "[5]\tvalidation_0-aucpr:0.252658\n",
      "[6]\tvalidation_0-aucpr:0.253049\n",
      "[7]\tvalidation_0-aucpr:0.253598\n",
      "[8]\tvalidation_0-aucpr:0.253912\n",
      "[9]\tvalidation_0-aucpr:0.255782\n",
      "[10]\tvalidation_0-aucpr:0.256727\n",
      "[11]\tvalidation_0-aucpr:0.256765\n",
      "[12]\tvalidation_0-aucpr:0.257139\n",
      "[13]\tvalidation_0-aucpr:0.256575\n",
      "[14]\tvalidation_0-aucpr:0.256596\n",
      "[15]\tvalidation_0-aucpr:0.257176\n",
      "[16]\tvalidation_0-aucpr:0.257607\n",
      "[17]\tvalidation_0-aucpr:0.25762\n",
      "[18]\tvalidation_0-aucpr:0.257987\n",
      "[19]\tvalidation_0-aucpr:0.258043\n",
      "[20]\tvalidation_0-aucpr:0.25805\n",
      "[21]\tvalidation_0-aucpr:0.258065\n",
      "[22]\tvalidation_0-aucpr:0.257761\n",
      "[23]\tvalidation_0-aucpr:0.257025\n",
      "[24]\tvalidation_0-aucpr:0.261868\n",
      "[25]\tvalidation_0-aucpr:0.260257\n",
      "[26]\tvalidation_0-aucpr:0.26048\n",
      "[27]\tvalidation_0-aucpr:0.261937\n",
      "[28]\tvalidation_0-aucpr:0.261166\n",
      "[29]\tvalidation_0-aucpr:0.260172\n",
      "[30]\tvalidation_0-aucpr:0.260494\n",
      "[31]\tvalidation_0-aucpr:0.260439\n",
      "[32]\tvalidation_0-aucpr:0.259354\n",
      "[33]\tvalidation_0-aucpr:0.263551\n",
      "[34]\tvalidation_0-aucpr:0.264695\n",
      "[35]\tvalidation_0-aucpr:0.265317\n",
      "[36]\tvalidation_0-aucpr:0.264773\n",
      "[37]\tvalidation_0-aucpr:0.264773\n",
      "[38]\tvalidation_0-aucpr:0.2648\n",
      "[39]\tvalidation_0-aucpr:0.26583\n",
      "[40]\tvalidation_0-aucpr:0.267313\n",
      "[41]\tvalidation_0-aucpr:0.267467\n",
      "[42]\tvalidation_0-aucpr:0.267484\n",
      "[43]\tvalidation_0-aucpr:0.2686\n",
      "[44]\tvalidation_0-aucpr:0.26891\n",
      "[45]\tvalidation_0-aucpr:0.269075\n",
      "[46]\tvalidation_0-aucpr:0.268704\n",
      "[47]\tvalidation_0-aucpr:0.26882\n",
      "[48]\tvalidation_0-aucpr:0.268784\n",
      "[49]\tvalidation_0-aucpr:0.268783\n",
      "[50]\tvalidation_0-aucpr:0.268775\n",
      "[51]\tvalidation_0-aucpr:0.268552\n",
      "[52]\tvalidation_0-aucpr:0.268576\n",
      "[53]\tvalidation_0-aucpr:0.268368\n",
      "[54]\tvalidation_0-aucpr:0.268843\n",
      "[55]\tvalidation_0-aucpr:0.268827\n",
      "[56]\tvalidation_0-aucpr:0.269125\n",
      "[57]\tvalidation_0-aucpr:0.269169\n",
      "[58]\tvalidation_0-aucpr:0.269239\n",
      "[59]\tvalidation_0-aucpr:0.26911\n",
      "[60]\tvalidation_0-aucpr:0.269155\n",
      "[61]\tvalidation_0-aucpr:0.26921\n",
      "[62]\tvalidation_0-aucpr:0.269148\n",
      "[63]\tvalidation_0-aucpr:0.269218\n",
      "[64]\tvalidation_0-aucpr:0.269418\n",
      "[65]\tvalidation_0-aucpr:0.269464\n",
      "[66]\tvalidation_0-aucpr:0.269708\n",
      "[67]\tvalidation_0-aucpr:0.269866\n",
      "[68]\tvalidation_0-aucpr:0.269775\n",
      "[69]\tvalidation_0-aucpr:0.270198\n",
      "[70]\tvalidation_0-aucpr:0.270284\n",
      "[71]\tvalidation_0-aucpr:0.270351\n",
      "[72]\tvalidation_0-aucpr:0.270414\n",
      "[73]\tvalidation_0-aucpr:0.270512\n",
      "[74]\tvalidation_0-aucpr:0.270508\n",
      "[75]\tvalidation_0-aucpr:0.270368\n",
      "[76]\tvalidation_0-aucpr:0.270703\n",
      "[77]\tvalidation_0-aucpr:0.270728\n",
      "[78]\tvalidation_0-aucpr:0.270799\n",
      "[79]\tvalidation_0-aucpr:0.271042\n",
      "[80]\tvalidation_0-aucpr:0.27103\n",
      "[81]\tvalidation_0-aucpr:0.271321\n",
      "[82]\tvalidation_0-aucpr:0.271315\n",
      "[83]\tvalidation_0-aucpr:0.271364\n",
      "[84]\tvalidation_0-aucpr:0.271374\n",
      "[85]\tvalidation_0-aucpr:0.271384\n",
      "[86]\tvalidation_0-aucpr:0.271701\n",
      "[87]\tvalidation_0-aucpr:0.271707\n",
      "[88]\tvalidation_0-aucpr:0.271948\n",
      "[89]\tvalidation_0-aucpr:0.272184\n",
      "[90]\tvalidation_0-aucpr:0.272545\n",
      "[91]\tvalidation_0-aucpr:0.272508\n",
      "[92]\tvalidation_0-aucpr:0.272486\n",
      "[93]\tvalidation_0-aucpr:0.272355\n",
      "[94]\tvalidation_0-aucpr:0.272324\n",
      "[95]\tvalidation_0-aucpr:0.27233\n",
      "[96]\tvalidation_0-aucpr:0.272241\n",
      "[97]\tvalidation_0-aucpr:0.272519\n",
      "[98]\tvalidation_0-aucpr:0.272485\n",
      "[99]\tvalidation_0-aucpr:0.272442\n"
     ]
    },
    {
     "data": {
      "text/plain": [
       "XGBClassifier(base_score=0.5, booster='gbtree', colsample_bylevel=1,\n",
       "       colsample_bytree=1, gamma=0, learning_rate=0.1, max_delta_step=0,\n",
       "       max_depth=3, min_child_weight=1, missing=None, n_estimators=100,\n",
       "       n_jobs=1, nthread=None, objective='binary:logistic', random_state=0,\n",
       "       reg_alpha=0, reg_lambda=1, scale_pos_weight=1, seed=None,\n",
       "       silent=True, subsample=1)"
      ]
     },
     "execution_count": 86,
     "metadata": {},
     "output_type": "execute_result"
    }
   ],
   "source": [
    "'''Run model with aucpr as eval metric'''\n",
    "xgb_clf.fit(x_train, y_train, early_stopping_rounds=100,\n",
    "            eval_metric=\"aucpr\", eval_set=[(x_valid, y_valid)])"
   ]
  },
  {
   "cell_type": "code",
   "execution_count": 88,
   "metadata": {},
   "outputs": [],
   "source": [
    "y_pred = xgb_clf.predict(x_valid)\n",
    "predictions = [round(value) for value in y_pred]"
   ]
  },
  {
   "cell_type": "code",
   "execution_count": 90,
   "metadata": {},
   "outputs": [
    {
     "name": "stdout",
     "output_type": "stream",
     "text": [
      "[[24918    40]\n",
      " [ 4989    53]]\n"
     ]
    }
   ],
   "source": [
    "from sklearn import metrics\n",
    "\n",
    "print(metrics.confusion_matrix(y_valid, predictions))"
   ]
  },
  {
   "cell_type": "code",
   "execution_count": 91,
   "metadata": {},
   "outputs": [
    {
     "name": "stdout",
     "output_type": "stream",
     "text": [
      "0.5044545045911165\n"
     ]
    }
   ],
   "source": [
    "print(metrics.roc_auc_score(y_valid, predictions))\n"
   ]
  },
  {
   "cell_type": "code",
   "execution_count": 92,
   "metadata": {},
   "outputs": [
    {
     "name": "stdout",
     "output_type": "stream",
     "text": [
      "0.8323666666666667\n"
     ]
    }
   ],
   "source": [
    "print(metrics.accuracy_score(y_valid, predictions))"
   ]
  },
  {
   "cell_type": "markdown",
   "metadata": {},
   "source": [
    "The model appears to perform when looking at the evaluation metrics, but the confusion matrix suggests otherwise. The Roc Auc score hovers around 50, which suggests the mdoel is not doing a good job of predicting."
   ]
  }
 ],
 "metadata": {
  "kernelspec": {
   "display_name": "conda_python3",
   "language": "python",
   "name": "conda_python3"
  },
  "language_info": {
   "codemirror_mode": {
    "name": "ipython",
    "version": 3
   },
   "file_extension": ".py",
   "mimetype": "text/x-python",
   "name": "python",
   "nbconvert_exporter": "python",
   "pygments_lexer": "ipython3",
   "version": "3.6.5"
  }
 },
 "nbformat": 4,
 "nbformat_minor": 2
}
