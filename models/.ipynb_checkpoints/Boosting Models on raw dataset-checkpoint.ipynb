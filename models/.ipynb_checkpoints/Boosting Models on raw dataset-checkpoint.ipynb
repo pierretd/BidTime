{
 "cells": [
  {
   "cell_type": "markdown",
   "metadata": {},
   "source": [
    "# Avazu CTR Boosting Models"
   ]
  },
  {
   "cell_type": "markdown",
   "metadata": {},
   "source": [
    "1) Import, clean, engineer features, hashing\n",
    "2) Intro to boosting\n",
    "3) Run a baseline model-no custom parameters\n",
    "4) Add custom hyperparameters to model to reduce overfitting\n",
    "5) Run CV to improve results and find best params\n",
    "6) Run model with the improved params we have found"
   ]
  },
  {
   "cell_type": "markdown",
   "metadata": {},
   "source": [
    "### Import Libraries"
   ]
  },
  {
   "cell_type": "code",
   "execution_count": 1,
   "metadata": {},
   "outputs": [],
   "source": [
    "import pandas as pd\n",
    "import numpy as np\n",
    "import matplotlib\n",
    "import matplotlib.pyplot as plt\n",
    "import seaborn\n",
    "import sklearn\n",
    "import matplotlib.dates as mdates\n",
    "import random\n",
    "import datetime\n",
    "from sklearn.model_selection import train_test_split\n",
    "from sklearn.model_selection import StratifiedKFold, GridSearchCV\n",
    "from sklearn.linear_model import LogisticRegression\n",
    "from sklearn.feature_selection import SelectFromModel\n",
    "from sklearn.metrics import roc_curve, roc_auc_score, confusion_matrix, classification_report, roc_curve\n",
    "from sklearn.preprocessing import OneHotEncoder\n",
    "%matplotlib inline"
   ]
  },
  {
   "cell_type": "markdown",
   "metadata": {},
   "source": [
    "### Ignore Warnings"
   ]
  },
  {
   "cell_type": "code",
   "execution_count": 2,
   "metadata": {},
   "outputs": [],
   "source": [
    "'''Ignore Warning Messages'''\n",
    "import warnings\n",
    "warnings.filterwarnings('ignore')"
   ]
  },
  {
   "cell_type": "markdown",
   "metadata": {},
   "source": [
    "### Matplotlib Style"
   ]
  },
  {
   "cell_type": "code",
   "execution_count": 3,
   "metadata": {},
   "outputs": [],
   "source": [
    "'''Set style to GGplot for asthetics'''\n",
    "matplotlib.style.use('ggplot')\n"
   ]
  },
  {
   "cell_type": "markdown",
   "metadata": {},
   "source": [
    "### Sample and Import Dataset"
   ]
  },
  {
   "cell_type": "code",
   "execution_count": 4,
   "metadata": {},
   "outputs": [],
   "source": [
    "''' Sample from Training Data down to 100,000 records'''\n",
    "\n",
    "n = 40428966  #total number of records in the dataset \n",
    "sample_size = 100000\n",
    "skip_values = sorted(random.sample(range(1,n), n-sample_size)) \n",
    "\n",
    "#Tracking the indices of rows to be skipped at random"
   ]
  },
  {
   "cell_type": "code",
   "execution_count": 6,
   "metadata": {},
   "outputs": [],
   "source": [
    "df = pd.read_csv('https://bidtime.s3.amazonaws.com/Avazu/train/train.gz', compression='infer', skiprows = skip_values)"
   ]
  },
  {
   "cell_type": "markdown",
   "metadata": {},
   "source": [
    "## Data Prepation"
   ]
  },
  {
   "cell_type": "markdown",
   "metadata": {},
   "source": [
    "### Date Time conversion with Hour feature"
   ]
  },
  {
   "cell_type": "code",
   "execution_count": 139,
   "metadata": {},
   "outputs": [],
   "source": [
    "def datesplit(originalDate):\n",
    "    originalDate = str(originalDate)\n",
    "    \n",
    "    year = int(\"20\" + originalDate[0:2])\n",
    "    month = int(originalDate[2:4])\n",
    "    day = int(originalDate[4:6])\n",
    "    hour = int(originalDate[6:8])\n",
    "    \n",
    "    return datetime.datetime(year, month, day, hour)"
   ]
  },
  {
   "cell_type": "markdown",
   "metadata": {},
   "source": [
    "### Create weekday and datetime from hour"
   ]
  },
  {
   "cell_type": "code",
   "execution_count": 140,
   "metadata": {},
   "outputs": [],
   "source": [
    "df['weekday'] = df['hour'].apply(lambda x : datesplit(x).weekday()) "
   ]
  },
  {
   "cell_type": "code",
   "execution_count": 141,
   "metadata": {},
   "outputs": [],
   "source": [
    "df['hour'] = df['hour'].apply(lambda x : datesplit(x).hour)"
   ]
  },
  {
   "cell_type": "markdown",
   "metadata": {},
   "source": [
    "### Variable Encoding"
   ]
  },
  {
   "cell_type": "code",
   "execution_count": 142,
   "metadata": {},
   "outputs": [],
   "source": [
    "model_features = ['hour', 'weekday', 'C1', 'banner_pos', 'site_category', 'app_category', \n",
    "                'device_type', 'device_conn_type', 'C15', 'C16', 'C18', 'C21']"
   ]
  },
  {
   "cell_type": "code",
   "execution_count": 143,
   "metadata": {},
   "outputs": [],
   "source": [
    "model_target = 'click'"
   ]
  },
  {
   "cell_type": "code",
   "execution_count": 144,
   "metadata": {},
   "outputs": [],
   "source": [
    "train_model = df[model_features+[model_target]]"
   ]
  },
  {
   "cell_type": "code",
   "execution_count": 145,
   "metadata": {},
   "outputs": [],
   "source": [
    "train_model = df[model_features+[model_target]]"
   ]
  },
  {
   "cell_type": "code",
   "execution_count": 146,
   "metadata": {},
   "outputs": [],
   "source": [
    "def one_hot_features(data_frame, feature_set):\n",
    "    new_data_frame = pd.get_dummies(data_frame,\n",
    "                                     columns = feature_set,\n",
    "                                    sparse = True)\n",
    "\n",
    "    return new_data_frame"
   ]
  },
  {
   "cell_type": "code",
   "execution_count": 147,
   "metadata": {},
   "outputs": [],
   "source": [
    "train_model = one_hot_features(train_model, ['hour', 'weekday', 'C1', 'banner_pos', 'site_category', 'app_category', 'device_type', 'device_conn_type', 'C15', 'C16', 'C18', 'C21'])"
   ]
  },
  {
   "cell_type": "code",
   "execution_count": 148,
   "metadata": {},
   "outputs": [],
   "source": [
    "model_features = np.array(train_model.columns[train_model.columns!=model_target].tolist())"
   ]
  },
  {
   "cell_type": "code",
   "execution_count": 149,
   "metadata": {},
   "outputs": [],
   "source": [
    "X = train_model[model_features].values"
   ]
  },
  {
   "cell_type": "code",
   "execution_count": 150,
   "metadata": {},
   "outputs": [],
   "source": [
    "y = train_model[model_target].values"
   ]
  },
  {
   "cell_type": "markdown",
   "metadata": {},
   "source": [
    "### Test Train Splt"
   ]
  },
  {
   "cell_type": "code",
   "execution_count": 151,
   "metadata": {},
   "outputs": [],
   "source": [
    "from sklearn.model_selection import train_test_split\n",
    "Xtrain, Xtest, ytrain, ytest = train_test_split(X, y, test_size=0.1,\n",
    "                                                 random_state=100)"
   ]
  },
  {
   "cell_type": "markdown",
   "metadata": {},
   "source": [
    "### Add site and user"
   ]
  },
  {
   "cell_type": "code",
   "execution_count": 152,
   "metadata": {},
   "outputs": [],
   "source": [
    "values = df['device_id'].value_counts().idxmax() \n",
    "\n",
    "df['user'] = np.where(df['device_id'] == values, df['device_ip'] + df['device_model'], df['device_id']) "
   ]
  },
  {
   "cell_type": "code",
   "execution_count": 153,
   "metadata": {},
   "outputs": [],
   "source": [
    "df = df.drop(['device_id', 'device_model', 'device_ip'], axis=1) \n"
   ]
  },
  {
   "cell_type": "code",
   "execution_count": 154,
   "metadata": {},
   "outputs": [],
   "source": [
    "df['site'] = df['site_id'] + df['site_domain'] \n"
   ]
  },
  {
   "cell_type": "code",
   "execution_count": 155,
   "metadata": {},
   "outputs": [],
   "source": [
    "df = df.drop(['site_id', 'site_domain'], axis=1)\n"
   ]
  },
  {
   "cell_type": "markdown",
   "metadata": {},
   "source": [
    "# Hashing"
   ]
  },
  {
   "cell_type": "markdown",
   "metadata": {},
   "source": [
    "### Create test train split"
   ]
  },
  {
   "cell_type": "code",
   "execution_count": 81,
   "metadata": {},
   "outputs": [],
   "source": [
    "X = df.drop(['click'], axis=1)\n",
    "y = df['click']\n",
    "Xtrain, Xtest, ytrain, ytest = train_test_split(X, y, test_size=0.20, random_state=100)"
   ]
  },
  {
   "cell_type": "markdown",
   "metadata": {},
   "source": [
    "### Hashing Function"
   ]
  },
  {
   "cell_type": "code",
   "execution_count": 82,
   "metadata": {},
   "outputs": [],
   "source": [
    "from sklearn.base import BaseEstimator, TransformerMixin\n",
    "\n",
    "class MergeRareTransformer(BaseEstimator, TransformerMixin):\n",
    "    \n",
    "    def __init__(self, col_names, threshold):\n",
    "        self.col_names = col_names\n",
    "        self.threshold = threshold\n",
    "\n",
    "    def fit(self, X, y=None):\n",
    "\n",
    "        X = pd.DataFrame(X)\n",
    "        counts_dict_list = []\n",
    "        \n",
    "        for i in range(len(self.col_names)):\n",
    "            serie = X[self.col_names[i]].value_counts()  # Series of each column\n",
    "            rare_indexes = serie[serie<self.threshold[i]].index  # The indexes for least frequent features\n",
    "            frequent_indexes = serie[serie>=self.threshold[i]].index  # The indexes for most frequent features\n",
    "            dictionary = {x:'isRare' for x in rare_indexes}\n",
    "            dictionary.update({x: str(x) for x in frequent_indexes})\n",
    "            counts_dict_list.append(dictionary)   # Index for rare and most frequent\n",
    "        self.counts_dict_list_ = counts_dict_list\n",
    "        return self\n",
    "\n",
    "    def transform(self, X):\n",
    "\n",
    "        Xt = pd.DataFrame()\n",
    "                \n",
    "        for col, count_dict in zip(self.col_names, self.counts_dict_list_):\n",
    "            Xt[col] = X[col].apply(lambda x:count_dict[x] if x in count_dict else 'isRare')\n",
    "        # Represent the new features never observed and apply the count_dict to ther rest\n",
    "\n",
    "        return Xt"
   ]
  },
  {
   "cell_type": "code",
   "execution_count": 83,
   "metadata": {},
   "outputs": [],
   "source": [
    "merged = MergeRareTransformer(col_names=Xtrain.columns, threshold=[20]*len(Xtrain.columns))\n",
    "Xtrain_merged = merged.fit_transform(Xtrain)\n",
    "Xtest_merged = merged.transform(Xtest)"
   ]
  },
  {
   "cell_type": "markdown",
   "metadata": {},
   "source": [
    "### Test Hash"
   ]
  },
  {
   "cell_type": "code",
   "execution_count": 84,
   "metadata": {},
   "outputs": [
    {
     "data": {
      "text/plain": [
       "4243366883575910010"
      ]
     },
     "execution_count": 84,
     "metadata": {},
     "output_type": "execute_result"
    }
   ],
   "source": [
    "import hashlib\n",
    "hash('test hash') "
   ]
  },
  {
   "cell_type": "markdown",
   "metadata": {},
   "source": [
    "## Hashing"
   ]
  },
  {
   "cell_type": "markdown",
   "metadata": {},
   "source": [
    "### Hash the Dataframe"
   ]
  },
  {
   "cell_type": "code",
   "execution_count": 85,
   "metadata": {},
   "outputs": [],
   "source": [
    "Xtrain_hashed = pd.DataFrame()\n",
    "Xtest_hashed = pd.DataFrame()\n",
    "for col in Xtrain_merged.columns:\n",
    "    Xtrain_hashed[col] = Xtrain_merged[col].apply(lambda x : hash(str(x)) % 1000000) \n",
    "    Xtest_hashed[col] = Xtest_merged[col].apply(lambda x : hash( str(x)) % 1000000)"
   ]
  },
  {
   "cell_type": "code",
   "execution_count": 86,
   "metadata": {},
   "outputs": [
    {
     "data": {
      "text/html": [
       "<style>\n",
       ".output {\n",
       "    flex-direction: row;\n",
       "}\n",
       "</style>"
      ],
      "text/plain": [
       "<IPython.core.display.HTML object>"
      ]
     },
     "execution_count": 86,
     "metadata": {},
     "output_type": "execute_result"
    }
   ],
   "source": [
    "import pandas as pd\n",
    "import numpy as np\n",
    "from IPython.display import display, HTML\n",
    "\n",
    "CSS = \"\"\"\n",
    ".output {\n",
    "    flex-direction: row;\n",
    "}\n",
    "\"\"\"\n",
    "\n",
    "HTML('<style>{}</style>'.format(CSS))"
   ]
  },
  {
   "cell_type": "markdown",
   "metadata": {},
   "source": [
    "### Log of hashed vs original feature dimentionality"
   ]
  },
  {
   "cell_type": "code",
   "execution_count": 87,
   "metadata": {},
   "outputs": [
    {
     "data": {
      "text/plain": [
       "Unnamed: 0          800000\n",
       "id                  800000\n",
       "hour                    24\n",
       "C1                       7\n",
       "banner_pos               7\n",
       "site_category           23\n",
       "app_id                2893\n",
       "app_domain             173\n",
       "app_category            25\n",
       "device_type              4\n",
       "device_conn_type         4\n",
       "C14                   2196\n",
       "C15                      8\n",
       "C16                      9\n",
       "C17                    418\n",
       "C18                      4\n",
       "C19                     66\n",
       "C20                    163\n",
       "C21                     60\n",
       "weekday                  7\n",
       "user                631592\n",
       "site                  5222\n",
       "dtype: int64"
      ]
     },
     "metadata": {},
     "output_type": "display_data"
    },
    {
     "data": {
      "text/plain": [
       "Unnamed: 0             1\n",
       "id                     1\n",
       "hour                  24\n",
       "C1                     7\n",
       "banner_pos             7\n",
       "site_category         19\n",
       "app_id               570\n",
       "app_domain            47\n",
       "app_category          19\n",
       "device_type            4\n",
       "device_conn_type       4\n",
       "C14                 1310\n",
       "C15                    8\n",
       "C16                    9\n",
       "C17                  376\n",
       "C18                    4\n",
       "C19                   63\n",
       "C20                  146\n",
       "C21                   60\n",
       "weekday                7\n",
       "user                 765\n",
       "site                 812\n",
       "dtype: int64"
      ]
     },
     "metadata": {},
     "output_type": "display_data"
    }
   ],
   "source": [
    "display(Xtrain.nunique()) \n",
    "\n",
    "display(Xtrain_hashed.nunique())"
   ]
  },
  {
   "cell_type": "markdown",
   "metadata": {},
   "source": [
    "# Introduction to XGBoost"
   ]
  },
  {
   "cell_type": "markdown",
   "metadata": {},
   "source": [
    "#### What is XGboost?\n",
    "\n",
    "##### Extreme Gradient Boosting\n",
    "\n",
    "Focused on **computational speed** and **model performance**: few frills, but a good amount of advanced features\n",
    "\n",
    "##### Background Information\n",
    "\n",
    "\n",
    "1) Original Creator was doing research on variants of tree boosting. He was looking to combine boosted trees with a conditional random field and found no existing model that satisfied his needs. \n",
    "\n",
    "2) Author states that you cannot be successful with XGboost alone, you need to process data, and feature engineer first. \n",
    "\n",
    "##### Model Features\n",
    "\n",
    "3 forms of gradient boosting are supported:\n",
    "\n",
    "1) **Gradient Boosting**- also called gradient boosting machine(w/ variable learning rate)\n",
    "\n",
    "2) **Stochastic Gradient Boosting**- with subsampling at the row, column, and column per split levels\n",
    "\n",
    "3) **Regularized Gradient Boosting**-with L1 and L2 regularization\n",
    "\n",
    "##### System Features\n",
    "\n",
    "1) **Parallelization** of tree-use all CPY cores during training\n",
    "\n",
    "2) **Distributed Computing** for training large models on a cluster of machines\n",
    "\n",
    "3) **Out of Core Computing** for large datasets that don't fit into memory\n",
    "\n",
    "4) **Cache Optimization** of data structures and algorithms to make best use of hardware\n",
    "\n",
    "##### Algorithm Features\n",
    "\n",
    "1) **Sparse Aware** implementation with automatic handling of missing data values\n",
    "\n",
    "2) **Block Structure** to support the parallelization of tree construction\n",
    "\n",
    "3) **Continued Training** so that you can further boost an already fitted model on new data\n",
    "\n",
    "#### Why use XGB\n",
    "\n",
    "**Execution Speed** and **Model performance**\n",
    "\n",
    "Very Fast, has been benchmarked against other models and performs well against the feild \n",
    "\n",
    "##### Model performance\n",
    "\n",
    "XGB thrives with **structured or tabular datasets** on **classification** and **regression** predictive modeling problems\n",
    "\n",
    "##### What algorithm does it use?\n",
    "\n",
    "**Gradient Boosted Decision Tree**: boosting is an ensemble technique where new models are added to correct errors made by existing models. Models are added sequentially until no further improvements can be made\n",
    "\n",
    "**Gradient Boosting** is an approach where new models are created that predict the residuals or errors of prior models then adds them back together to make a final predictions.\n",
    "\n",
    "It’s called **gradient boosting** because it uses a gradient descent algorithm to minimize the loss when adding new models\n",
    "\n"
   ]
  },
  {
   "cell_type": "markdown",
   "metadata": {},
   "source": [
    "## Modeling"
   ]
  },
  {
   "cell_type": "markdown",
   "metadata": {},
   "source": [
    "### XGboost with no parameters"
   ]
  },
  {
   "cell_type": "code",
   "execution_count": 179,
   "metadata": {},
   "outputs": [
    {
     "name": "stdout",
     "output_type": "stream",
     "text": [
      "The ROC AUC is : 0.705533412707023\n"
     ]
    }
   ],
   "source": [
    "xgb = XGBClassifier(random_state=42)\n",
    "xgb.fit(Xtrain_hashed, ytrain) \n",
    "soft = xgb.predict_proba(Xtest_hashed)\n",
    "print(\"The ROC AUC is : \" + str(roc_auc_score(ytest, soft[:,1])))"
   ]
  },
  {
   "cell_type": "markdown",
   "metadata": {},
   "source": [
    "Without any customization, XGboost scored a 70% ROC AUC. Next we will customize the classifier manaually to improve results."
   ]
  },
  {
   "cell_type": "markdown",
   "metadata": {},
   "source": [
    "# Confusion Matrix"
   ]
  },
  {
   "cell_type": "code",
   "execution_count": 180,
   "metadata": {},
   "outputs": [
    {
     "name": "stdout",
     "output_type": "stream",
     "text": [
      "[[16597    12]\n",
      " [ 3359    33]]\n"
     ]
    }
   ],
   "source": [
    "y_pred = xgb.predict(Xtest_hashed)\n",
    "predictions = [round(value) for value in y_pred]\n",
    "print(confusion_matrix(ytest, predictions))"
   ]
  },
  {
   "cell_type": "markdown",
   "metadata": {},
   "source": [
    "# Classification Report"
   ]
  },
  {
   "cell_type": "code",
   "execution_count": 207,
   "metadata": {},
   "outputs": [],
   "source": [
    "fpr, tpr, thresholds = roc_curve(ytest, soft[:,1]) "
   ]
  },
  {
   "cell_type": "code",
   "execution_count": 208,
   "metadata": {},
   "outputs": [
    {
     "name": "stdout",
     "output_type": "stream",
     "text": [
      "             precision    recall  f1-score   support\n",
      "\n",
      "          0       0.83      1.00      0.91     16609\n",
      "          1       0.73      0.01      0.02      3392\n",
      "\n",
      "avg / total       0.82      0.83      0.76     20001\n",
      "\n"
     ]
    }
   ],
   "source": [
    "xgboost_report = print(str(classification_report(ytest, predictions)))"
   ]
  },
  {
   "cell_type": "code",
   "execution_count": 183,
   "metadata": {},
   "outputs": [
    {
     "data": {
      "image/png": "[encoded data removed]",
      "text/plain": [
       "<Figure size 864x432 with 1 Axes>"
      ]
     },
     "metadata": {},
     "output_type": "display_data"
    }
   ],
   "source": [
    "plt.figure(figsize=(12,6))\n",
    "plt.plot(fpr, tpr, color='red', lw=2)\n",
    "plt.plot([0, 1], [0, 1], color='navy', lw=2, linestyle='--')\n",
    "plt.xlim([0.0, 1.0])\n",
    "plt.ylim([0.0, 1.05])\n",
    "plt.xlabel('False Positive Rate')\n",
    "plt.ylabel('True Positive Rate')\n",
    "plt.title('XGboost ROC Curve')\n",
    "plt.show()"
   ]
  },
  {
   "cell_type": "markdown",
   "metadata": {},
   "source": [
    "### XGBoost Parameters:\n",
    "    \n",
    "    "
   ]
  },
  {
   "cell_type": "markdown",
   "metadata": {},
   "source": [
    "### XGboost with custom parameters"
   ]
  },
  {
   "cell_type": "code",
   "execution_count": 210,
   "metadata": {},
   "outputs": [
    {
     "name": "stdout",
     "output_type": "stream",
     "text": [
      "The ROC AUC is : 0.7207646801092157\n"
     ]
    }
   ],
   "source": [
    "xgb =XGBClassifier( \n",
    "    n_estimators=1000, \n",
    "    early_stopping_rounds=10,\n",
    "    learning_rate=0.3, \n",
    "    n_jobs=-1, \n",
    "    random_state=42)\n",
    "    \n",
    "                             \n",
    "\n",
    "xgb.fit(Xtrain_hashed, ytrain) \n",
    "soft = xgb.predict_proba(Xtest_hashed)\n",
    "print(\"The ROC AUC is : \" + str(roc_auc_score(ytest, soft[:,1])))"
   ]
  },
  {
   "cell_type": "markdown",
   "metadata": {},
   "source": [
    "By customizing out Classifier, we gained 2 points of ROC AUC with our model. "
   ]
  },
  {
   "cell_type": "code",
   "execution_count": 211,
   "metadata": {},
   "outputs": [
    {
     "name": "stdout",
     "output_type": "stream",
     "text": [
      "             precision    recall  f1-score   support\n",
      "\n",
      "          0       0.83      1.00      0.91     16609\n",
      "          1       0.73      0.01      0.02      3392\n",
      "\n",
      "avg / total       0.82      0.83      0.76     20001\n",
      "\n"
     ]
    }
   ],
   "source": [
    "print(str(classification_report(ytest, predictions)))"
   ]
  },
  {
   "cell_type": "code",
   "execution_count": 212,
   "metadata": {},
   "outputs": [],
   "source": [
    "fpr, tpr, thresholds = roc_curve(ytest, soft[:,1]) "
   ]
  },
  {
   "cell_type": "code",
   "execution_count": 214,
   "metadata": {},
   "outputs": [
    {
     "data": {
      "image/png": "[encoded data removed]",
      "text/plain": [
       "<Figure size 864x432 with 1 Axes>"
      ]
     },
     "metadata": {},
     "output_type": "display_data"
    }
   ],
   "source": [
    "plt.figure(figsize=(12,6))\n",
    "plt.plot(fpr1, tpr1, color='red', lw=2)\n",
    "plt.plot([0, 1], [0, 1], color='navy', lw=1, linestyle='--')\n",
    "plt.xlim([0.0, 1.0])\n",
    "plt.ylim([0.0, 1.05])\n",
    "plt.xlabel('False Positive Rate')\n",
    "plt.ylabel('True Positive Rate')\n",
    "plt.title('XGboost ROC Curve')\n",
    "plt.show()"
   ]
  },
  {
   "cell_type": "markdown",
   "metadata": {},
   "source": [
    "## Cross Validation with multiple parameters"
   ]
  },
  {
   "cell_type": "markdown",
   "metadata": {},
   "source": [
    "XGboost allows us to declare multiple values for a parameter, and with a cross validation, we can further improve our model by increasing the amount of possible model combinations. This can also decrease a model's perfomance, if there is too much overfitting due to the cross validation."
   ]
  },
  {
   "cell_type": "code",
   "execution_count": 191,
   "metadata": {},
   "outputs": [
    {
     "name": "stdout",
     "output_type": "stream",
     "text": [
      "The ROC AUC is : 0.7222279535305365\n"
     ]
    }
   ],
   "source": [
    "xgb_model = XGBClassifier(    n_estimators=1000, \n",
    "                              early_stopping_rounds=10,\n",
    "                              n_jobs=-1, \n",
    "                              random_state=42)\n",
    "\n",
    "parameters = {'learning_rate': [.25, .3, .35],\n",
    "              }\n",
    "\n",
    "gs_xgb = GridSearchCV(xgb_model, parameters, cv=3, \n",
    "                      scoring='roc_auc', verbose=False)\n",
    "gs_xgb.fit(Xtrain_hashed, ytrain)\n",
    "gs_xgb.best_score_\n",
    "soft = gs_xgb.predict_proba(Xtest_hashed)\n",
    "print(\"The ROC AUC is : \" + str(roc_auc_score(ytest, soft[:,1])))"
   ]
  },
  {
   "cell_type": "markdown",
   "metadata": {},
   "source": [
    "The model improved, but only by .02. The more tuning you do to your hyperparameters the smaller the increases will become. This is why feature engineering and proper data cleaning are paramount to a successful model. Tuning your model will help results, but it won't create a good model from bad data."
   ]
  },
  {
   "cell_type": "code",
   "execution_count": 215,
   "metadata": {},
   "outputs": [
    {
     "name": "stdout",
     "output_type": "stream",
     "text": [
      "             precision    recall  f1-score   support\n",
      "\n",
      "          0       0.83      1.00      0.91     16609\n",
      "          1       0.73      0.01      0.02      3392\n",
      "\n",
      "avg / total       0.82      0.83      0.76     20001\n",
      "\n"
     ]
    }
   ],
   "source": [
    "print(str(classification_report(ytest, predictions)))"
   ]
  },
  {
   "cell_type": "code",
   "execution_count": 216,
   "metadata": {},
   "outputs": [
    {
     "name": "stdout",
     "output_type": "stream",
     "text": [
      "The ROC AUC is : 0.7158341830895275\n"
     ]
    }
   ],
   "source": [
    "xgb_model = XGBClassifier(    \n",
    "                              early_stopping_rounds=10,\n",
    "                              learning_rate=0.3, \n",
    "                              n_jobs=-1, \n",
    "                              random_state=42)\n",
    "\n",
    "parameters = {'min_child_weight ': [1, 5, 10],\n",
    "              }\n",
    "\n",
    "gs_xgb = GridSearchCV(xgb_model, parameters, cv=3, \n",
    "                      scoring='roc_auc', verbose=False)\n",
    "gs_xgb.fit(Xtrain_hashed, ytrain)\n",
    "gs_xgb.best_score_\n",
    "soft = gs_xgb.predict_proba(Xtest_hashed)\n",
    "print(\"The ROC AUC is : \" + str(roc_auc_score(ytest, soft[:,1])))"
   ]
  },
  {
   "cell_type": "code",
   "execution_count": null,
   "metadata": {},
   "outputs": [],
   "source": [
    "The changing the n_estimators gave us even less improvement. "
   ]
  },
  {
   "cell_type": "markdown",
   "metadata": {},
   "source": [
    "# Model Interpretability and PDP plots"
   ]
  },
  {
   "cell_type": "code",
   "execution_count": 132,
   "metadata": {},
   "outputs": [
    {
     "data": {
      "text/plain": [
       "GradientBoostingClassifier(criterion='friedman_mse', init=None,\n",
       "              learning_rate=0.5, loss='deviance', max_depth=3,\n",
       "              max_features=None, max_leaf_nodes=None,\n",
       "              min_impurity_decrease=0.0, min_impurity_split=None,\n",
       "              min_samples_leaf=1, min_samples_split=2,\n",
       "              min_weight_fraction_leaf=0.0, n_estimators=1000,\n",
       "              presort='auto', random_state=None, subsample=1.0, verbose=0,\n",
       "              warm_start=False)"
      ]
     },
     "execution_count": 132,
     "metadata": {},
     "output_type": "execute_result"
    }
   ],
   "source": [
    "xgb.fit(Xtrain_hashed, ytrain)"
   ]
  },
  {
   "cell_type": "code",
   "execution_count": 133,
   "metadata": {},
   "outputs": [],
   "source": [
    "importance = pd.Series(gb.feature_importances_, Xtrain_hashed.columns)"
   ]
  },
  {
   "cell_type": "code",
   "execution_count": 134,
   "metadata": {},
   "outputs": [
    {
     "data": {
      "text/plain": [
       "hour                0.174319\n",
       "C14                 0.142056\n",
       "site                0.113099\n",
       "C20                 0.092818\n",
       "weekday             0.083647\n",
       "C17                 0.081327\n",
       "app_id              0.057672\n",
       "C19                 0.044213\n",
       "C21                 0.039711\n",
       "app_category        0.024757\n",
       "site_category       0.021725\n",
       "device_conn_type    0.021673\n",
       "app_domain          0.020785\n",
       "user                0.017826\n",
       "device_type         0.013898\n",
       "C18                 0.011075\n",
       "C1                  0.010797\n",
       "C15                 0.010513\n",
       "banner_pos          0.009996\n",
       "C16                 0.008095\n",
       "id                  0.000000\n",
       "dtype: float64"
      ]
     },
     "execution_count": 134,
     "metadata": {},
     "output_type": "execute_result"
    }
   ],
   "source": [
    "importance.sort_values(ascending=False) \n"
   ]
  },
  {
   "cell_type": "markdown",
   "metadata": {},
   "source": [
    "We can see what features are most and least important to our model, and create a new model with different features by examing the features of importance"
   ]
  },
  {
   "cell_type": "markdown",
   "metadata": {},
   "source": [
    "### Cross validation-best cv with multiple parameters"
   ]
  },
  {
   "cell_type": "markdown",
   "metadata": {},
   "source": [
    "Above we ran two models where we changed min_child_weight and learning_rate independtenly. Let's changing them together to see what the best combinations of paramaters might be."
   ]
  },
  {
   "cell_type": "code",
   "execution_count": 217,
   "metadata": {},
   "outputs": [
    {
     "data": {
      "text/plain": [
       "([mean: 0.70819, std: 0.00089, params: {'learning_rate': 0.25, 'min_child_weight': 1},\n",
       "  mean: 0.70908, std: 0.00064, params: {'learning_rate': 0.25, 'min_child_weight': 5},\n",
       "  mean: 0.70878, std: 0.00045, params: {'learning_rate': 0.25, 'min_child_weight': 10},\n",
       "  mean: 0.70600, std: 0.00048, params: {'learning_rate': 0.3, 'min_child_weight': 1},\n",
       "  mean: 0.70662, std: 0.00036, params: {'learning_rate': 0.3, 'min_child_weight': 5},\n",
       "  mean: 0.70766, std: 0.00086, params: {'learning_rate': 0.3, 'min_child_weight': 10},\n",
       "  mean: 0.70454, std: 0.00166, params: {'learning_rate': 0.35, 'min_child_weight': 1},\n",
       "  mean: 0.70562, std: 0.00034, params: {'learning_rate': 0.35, 'min_child_weight': 5},\n",
       "  mean: 0.70533, std: 0.00019, params: {'learning_rate': 0.35, 'min_child_weight': 10}],\n",
       " {'learning_rate': 0.25, 'min_child_weight': 5},\n",
       " 0.7090756244183062)"
      ]
     },
     "execution_count": 217,
     "metadata": {},
     "output_type": "execute_result"
    }
   ],
   "source": [
    "child_rate_grid = {'min_child_weight': [1, 5, 10], 'learning_rate': [.25, .3, .35]}\n",
    "\n",
    "tuning = GridSearchCV(estimator =XGBClassifier(\n",
    "    n_estimators=1000,\n",
    "    monotone_constraints='(0)',\n",
    "    random_state=42), \n",
    "    param_grid = child_rate_grid,\n",
    "    scoring='roc_auc',\n",
    "    iid=False,\n",
    "    cv=3)\n",
    "tuning.fit(X_train,y_train)\n",
    "tuning.grid_scores_, tuning.best_params_, tuning.best_score_"
   ]
  },
  {
   "cell_type": "markdown",
   "metadata": {},
   "source": [
    "Tuning also supports multiple values for multiple parameters at once. We see here that the min child weight doesn't seem to change results too much, but max depth of 3 shows much better results than max depth of 25."
   ]
  },
  {
   "cell_type": "markdown",
   "metadata": {},
   "source": [
    "## K Folds"
   ]
  },
  {
   "cell_type": "markdown",
   "metadata": {},
   "source": [
    "A KFold is another type of cross validation that allows you split data into k consecutive folds and one fold is used finding error, while the rest train the system. This proccess allows your model to be robust to different shards of data. "
   ]
  },
  {
   "cell_type": "code",
   "execution_count": 233,
   "metadata": {},
   "outputs": [],
   "source": [
    "kfold = 3\n",
    "skf = StratifiedKFold(n_splits=kfold, random_state=42)"
   ]
  },
  {
   "cell_type": "code",
   "execution_count": 234,
   "metadata": {},
   "outputs": [],
   "source": [
    "# XGBoost parameters\n",
    "params_overfit = {\n",
    "    'n_estimators' : 1000,\n",
    "    'eval_metric': 'auc',\n",
    "    'min_child_weight': 5,\n",
    "    'learning_rate' : .1,\n",
    "    'iid': False,\n",
    "    }"
   ]
  },
  {
   "cell_type": "code",
   "execution_count": 235,
   "metadata": {},
   "outputs": [],
   "source": [
    "models_by_fold = []"
   ]
  },
  {
   "cell_type": "code",
   "execution_count": 236,
   "metadata": {},
   "outputs": [
    {
     "name": "stdout",
     "output_type": "stream",
     "text": [
      "[0]\ttrain-auc:0.65993\ttest-auc:0.661491\n",
      "Multiple eval metrics have been passed: 'test-auc' will be used for early stopping.\n",
      "\n",
      "Will train until test-auc hasn't improved in 150 rounds.\n",
      "[100]\ttrain-auc:0.752203\ttest-auc:0.721696\n",
      "[200]\ttrain-auc:0.779945\ttest-auc:0.723087\n",
      "[300]\ttrain-auc:0.79739\ttest-auc:0.722255\n",
      "Stopping. Best iteration:\n",
      "[152]\ttrain-auc:0.767672\ttest-auc:0.723787\n",
      "\n",
      "[0]\ttrain-auc:0.65993\ttest-auc:0.661491\n",
      "Multiple eval metrics have been passed: 'test-auc' will be used for early stopping.\n",
      "\n",
      "Will train until test-auc hasn't improved in 150 rounds.\n",
      "[100]\ttrain-auc:0.752203\ttest-auc:0.721696\n",
      "[200]\ttrain-auc:0.779945\ttest-auc:0.723087\n",
      "[300]\ttrain-auc:0.79739\ttest-auc:0.722255\n",
      "Stopping. Best iteration:\n",
      "[152]\ttrain-auc:0.767672\ttest-auc:0.723787\n",
      "\n",
      "[0]\ttrain-auc:0.65993\ttest-auc:0.661491\n",
      "Multiple eval metrics have been passed: 'test-auc' will be used for early stopping.\n",
      "\n",
      "Will train until test-auc hasn't improved in 150 rounds.\n",
      "[100]\ttrain-auc:0.752203\ttest-auc:0.721696\n",
      "[200]\ttrain-auc:0.779945\ttest-auc:0.723087\n",
      "[300]\ttrain-auc:0.79739\ttest-auc:0.722255\n",
      "Stopping. Best iteration:\n",
      "[152]\ttrain-auc:0.767672\ttest-auc:0.723787\n",
      "\n"
     ]
    }
   ],
   "source": [
    "#Kfold with overfitting\n",
    "\n",
    "from sklearn.model_selection import StratifiedKFold \n",
    "import xgboost as xgb\n",
    "# Kfold training\n",
    "for train_index, test_index in skf.split(X, y):\n",
    "    \n",
    "    # Convert data into XGBoost format.\n",
    "    d_train = xgb.DMatrix(Xtrain_hashed, ytrain)\n",
    "    d_valid = xgb.DMatrix(Xtest_hashed, ytest)\n",
    "    \n",
    "    # Watchlist to evaluate results while training.\n",
    "    watchlist = [(d_train, 'train'), (d_valid, 'test')]\n",
    "\n",
    "    # Training this fold\n",
    "    mdl = xgb.train(params_overfit, d_train, 1000, watchlist, early_stopping_rounds=150, maximize=True, verbose_eval=100)\n",
    "    \n",
    "    # Add model to the list of models (one for each fold)\n",
    "    models_by_fold.append(mdl)"
   ]
  },
  {
   "cell_type": "markdown",
   "metadata": {},
   "source": [
    "One potential isssue that can arise when using resampling is overfitting of your model. While our train AUC is high, our test AUC is laggin behind. This tells us that our model is not generazable.This can be avoided by customizing parameters that help reduce overfitting."
   ]
  },
  {
   "cell_type": "code",
   "execution_count": 237,
   "metadata": {},
   "outputs": [],
   "source": [
    "# XGBoost parameters\n",
    "params_adjusted = {\n",
    "    'min_child_weight': 10.0,\n",
    "    'objective': 'binary:logistic',\n",
    "    'eval_metric': 'auc',\n",
    "    'max_depth': 5,\n",
    "    'max_delta_step': 1.8,\n",
    "    'colsample_bytree': 0.4,\n",
    "    'subsample': 0.8,\n",
    "    'eta': 0.025,\n",
    "    'gamma': 0.65,\n",
    "    'num_boost_round' : 700\n",
    "    }"
   ]
  },
  {
   "cell_type": "code",
   "execution_count": 238,
   "metadata": {},
   "outputs": [],
   "source": [
    "models_by_fold = []"
   ]
  },
  {
   "cell_type": "code",
   "execution_count": 239,
   "metadata": {},
   "outputs": [
    {
     "name": "stdout",
     "output_type": "stream",
     "text": [
      "[0]\ttrain-auc:0.64179\ttest-auc:0.646148\n",
      "Multiple eval metrics have been passed: 'test-auc' will be used for early stopping.\n",
      "\n",
      "Will train until test-auc hasn't improved in 150 rounds.\n",
      "[100]\ttrain-auc:0.698827\ttest-auc:0.699078\n",
      "[200]\ttrain-auc:0.711978\ttest-auc:0.710247\n",
      "[300]\ttrain-auc:0.720055\ttest-auc:0.714644\n",
      "[400]\ttrain-auc:0.72616\ttest-auc:0.717631\n",
      "[500]\ttrain-auc:0.730844\ttest-auc:0.719282\n",
      "[600]\ttrain-auc:0.734819\ttest-auc:0.72024\n",
      "[700]\ttrain-auc:0.737955\ttest-auc:0.721432\n",
      "[800]\ttrain-auc:0.740962\ttest-auc:0.722269\n",
      "[900]\ttrain-auc:0.743664\ttest-auc:0.723065\n",
      "[999]\ttrain-auc:0.746161\ttest-auc:0.723657\n",
      "[0]\ttrain-auc:0.64179\ttest-auc:0.646148\n",
      "Multiple eval metrics have been passed: 'test-auc' will be used for early stopping.\n",
      "\n",
      "Will train until test-auc hasn't improved in 150 rounds.\n",
      "[100]\ttrain-auc:0.698827\ttest-auc:0.699078\n",
      "[200]\ttrain-auc:0.711978\ttest-auc:0.710247\n",
      "[300]\ttrain-auc:0.720055\ttest-auc:0.714644\n",
      "[400]\ttrain-auc:0.72616\ttest-auc:0.717631\n",
      "[500]\ttrain-auc:0.730844\ttest-auc:0.719282\n",
      "[600]\ttrain-auc:0.734819\ttest-auc:0.72024\n",
      "[700]\ttrain-auc:0.737955\ttest-auc:0.721432\n",
      "[800]\ttrain-auc:0.740962\ttest-auc:0.722269\n",
      "[900]\ttrain-auc:0.743664\ttest-auc:0.723065\n",
      "[999]\ttrain-auc:0.746161\ttest-auc:0.723657\n",
      "[0]\ttrain-auc:0.64179\ttest-auc:0.646148\n",
      "Multiple eval metrics have been passed: 'test-auc' will be used for early stopping.\n",
      "\n",
      "Will train until test-auc hasn't improved in 150 rounds.\n",
      "[100]\ttrain-auc:0.698827\ttest-auc:0.699078\n",
      "[200]\ttrain-auc:0.711978\ttest-auc:0.710247\n",
      "[300]\ttrain-auc:0.720055\ttest-auc:0.714644\n",
      "[400]\ttrain-auc:0.72616\ttest-auc:0.717631\n",
      "[500]\ttrain-auc:0.730844\ttest-auc:0.719282\n",
      "[600]\ttrain-auc:0.734819\ttest-auc:0.72024\n",
      "[700]\ttrain-auc:0.737955\ttest-auc:0.721432\n",
      "[800]\ttrain-auc:0.740962\ttest-auc:0.722269\n",
      "[900]\ttrain-auc:0.743664\ttest-auc:0.723065\n",
      "[999]\ttrain-auc:0.746161\ttest-auc:0.723657\n"
     ]
    }
   ],
   "source": [
    "#Kfold adjusted for overfitting\n",
    "\n",
    "from sklearn.model_selection import StratifiedKFold \n",
    "import xgboost as xgb\n",
    "# Kfold training\n",
    "for train_index, test_index in skf.split(X, y):\n",
    "    \n",
    "    # Convert data into XGBoost format.\n",
    "    d_train = xgb.DMatrix(Xtrain_hashed, ytrain)\n",
    "    d_valid = xgb.DMatrix(Xtest_hashed, ytest)\n",
    "    \n",
    "    # Watchlist to evaluate results while training.\n",
    "    watchlist = [(d_train, 'train'), (d_valid, 'test')]\n",
    "\n",
    "    # Training this fold\n",
    "    mdl = xgb.train(params_adjusted, d_train, 1000, watchlist, early_stopping_rounds=150, maximize=True, verbose_eval=100)\n",
    "    \n",
    "    # Add model to the list of models (one for each fold)\n",
    "    models_by_fold.append(mdl)"
   ]
  },
  {
   "cell_type": "markdown",
   "metadata": {},
   "source": [
    "The gap between train and test is almost half as small due to the new parameters intended to reduce overfitting. This leaves us with a more generalizable model that will be more robust to incoming data."
   ]
  }
 ],
 "metadata": {
  "kernelspec": {
   "display_name": "Python 3",
   "language": "python",
   "name": "python3"
  },
  "language_info": {
   "codemirror_mode": {
    "name": "ipython",
    "version": 3
   },
   "file_extension": ".py",
   "mimetype": "text/x-python",
   "name": "python",
   "nbconvert_exporter": "python",
   "pygments_lexer": "ipython3",
   "version": "3.7.3"
  }
 },
 "nbformat": 4,
 "nbformat_minor": 2
}
