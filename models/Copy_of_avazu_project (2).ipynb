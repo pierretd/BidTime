{
  "nbformat": 4,
  "nbformat_minor": 0,
  "metadata": {
    "colab": {
      "name": "Copy of avazu_project.ipynb",
      "version": "0.3.2",
      "provenance": [],
      "toc_visible": true
    },
    "kernelspec": {
      "display_name": "Python 3",
      "language": "python",
      "name": "python3"
    }
  },
  "cells": [
    {
      "metadata": {
        "id": "KAsjtWSKE47L",
        "colab_type": "text"
      },
      "cell_type": "markdown",
      "source": [
        "### Specifying neccessary imports "
      ]
    },
    {
      "metadata": {
        "id": "WSFFjVsFE47M",
        "colab_type": "code",
        "colab": {}
      },
      "cell_type": "code",
      "source": [
        "'''Specifying the necessary imports'''\n",
        "import pandas as pd\n",
        "import numpy as np\n",
        "import dask.dataframe as dask_data\n",
        "#Dask data frames used to help in in-memory large computing on a single machine\n",
        "\n",
        "#visualization specific imports \n",
        "import matplotlib\n",
        "import matplotlib.pyplot as plt\n",
        "import seaborn\n",
        "import plotly.graph_objs as go\n",
        "from plotly.offline import init_notebook_mode, iplot, plot, download_plotlyjs\n",
        "\n",
        "import sklearn\n",
        "import matplotlib.dates as mdates\n",
        "\n"
      ],
      "execution_count": 0,
      "outputs": []
    },
    {
      "metadata": {
        "id": "EovRF5RPE47O",
        "colab_type": "code",
        "colab": {}
      },
      "cell_type": "code",
      "source": [
        "matplotlib.style.use('ggplot')\n",
        "\n",
        "#A parse date variable to pass in the read_csv function later to take into account the date format \n",
        "parse_date = lambda val : pd.datetime.strptime(val, '%y%m%d%H')"
      ],
      "execution_count": 0,
      "outputs": []
    },
    {
      "metadata": {
        "id": "hTkb9KNtE47U",
        "colab_type": "text"
      },
      "cell_type": "markdown",
      "source": [
        "### Data Loading stage "
      ]
    },
    {
      "metadata": {
        "id": "OdmMihMgE47U",
        "colab_type": "code",
        "colab": {}
      },
      "cell_type": "code",
      "source": [
        "''' LOADING stage \n",
        "    Reading the sampled train data\n",
        "    Size : 1 million records\n",
        "'''\n",
        "\n",
        "train_data = pd.read_csv('avuzuclean.csv', parse_dates = ['hour'], date_parser = parse_date,\n",
        "                        )\n",
        "\n"
      ],
      "execution_count": 0,
      "outputs": []
    },
    {
      "metadata": {
        "id": "aJ06-RFRE47X",
        "colab_type": "code",
        "colab": {
          "base_uri": "https://localhost:8080/",
          "height": 504
        },
        "outputId": "f500c117-5710-48d3-e025-adc1d0883eb8"
      },
      "cell_type": "code",
      "source": [
        "train_data.info()"
      ],
      "execution_count": 123,
      "outputs": [
        {
          "output_type": "stream",
          "text": [
            "<class 'pandas.core.frame.DataFrame'>\n",
            "RangeIndex: 2994 entries, 0 to 2993\n",
            "Data columns (total 24 columns):\n",
            "id                  2994 non-null uint64\n",
            "click               2994 non-null int64\n",
            "hour                2994 non-null datetime64[ns]\n",
            "C1                  2994 non-null int64\n",
            "banner_pos          2994 non-null int64\n",
            "site_id             2994 non-null object\n",
            "site_domain         2994 non-null object\n",
            "site_category       2994 non-null object\n",
            "app_id              2994 non-null object\n",
            "app_domain          2994 non-null object\n",
            "app_category        2994 non-null object\n",
            "device_id           2994 non-null object\n",
            "device_ip           2994 non-null object\n",
            "device_model        2994 non-null object\n",
            "device_type         2994 non-null int64\n",
            "device_conn_type    2994 non-null int64\n",
            "C14                 2994 non-null int64\n",
            "C15                 2994 non-null int64\n",
            "C16                 2994 non-null int64\n",
            "C17                 2994 non-null int64\n",
            "C18                 2994 non-null int64\n",
            "C19                 2994 non-null int64\n",
            "C20                 2994 non-null int64\n",
            "C21                 2994 non-null int64\n",
            "dtypes: datetime64[ns](1), int64(13), object(9), uint64(1)\n",
            "memory usage: 561.5+ KB\n"
          ],
          "name": "stdout"
        }
      ]
    },
    {
      "metadata": {
        "id": "LW6NH5DgE47Z",
        "colab_type": "text"
      },
      "cell_type": "markdown",
      "source": [
        "## Memory Optimization"
      ]
    },
    {
      "metadata": {
        "id": "UYVqywHCE47a",
        "colab_type": "code",
        "colab": {}
      },
      "cell_type": "code",
      "source": [
        "'''\n",
        "Memory optimization at this point ~~ 183 megabytes \n",
        "\n",
        "Optimization technique ::: Alter data types from int64 to int32 to reduce block memory usage\n",
        "\n",
        "Then RELOADING the data \n",
        "'''\n",
        "data_types = {\n",
        "    'id': np.str,\n",
        "    'click': np.bool_,\n",
        "    'hour': np.str,\n",
        "    'C1': np.uint16,\n",
        "    'banner_pos': np.uint16,\n",
        "    'site_id': np.object,\n",
        "    'site_domain': np.object,\n",
        "    'site_category': np.object,\n",
        "    'app_id': np.object,\n",
        "    'app_domain': np.object,\n",
        "    'app_category': np.object,\n",
        "    'device_id': np.object,\n",
        "    'device_ip': np.object,\n",
        "    'device_model': np.object,\n",
        "    'device_type': np.uint16,\n",
        "    'device_conn_type': np.uint16,\n",
        "    'C14': np.uint16,\n",
        "    'C15': np.uint16,\n",
        "    'C16': np.uint16,\n",
        "    'C17': np.uint16,\n",
        "    'C18': np.uint16,\n",
        "    'C19': np.uint16,\n",
        "    'C20': np.uint16,\n",
        "    'C21': np.uint16\n",
        "}\n",
        "\n",
        "train_data = pd.read_csv('avuzuclean.csv', parse_dates = ['hour'],\n",
        "                        date_parser = parse_date, \n",
        "                        dtype = data_types )\n",
        "\n",
        "\n"
      ],
      "execution_count": 0,
      "outputs": []
    },
    {
      "metadata": {
        "id": "qxnt_SJ2E47b",
        "colab_type": "text"
      },
      "cell_type": "markdown",
      "source": [
        "## A separate data frame where clicks = 1"
      ]
    },
    {
      "metadata": {
        "id": "ewXCWX_1E47c",
        "colab_type": "code",
        "colab": {}
      },
      "cell_type": "code",
      "source": [
        "train_data_clicks = train_data[train_data['click']==1]"
      ],
      "execution_count": 0,
      "outputs": []
    },
    {
      "metadata": {
        "id": "R0yZkU-IE47e",
        "colab_type": "code",
        "colab": {
          "base_uri": "https://localhost:8080/",
          "height": 521
        },
        "outputId": "c486445a-05f3-4ce7-d0cc-1e8d380c7261"
      },
      "cell_type": "code",
      "source": [
        "train_data.info() \n",
        "\n",
        "\n",
        "## Memory consumption reduced to 107.8 + MB\n",
        "\n",
        "'''\n",
        "% reduction in memory usage = 40% \n",
        "'''"
      ],
      "execution_count": 126,
      "outputs": [
        {
          "output_type": "stream",
          "text": [
            "<class 'pandas.core.frame.DataFrame'>\n",
            "RangeIndex: 2994 entries, 0 to 2993\n",
            "Data columns (total 24 columns):\n",
            "id                  2994 non-null object\n",
            "click               2994 non-null bool\n",
            "hour                2994 non-null datetime64[ns]\n",
            "C1                  2994 non-null uint16\n",
            "banner_pos          2994 non-null uint16\n",
            "site_id             2994 non-null object\n",
            "site_domain         2994 non-null object\n",
            "site_category       2994 non-null object\n",
            "app_id              2994 non-null object\n",
            "app_domain          2994 non-null object\n",
            "app_category        2994 non-null object\n",
            "device_id           2994 non-null object\n",
            "device_ip           2994 non-null object\n",
            "device_model        2994 non-null object\n",
            "device_type         2994 non-null uint16\n",
            "device_conn_type    2994 non-null uint16\n",
            "C14                 2994 non-null uint16\n",
            "C15                 2994 non-null uint16\n",
            "C16                 2994 non-null uint16\n",
            "C17                 2994 non-null uint16\n",
            "C18                 2994 non-null uint16\n",
            "C19                 2994 non-null uint16\n",
            "C20                 2994 non-null uint16\n",
            "C21                 2994 non-null uint16\n",
            "dtypes: bool(1), datetime64[ns](1), object(10), uint16(12)\n",
            "memory usage: 330.5+ KB\n"
          ],
          "name": "stdout"
        },
        {
          "output_type": "execute_result",
          "data": {
            "text/plain": [
              "'\\n% reduction in memory usage = 40% \\n'"
            ]
          },
          "metadata": {
            "tags": []
          },
          "execution_count": 126
        }
      ]
    },
    {
      "metadata": {
        "id": "kREHzTraE47h",
        "colab_type": "text"
      },
      "cell_type": "markdown",
      "source": [
        "# Part 1: Exploratory Data Analytics"
      ]
    },
    {
      "metadata": {
        "id": "w9ZekvQFE47i",
        "colab_type": "code",
        "colab": {
          "base_uri": "https://localhost:8080/",
          "height": 304
        },
        "outputId": "583b4e9e-af9e-4492-85bf-f3d156c413ef"
      },
      "cell_type": "code",
      "source": [
        "train_data.describe() "
      ],
      "execution_count": 89,
      "outputs": [
        {
          "output_type": "execute_result",
          "data": {
            "text/html": [
              "<div>\n",
              "<style scoped>\n",
              "    .dataframe tbody tr th:only-of-type {\n",
              "        vertical-align: middle;\n",
              "    }\n",
              "\n",
              "    .dataframe tbody tr th {\n",
              "        vertical-align: top;\n",
              "    }\n",
              "\n",
              "    .dataframe thead th {\n",
              "        text-align: right;\n",
              "    }\n",
              "</style>\n",
              "<table border=\"1\" class=\"dataframe\">\n",
              "  <thead>\n",
              "    <tr style=\"text-align: right;\">\n",
              "      <th></th>\n",
              "      <th>C1</th>\n",
              "      <th>banner_pos</th>\n",
              "      <th>device_type</th>\n",
              "      <th>device_conn_type</th>\n",
              "      <th>C14</th>\n",
              "      <th>C15</th>\n",
              "      <th>C16</th>\n",
              "      <th>C17</th>\n",
              "      <th>C18</th>\n",
              "      <th>C19</th>\n",
              "      <th>C20</th>\n",
              "      <th>C21</th>\n",
              "    </tr>\n",
              "  </thead>\n",
              "  <tbody>\n",
              "    <tr>\n",
              "      <th>count</th>\n",
              "      <td>2994.000000</td>\n",
              "      <td>2994.000000</td>\n",
              "      <td>2994.000000</td>\n",
              "      <td>2994.000000</td>\n",
              "      <td>2994.00000</td>\n",
              "      <td>2994.000000</td>\n",
              "      <td>2994.000000</td>\n",
              "      <td>2994.000000</td>\n",
              "      <td>2994.000000</td>\n",
              "      <td>2994.000000</td>\n",
              "      <td>2994.000000</td>\n",
              "      <td>2994.000000</td>\n",
              "    </tr>\n",
              "    <tr>\n",
              "      <th>mean</th>\n",
              "      <td>1005.046092</td>\n",
              "      <td>0.180361</td>\n",
              "      <td>1.062124</td>\n",
              "      <td>0.200401</td>\n",
              "      <td>17585.96994</td>\n",
              "      <td>318.492986</td>\n",
              "      <td>57.531062</td>\n",
              "      <td>1949.729459</td>\n",
              "      <td>0.785571</td>\n",
              "      <td>122.671343</td>\n",
              "      <td>52874.735471</td>\n",
              "      <td>89.496994</td>\n",
              "    </tr>\n",
              "    <tr>\n",
              "      <th>std</th>\n",
              "      <td>1.068899</td>\n",
              "      <td>0.384552</td>\n",
              "      <td>0.592425</td>\n",
              "      <td>0.629957</td>\n",
              "      <td>3496.53980</td>\n",
              "      <td>8.967558</td>\n",
              "      <td>38.314460</td>\n",
              "      <td>422.603094</td>\n",
              "      <td>1.224586</td>\n",
              "      <td>231.257135</td>\n",
              "      <td>15226.928626</td>\n",
              "      <td>46.514577</td>\n",
              "    </tr>\n",
              "    <tr>\n",
              "      <th>min</th>\n",
              "      <td>1002.000000</td>\n",
              "      <td>0.000000</td>\n",
              "      <td>0.000000</td>\n",
              "      <td>0.000000</td>\n",
              "      <td>377.00000</td>\n",
              "      <td>216.000000</td>\n",
              "      <td>36.000000</td>\n",
              "      <td>112.000000</td>\n",
              "      <td>0.000000</td>\n",
              "      <td>35.000000</td>\n",
              "      <td>34464.000000</td>\n",
              "      <td>13.000000</td>\n",
              "    </tr>\n",
              "    <tr>\n",
              "      <th>25%</th>\n",
              "      <td>1005.000000</td>\n",
              "      <td>0.000000</td>\n",
              "      <td>1.000000</td>\n",
              "      <td>0.000000</td>\n",
              "      <td>15704.00000</td>\n",
              "      <td>320.000000</td>\n",
              "      <td>50.000000</td>\n",
              "      <td>1722.000000</td>\n",
              "      <td>0.000000</td>\n",
              "      <td>35.000000</td>\n",
              "      <td>34548.000000</td>\n",
              "      <td>61.000000</td>\n",
              "    </tr>\n",
              "    <tr>\n",
              "      <th>50%</th>\n",
              "      <td>1005.000000</td>\n",
              "      <td>0.000000</td>\n",
              "      <td>1.000000</td>\n",
              "      <td>0.000000</td>\n",
              "      <td>17653.00000</td>\n",
              "      <td>320.000000</td>\n",
              "      <td>50.000000</td>\n",
              "      <td>1955.000000</td>\n",
              "      <td>0.000000</td>\n",
              "      <td>35.000000</td>\n",
              "      <td>65535.000000</td>\n",
              "      <td>79.000000</td>\n",
              "    </tr>\n",
              "    <tr>\n",
              "      <th>75%</th>\n",
              "      <td>1005.000000</td>\n",
              "      <td>0.000000</td>\n",
              "      <td>1.000000</td>\n",
              "      <td>0.000000</td>\n",
              "      <td>20362.00000</td>\n",
              "      <td>320.000000</td>\n",
              "      <td>50.000000</td>\n",
              "      <td>2323.000000</td>\n",
              "      <td>2.000000</td>\n",
              "      <td>39.000000</td>\n",
              "      <td>65535.000000</td>\n",
              "      <td>157.000000</td>\n",
              "    </tr>\n",
              "    <tr>\n",
              "      <th>max</th>\n",
              "      <td>1010.000000</td>\n",
              "      <td>1.000000</td>\n",
              "      <td>5.000000</td>\n",
              "      <td>3.000000</td>\n",
              "      <td>21691.00000</td>\n",
              "      <td>320.000000</td>\n",
              "      <td>250.000000</td>\n",
              "      <td>2496.000000</td>\n",
              "      <td>3.000000</td>\n",
              "      <td>1835.000000</td>\n",
              "      <td>65535.000000</td>\n",
              "      <td>157.000000</td>\n",
              "    </tr>\n",
              "  </tbody>\n",
              "</table>\n",
              "</div>"
            ],
            "text/plain": [
              "                C1   banner_pos  device_type  device_conn_type          C14  \\\n",
              "count  2994.000000  2994.000000  2994.000000       2994.000000   2994.00000   \n",
              "mean   1005.046092     0.180361     1.062124          0.200401  17585.96994   \n",
              "std       1.068899     0.384552     0.592425          0.629957   3496.53980   \n",
              "min    1002.000000     0.000000     0.000000          0.000000    377.00000   \n",
              "25%    1005.000000     0.000000     1.000000          0.000000  15704.00000   \n",
              "50%    1005.000000     0.000000     1.000000          0.000000  17653.00000   \n",
              "75%    1005.000000     0.000000     1.000000          0.000000  20362.00000   \n",
              "max    1010.000000     1.000000     5.000000          3.000000  21691.00000   \n",
              "\n",
              "               C15          C16          C17          C18          C19  \\\n",
              "count  2994.000000  2994.000000  2994.000000  2994.000000  2994.000000   \n",
              "mean    318.492986    57.531062  1949.729459     0.785571   122.671343   \n",
              "std       8.967558    38.314460   422.603094     1.224586   231.257135   \n",
              "min     216.000000    36.000000   112.000000     0.000000    35.000000   \n",
              "25%     320.000000    50.000000  1722.000000     0.000000    35.000000   \n",
              "50%     320.000000    50.000000  1955.000000     0.000000    35.000000   \n",
              "75%     320.000000    50.000000  2323.000000     2.000000    39.000000   \n",
              "max     320.000000   250.000000  2496.000000     3.000000  1835.000000   \n",
              "\n",
              "                C20          C21  \n",
              "count   2994.000000  2994.000000  \n",
              "mean   52874.735471    89.496994  \n",
              "std    15226.928626    46.514577  \n",
              "min    34464.000000    13.000000  \n",
              "25%    34548.000000    61.000000  \n",
              "50%    65535.000000    79.000000  \n",
              "75%    65535.000000   157.000000  \n",
              "max    65535.000000   157.000000  "
            ]
          },
          "metadata": {
            "tags": []
          },
          "execution_count": 89
        }
      ]
    },
    {
      "metadata": {
        "id": "BetLHNR7E47l",
        "colab_type": "code",
        "colab": {
          "base_uri": "https://localhost:8080/",
          "height": 328
        },
        "outputId": "bf69177d-7877-44d9-99b7-e9b8b541c601"
      },
      "cell_type": "code",
      "source": [
        "train_data.head()"
      ],
      "execution_count": 90,
      "outputs": [
        {
          "output_type": "execute_result",
          "data": {
            "text/html": [
              "<div>\n",
              "<style scoped>\n",
              "    .dataframe tbody tr th:only-of-type {\n",
              "        vertical-align: middle;\n",
              "    }\n",
              "\n",
              "    .dataframe tbody tr th {\n",
              "        vertical-align: top;\n",
              "    }\n",
              "\n",
              "    .dataframe thead th {\n",
              "        text-align: right;\n",
              "    }\n",
              "</style>\n",
              "<table border=\"1\" class=\"dataframe\">\n",
              "  <thead>\n",
              "    <tr style=\"text-align: right;\">\n",
              "      <th></th>\n",
              "      <th>id</th>\n",
              "      <th>click</th>\n",
              "      <th>hour</th>\n",
              "      <th>C1</th>\n",
              "      <th>banner_pos</th>\n",
              "      <th>site_id</th>\n",
              "      <th>site_domain</th>\n",
              "      <th>site_category</th>\n",
              "      <th>app_id</th>\n",
              "      <th>app_domain</th>\n",
              "      <th>...</th>\n",
              "      <th>device_type</th>\n",
              "      <th>device_conn_type</th>\n",
              "      <th>C14</th>\n",
              "      <th>C15</th>\n",
              "      <th>C16</th>\n",
              "      <th>C17</th>\n",
              "      <th>C18</th>\n",
              "      <th>C19</th>\n",
              "      <th>C20</th>\n",
              "      <th>C21</th>\n",
              "    </tr>\n",
              "  </thead>\n",
              "  <tbody>\n",
              "    <tr>\n",
              "      <th>0</th>\n",
              "      <td>1000009418151094273</td>\n",
              "      <td>False</td>\n",
              "      <td>2014-10-21</td>\n",
              "      <td>1005</td>\n",
              "      <td>0</td>\n",
              "      <td>1fbe01fe</td>\n",
              "      <td>f3845767</td>\n",
              "      <td>28905ebd</td>\n",
              "      <td>ecad2386</td>\n",
              "      <td>7801e8d9</td>\n",
              "      <td>...</td>\n",
              "      <td>1</td>\n",
              "      <td>2</td>\n",
              "      <td>15706</td>\n",
              "      <td>320</td>\n",
              "      <td>50</td>\n",
              "      <td>1722</td>\n",
              "      <td>0</td>\n",
              "      <td>35</td>\n",
              "      <td>65535</td>\n",
              "      <td>79</td>\n",
              "    </tr>\n",
              "    <tr>\n",
              "      <th>1</th>\n",
              "      <td>10000169349117863715</td>\n",
              "      <td>False</td>\n",
              "      <td>2014-10-21</td>\n",
              "      <td>1005</td>\n",
              "      <td>0</td>\n",
              "      <td>1fbe01fe</td>\n",
              "      <td>f3845767</td>\n",
              "      <td>28905ebd</td>\n",
              "      <td>ecad2386</td>\n",
              "      <td>7801e8d9</td>\n",
              "      <td>...</td>\n",
              "      <td>1</td>\n",
              "      <td>0</td>\n",
              "      <td>15704</td>\n",
              "      <td>320</td>\n",
              "      <td>50</td>\n",
              "      <td>1722</td>\n",
              "      <td>0</td>\n",
              "      <td>35</td>\n",
              "      <td>34548</td>\n",
              "      <td>79</td>\n",
              "    </tr>\n",
              "    <tr>\n",
              "      <th>2</th>\n",
              "      <td>10000371904215119486</td>\n",
              "      <td>False</td>\n",
              "      <td>2014-10-21</td>\n",
              "      <td>1005</td>\n",
              "      <td>0</td>\n",
              "      <td>1fbe01fe</td>\n",
              "      <td>f3845767</td>\n",
              "      <td>28905ebd</td>\n",
              "      <td>ecad2386</td>\n",
              "      <td>7801e8d9</td>\n",
              "      <td>...</td>\n",
              "      <td>1</td>\n",
              "      <td>0</td>\n",
              "      <td>15704</td>\n",
              "      <td>320</td>\n",
              "      <td>50</td>\n",
              "      <td>1722</td>\n",
              "      <td>0</td>\n",
              "      <td>35</td>\n",
              "      <td>34548</td>\n",
              "      <td>79</td>\n",
              "    </tr>\n",
              "    <tr>\n",
              "      <th>3</th>\n",
              "      <td>10000640724480838376</td>\n",
              "      <td>False</td>\n",
              "      <td>2014-10-21</td>\n",
              "      <td>1005</td>\n",
              "      <td>0</td>\n",
              "      <td>1fbe01fe</td>\n",
              "      <td>f3845767</td>\n",
              "      <td>28905ebd</td>\n",
              "      <td>ecad2386</td>\n",
              "      <td>7801e8d9</td>\n",
              "      <td>...</td>\n",
              "      <td>1</td>\n",
              "      <td>0</td>\n",
              "      <td>15706</td>\n",
              "      <td>320</td>\n",
              "      <td>50</td>\n",
              "      <td>1722</td>\n",
              "      <td>0</td>\n",
              "      <td>35</td>\n",
              "      <td>34548</td>\n",
              "      <td>79</td>\n",
              "    </tr>\n",
              "    <tr>\n",
              "      <th>4</th>\n",
              "      <td>10000679056417042096</td>\n",
              "      <td>False</td>\n",
              "      <td>2014-10-21</td>\n",
              "      <td>1005</td>\n",
              "      <td>1</td>\n",
              "      <td>fe8cc448</td>\n",
              "      <td>9166c161</td>\n",
              "      <td>0569f928</td>\n",
              "      <td>ecad2386</td>\n",
              "      <td>7801e8d9</td>\n",
              "      <td>...</td>\n",
              "      <td>1</td>\n",
              "      <td>0</td>\n",
              "      <td>18993</td>\n",
              "      <td>320</td>\n",
              "      <td>50</td>\n",
              "      <td>2161</td>\n",
              "      <td>0</td>\n",
              "      <td>35</td>\n",
              "      <td>65535</td>\n",
              "      <td>157</td>\n",
              "    </tr>\n",
              "  </tbody>\n",
              "</table>\n",
              "<p>5 rows × 24 columns</p>\n",
              "</div>"
            ],
            "text/plain": [
              "                     id  click       hour    C1  banner_pos   site_id  \\\n",
              "0   1000009418151094273  False 2014-10-21  1005           0  1fbe01fe   \n",
              "1  10000169349117863715  False 2014-10-21  1005           0  1fbe01fe   \n",
              "2  10000371904215119486  False 2014-10-21  1005           0  1fbe01fe   \n",
              "3  10000640724480838376  False 2014-10-21  1005           0  1fbe01fe   \n",
              "4  10000679056417042096  False 2014-10-21  1005           1  fe8cc448   \n",
              "\n",
              "  site_domain site_category    app_id app_domain ...  device_type  \\\n",
              "0    f3845767      28905ebd  ecad2386   7801e8d9 ...            1   \n",
              "1    f3845767      28905ebd  ecad2386   7801e8d9 ...            1   \n",
              "2    f3845767      28905ebd  ecad2386   7801e8d9 ...            1   \n",
              "3    f3845767      28905ebd  ecad2386   7801e8d9 ...            1   \n",
              "4    9166c161      0569f928  ecad2386   7801e8d9 ...            1   \n",
              "\n",
              "  device_conn_type    C14  C15  C16   C17  C18  C19    C20  C21  \n",
              "0                2  15706  320   50  1722    0   35  65535   79  \n",
              "1                0  15704  320   50  1722    0   35  34548   79  \n",
              "2                0  15704  320   50  1722    0   35  34548   79  \n",
              "3                0  15706  320   50  1722    0   35  34548   79  \n",
              "4                0  18993  320   50  2161    0   35  65535  157  \n",
              "\n",
              "[5 rows x 24 columns]"
            ]
          },
          "metadata": {
            "tags": []
          },
          "execution_count": 90
        }
      ]
    },
    {
      "metadata": {
        "id": "uwtAFtjOE47o",
        "colab_type": "code",
        "colab": {
          "base_uri": "https://localhost:8080/",
          "height": 54
        },
        "outputId": "aa52302d-d979-43e3-e193-2b6ab86d4a9b"
      },
      "cell_type": "code",
      "source": [
        "train_data.iloc[:, :24].head(5)\n",
        "\n",
        "'''\n",
        "24 features encompassing site attributes, application features, device attributes \n",
        "\n",
        "Target features - click \n",
        ">>C14 - C21 - Anonymized categorical variables \n",
        "\n",
        "Features kept anonymous via. md5 hashing encrypton : \n",
        "  \n",
        ">>Site features - Site_id, Site_domain, Site_category\n",
        ">>App features - app_id, app_domain \n",
        ">>Device features - device_type, device_conn_type \n",
        "\n",
        "'''"
      ],
      "execution_count": 91,
      "outputs": [
        {
          "output_type": "execute_result",
          "data": {
            "text/plain": [
              "'\\n24 features encompassing site attributes, application features, device attributes \\n\\nTarget features - click \\n>>C14 - C21 - Anonymized categorical variables \\n\\nFeatures kept anonymous via. md5 hashing encrypton : \\n  \\n>>Site features - Site_id, Site_domain, Site_category\\n>>App features - app_id, app_domain \\n>>Device features - device_type, device_conn_type \\n\\n'"
            ]
          },
          "metadata": {
            "tags": []
          },
          "execution_count": 91
        }
      ]
    },
    {
      "metadata": {
        "id": "gvYUyXw0E47r",
        "colab_type": "text"
      },
      "cell_type": "markdown",
      "source": [
        "### CTR analysis ~ Click v/s No click distribution"
      ]
    },
    {
      "metadata": {
        "id": "Vt9RNgK5E47r",
        "colab_type": "code",
        "colab": {
          "base_uri": "https://localhost:8080/",
          "height": 313
        },
        "outputId": "beb7152d-4758-4b74-9103-59169ce67543"
      },
      "cell_type": "code",
      "source": [
        "%matplotlib inline\n",
        "\n",
        "train_data.groupby('click').size().plot(kind = 'bar')\n",
        "rows = train_data.shape[0]\n",
        "\n",
        "click_through_rate = train_data['click'].value_counts()/rows \n",
        "\n",
        "click_through_rate\n",
        "\n",
        "'''\n",
        "'''"
      ],
      "execution_count": 117,
      "outputs": [
        {
          "output_type": "execute_result",
          "data": {
            "text/plain": [
              "'\\n'"
            ]
          },
          "metadata": {
            "tags": []
          },
          "execution_count": 117
        },
        {
          "output_type": "display_data",
          "data": {
            "image/png": "[encoded data removed]",
            "text/plain": [
              "<Figure size 432x288 with 1 Axes>"
            ]
          },
          "metadata": {
            "tags": []
          }
        }
      ]
    },
    {
      "metadata": {
        "id": "vNjlDMlvE47u",
        "colab_type": "text"
      },
      "cell_type": "markdown",
      "source": [
        "### Click through rate on a set of 1 million records of click stream data sampled at random from the population of 40 million records is 16.9 ~ 17%. CTR effectively = 17% \n"
      ]
    },
    {
      "metadata": {
        "id": "q_8ekTFpE47v",
        "colab_type": "text"
      },
      "cell_type": "markdown",
      "source": [
        "## Feature Engineering "
      ]
    },
    {
      "metadata": {
        "id": "xLf-q0TTE47v",
        "colab_type": "text"
      },
      "cell_type": "markdown",
      "source": [
        "### Studying the relationships between different features and the target variable i.e 'Click'. Manipulating data in the process, introducing new metrics"
      ]
    },
    {
      "metadata": {
        "id": "ZkbaI58BE47y",
        "colab_type": "text"
      },
      "cell_type": "markdown",
      "source": [
        "### HOUR "
      ]
    },
    {
      "metadata": {
        "id": "vEt9rGFvE471",
        "colab_type": "code",
        "colab": {
          "base_uri": "https://localhost:8080/",
          "height": 290
        },
        "outputId": "3e3ec166-7ad4-4a47-cb0c-3339926a269d"
      },
      "cell_type": "code",
      "source": [
        "'''\n",
        "Metric 1. HOUR \n",
        "'''\n",
        "\n",
        "train_data.hour.describe() \n",
        "\n",
        "\n",
        "'''INSIGHT 2: Impressions V/S Clicks \n",
        "    MAXIMUM number of Impresisons around 1 P.M ~ 1561 '''\n",
        "\n",
        "df_impressions = train_data.groupby('hour').agg({'click':'sum'})\n",
        "#df_impressions\n",
        "df_impressions.unstack().plot()\n",
        "\n",
        "df_click = train_data[train_data['click']==1]\n",
        "temp_click = df_click.groupby('hour').agg({'click' : 'sum'})\n",
        "temp_click.unstack().plot()\n",
        "\n",
        "#temp_click"
      ],
      "execution_count": 118,
      "outputs": [
        {
          "output_type": "execute_result",
          "data": {
            "text/plain": [
              "<matplotlib.axes._subplots.AxesSubplot at 0x7fa31b28ae48>"
            ]
          },
          "metadata": {
            "tags": []
          },
          "execution_count": 118
        },
        {
          "output_type": "display_data",
          "data": {
            "image/png": "[encoded data removed]",
            "text/plain": [
              "<Figure size 432x288 with 1 Axes>"
            ]
          },
          "metadata": {
            "tags": []
          }
        }
      ]
    },
    {
      "metadata": {
        "id": "wxELTy9QE473",
        "colab_type": "code",
        "colab": {
          "base_uri": "https://localhost:8080/",
          "height": 134
        },
        "outputId": "31547477-b6f0-4c12-fbad-2da717f5f6bd"
      },
      "cell_type": "code",
      "source": [
        "train_data.hour.describe()"
      ],
      "execution_count": 119,
      "outputs": [
        {
          "output_type": "execute_result",
          "data": {
            "text/plain": [
              "count                    2994\n",
              "unique                      1\n",
              "top       2014-10-21 00:00:00\n",
              "freq                     2994\n",
              "first     2014-10-21 00:00:00\n",
              "last      2014-10-21 00:00:00\n",
              "Name: hour, dtype: object"
            ]
          },
          "metadata": {
            "tags": []
          },
          "execution_count": 119
        }
      ]
    },
    {
      "metadata": {
        "id": "Vk-75p7uE476",
        "colab_type": "code",
        "colab": {}
      },
      "cell_type": "code",
      "source": [
        "#Since Time Features are thought of in terms of cycles"
      ],
      "execution_count": 0,
      "outputs": []
    },
    {
      "metadata": {
        "id": "r34Q8npUE477",
        "colab_type": "text"
      },
      "cell_type": "markdown",
      "source": [
        "# Creating Metrics From The Hour Field "
      ]
    },
    {
      "metadata": {
        "id": "tY5U6GftE477",
        "colab_type": "code",
        "colab": {
          "base_uri": "https://localhost:8080/",
          "height": 420
        },
        "outputId": "d8d7f51e-7bb5-4c63-fea9-d90bec3930c6"
      },
      "cell_type": "code",
      "source": [
        "''' HOUR as a metric is difficult to read because it is a time stamp \n",
        "    Introducing new metrics: \n",
        "     1. hour_in_day - Better KPI to assess the impressions v/s clicks behavior w.r.t hour in day\n",
        "     2. weekday -- To study user behavior w.r.t clicks on each day \n",
        "     3. Day_name -- To extract the day name from the HOUR feature for a better understanding \n",
        "'''\n",
        "\n",
        "train_data['hour_in_day'] = train_data['hour'].apply(lambda val : val.hour)\n",
        "train_data_clicks['hour_in_day'] = train_data_clicks['hour'].apply(lambda val : val.hour)\n",
        "\n",
        "train_data['weekday'] = train_data['hour'].apply(lambda val: val.dayofweek)\n",
        "train_data_clicks['weekday'] = train_data_clicks['hour'].apply(lambda val: val.dayofweek)\n",
        "\n",
        "train_data['day_name'] = train_data['hour'].apply(lambda x: x.strftime('%A'))\n",
        "train_data_clicks['day_name'] = train_data_clicks['hour'].apply(lambda x: x.strftime('%A'))\n",
        "\n"
      ],
      "execution_count": 96,
      "outputs": [
        {
          "output_type": "stream",
          "text": [
            "/usr/local/lib/python3.6/dist-packages/ipykernel_launcher.py:9: SettingWithCopyWarning:\n",
            "\n",
            "\n",
            "A value is trying to be set on a copy of a slice from a DataFrame.\n",
            "Try using .loc[row_indexer,col_indexer] = value instead\n",
            "\n",
            "See the caveats in the documentation: http://pandas.pydata.org/pandas-docs/stable/indexing.html#indexing-view-versus-copy\n",
            "\n",
            "/usr/local/lib/python3.6/dist-packages/ipykernel_launcher.py:12: SettingWithCopyWarning:\n",
            "\n",
            "\n",
            "A value is trying to be set on a copy of a slice from a DataFrame.\n",
            "Try using .loc[row_indexer,col_indexer] = value instead\n",
            "\n",
            "See the caveats in the documentation: http://pandas.pydata.org/pandas-docs/stable/indexing.html#indexing-view-versus-copy\n",
            "\n",
            "/usr/local/lib/python3.6/dist-packages/ipykernel_launcher.py:15: SettingWithCopyWarning:\n",
            "\n",
            "\n",
            "A value is trying to be set on a copy of a slice from a DataFrame.\n",
            "Try using .loc[row_indexer,col_indexer] = value instead\n",
            "\n",
            "See the caveats in the documentation: http://pandas.pydata.org/pandas-docs/stable/indexing.html#indexing-view-versus-copy\n",
            "\n"
          ],
          "name": "stderr"
        }
      ]
    },
    {
      "metadata": {
        "id": "IFgPKwWKE47-",
        "colab_type": "code",
        "colab": {
          "base_uri": "https://localhost:8080/",
          "height": 118
        },
        "outputId": "8df7bf1d-449a-47ab-ddf4-9daeaf2141da"
      },
      "cell_type": "code",
      "source": [
        "train_data.columns"
      ],
      "execution_count": 97,
      "outputs": [
        {
          "output_type": "execute_result",
          "data": {
            "text/plain": [
              "Index(['id', 'click', 'hour', 'C1', 'banner_pos', 'site_id', 'site_domain',\n",
              "       'site_category', 'app_id', 'app_domain', 'app_category', 'device_id',\n",
              "       'device_ip', 'device_model', 'device_type', 'device_conn_type', 'C14',\n",
              "       'C15', 'C16', 'C17', 'C18', 'C19', 'C20', 'C21', 'hour_in_day',\n",
              "       'weekday', 'day_name'],\n",
              "      dtype='object')"
            ]
          },
          "metadata": {
            "tags": []
          },
          "execution_count": 97
        }
      ]
    },
    {
      "metadata": {
        "id": "D4KkfZnaE48A",
        "colab_type": "text"
      },
      "cell_type": "markdown",
      "source": [
        "### Hour In day, weekday and day_name columns added"
      ]
    },
    {
      "metadata": {
        "id": "Bky-dcDjE48B",
        "colab_type": "text"
      },
      "cell_type": "markdown",
      "source": [
        "##### Monday = 0, Sunday = 6"
      ]
    },
    {
      "metadata": {
        "id": "romnZrBtE48C",
        "colab_type": "text"
      },
      "cell_type": "markdown",
      "source": [
        "# HOUR IN DAY"
      ]
    },
    {
      "metadata": {
        "id": "YRubPDYDlU6e",
        "colab_type": "code",
        "colab": {
          "base_uri": "https://localhost:8080/",
          "height": 34
        },
        "outputId": "fe2d7727-2ae5-414f-9007-2d0263c08048"
      },
      "cell_type": "code",
      "source": [
        "train_data['hour_in_day'].nunique() "
      ],
      "execution_count": 98,
      "outputs": [
        {
          "output_type": "execute_result",
          "data": {
            "text/plain": [
              "1"
            ]
          },
          "metadata": {
            "tags": []
          },
          "execution_count": 98
        }
      ]
    },
    {
      "metadata": {
        "id": "B2aLN3tNE48D",
        "colab_type": "code",
        "colab": {
          "base_uri": "https://localhost:8080/",
          "height": 310
        },
        "outputId": "1bab1209-7497-495c-ce09-c779313576df"
      },
      "cell_type": "code",
      "source": [
        "   \n",
        "train_data.groupby(['hour_in_day', 'click']).size().unstack().plot(kind='bar', stacked=True, title=\"Hour in Day\")\n"
      ],
      "execution_count": 99,
      "outputs": [
        {
          "output_type": "execute_result",
          "data": {
            "text/plain": [
              "<matplotlib.axes._subplots.AxesSubplot at 0x7fa31b6dba20>"
            ]
          },
          "metadata": {
            "tags": []
          },
          "execution_count": 99
        },
        {
          "output_type": "display_data",
          "data": {
            "image/png": "[encoded data removed]",
            "text/plain": [
              "<Figure size 432x288 with 1 Axes>"
            ]
          },
          "metadata": {
            "tags": []
          }
        }
      ]
    },
    {
      "metadata": {
        "scrolled": true,
        "id": "EsH39rKjE48F",
        "colab_type": "code",
        "colab": {
          "base_uri": "https://localhost:8080/",
          "height": 106
        },
        "outputId": "d59e3f6c-a1a4-4722-cd98-30e9225a1dec"
      },
      "cell_type": "code",
      "source": [
        "train_data[['hour','click']].groupby(['hour']).sum().sort_values('click',ascending=False)"
      ],
      "execution_count": 100,
      "outputs": [
        {
          "output_type": "execute_result",
          "data": {
            "text/html": [
              "<div>\n",
              "<style scoped>\n",
              "    .dataframe tbody tr th:only-of-type {\n",
              "        vertical-align: middle;\n",
              "    }\n",
              "\n",
              "    .dataframe tbody tr th {\n",
              "        vertical-align: top;\n",
              "    }\n",
              "\n",
              "    .dataframe thead th {\n",
              "        text-align: right;\n",
              "    }\n",
              "</style>\n",
              "<table border=\"1\" class=\"dataframe\">\n",
              "  <thead>\n",
              "    <tr style=\"text-align: right;\">\n",
              "      <th></th>\n",
              "      <th>click</th>\n",
              "    </tr>\n",
              "    <tr>\n",
              "      <th>hour</th>\n",
              "      <th></th>\n",
              "    </tr>\n",
              "  </thead>\n",
              "  <tbody>\n",
              "    <tr>\n",
              "      <th>2014-10-21</th>\n",
              "      <td>522.0</td>\n",
              "    </tr>\n",
              "  </tbody>\n",
              "</table>\n",
              "</div>"
            ],
            "text/plain": [
              "            click\n",
              "hour             \n",
              "2014-10-21  522.0"
            ]
          },
          "metadata": {
            "tags": []
          },
          "execution_count": 100
        }
      ]
    },
    {
      "metadata": {
        "scrolled": true,
        "id": "x8Cyj-EnE48H",
        "colab_type": "code",
        "colab": {
          "base_uri": "https://localhost:8080/",
          "height": 106
        },
        "outputId": "bb12505d-f679-44a9-e4e4-38f2a9c28bd2"
      },
      "cell_type": "code",
      "source": [
        "train_data_clicks[['hour','click']].groupby(['hour']).sum().sort_values('click',ascending=False)"
      ],
      "execution_count": 101,
      "outputs": [
        {
          "output_type": "execute_result",
          "data": {
            "text/html": [
              "<div>\n",
              "<style scoped>\n",
              "    .dataframe tbody tr th:only-of-type {\n",
              "        vertical-align: middle;\n",
              "    }\n",
              "\n",
              "    .dataframe tbody tr th {\n",
              "        vertical-align: top;\n",
              "    }\n",
              "\n",
              "    .dataframe thead th {\n",
              "        text-align: right;\n",
              "    }\n",
              "</style>\n",
              "<table border=\"1\" class=\"dataframe\">\n",
              "  <thead>\n",
              "    <tr style=\"text-align: right;\">\n",
              "      <th></th>\n",
              "      <th>click</th>\n",
              "    </tr>\n",
              "    <tr>\n",
              "      <th>hour</th>\n",
              "      <th></th>\n",
              "    </tr>\n",
              "  </thead>\n",
              "  <tbody>\n",
              "    <tr>\n",
              "      <th>2014-10-21</th>\n",
              "      <td>522.0</td>\n",
              "    </tr>\n",
              "  </tbody>\n",
              "</table>\n",
              "</div>"
            ],
            "text/plain": [
              "            click\n",
              "hour             \n",
              "2014-10-21  522.0"
            ]
          },
          "metadata": {
            "tags": []
          },
          "execution_count": 101
        }
      ]
    },
    {
      "metadata": {
        "id": "yd7NmVWME48J",
        "colab_type": "text"
      },
      "cell_type": "markdown",
      "source": [
        "## Hour in day - CTR v/s impressions analysis "
      ]
    },
    {
      "metadata": {
        "id": "eNiKvz7fE48K",
        "colab_type": "code",
        "colab": {}
      },
      "cell_type": "code",
      "source": [
        "hour_df = pd.DataFrame() \n",
        "\n",
        "#creating a new independendt data frame "
      ],
      "execution_count": 0,
      "outputs": []
    },
    {
      "metadata": {
        "scrolled": true,
        "id": "pqU4UTYXE48M",
        "colab_type": "code",
        "colab": {
          "base_uri": "https://localhost:8080/",
          "height": 77
        },
        "outputId": "2e1061a5-caa6-4bb9-f19b-7c2b5c48e640"
      },
      "cell_type": "code",
      "source": [
        "hour_df['hr'] = train_data_clicks[['hour_in_day','click']].groupby(['hour_in_day']).count().reset_index().sort_values('click',ascending=False)['hour_in_day']\n",
        "                        \n",
        "hour_df\n",
        "#hour_dataframe.drop(\"hr\", axis = 1, inplace = True)\n",
        "\n",
        "#train_data_clicks.head()"
      ],
      "execution_count": 103,
      "outputs": [
        {
          "output_type": "execute_result",
          "data": {
            "text/html": [
              "<div>\n",
              "<style scoped>\n",
              "    .dataframe tbody tr th:only-of-type {\n",
              "        vertical-align: middle;\n",
              "    }\n",
              "\n",
              "    .dataframe tbody tr th {\n",
              "        vertical-align: top;\n",
              "    }\n",
              "\n",
              "    .dataframe thead th {\n",
              "        text-align: right;\n",
              "    }\n",
              "</style>\n",
              "<table border=\"1\" class=\"dataframe\">\n",
              "  <thead>\n",
              "    <tr style=\"text-align: right;\">\n",
              "      <th></th>\n",
              "      <th>hr</th>\n",
              "    </tr>\n",
              "  </thead>\n",
              "  <tbody>\n",
              "    <tr>\n",
              "      <th>0</th>\n",
              "      <td>0</td>\n",
              "    </tr>\n",
              "  </tbody>\n",
              "</table>\n",
              "</div>"
            ],
            "text/plain": [
              "   hr\n",
              "0   0"
            ]
          },
          "metadata": {
            "tags": []
          },
          "execution_count": 103
        }
      ]
    },
    {
      "metadata": {
        "id": "LlXglL-kE48O",
        "colab_type": "text"
      },
      "cell_type": "markdown",
      "source": [
        "### Hour in day - Clicks"
      ]
    },
    {
      "metadata": {
        "scrolled": true,
        "id": "tar92pRTE48Q",
        "colab_type": "code",
        "colab": {
          "base_uri": "https://localhost:8080/",
          "height": 77
        },
        "outputId": "9b7868ee-42b2-46aa-cd08-9b32b64fcd31"
      },
      "cell_type": "code",
      "source": [
        "'''\n",
        "Taking into account just the CLICKS \n",
        "'''\n",
        "hour_df['pos_clicks'] = train_data_clicks[['hour_in_day','click']].groupby(['hour_in_day']).count().reset_index().sort_values('click',ascending=False)['click']\n",
        "            \n",
        "hour_df"
      ],
      "execution_count": 104,
      "outputs": [
        {
          "output_type": "execute_result",
          "data": {
            "text/html": [
              "<div>\n",
              "<style scoped>\n",
              "    .dataframe tbody tr th:only-of-type {\n",
              "        vertical-align: middle;\n",
              "    }\n",
              "\n",
              "    .dataframe tbody tr th {\n",
              "        vertical-align: top;\n",
              "    }\n",
              "\n",
              "    .dataframe thead th {\n",
              "        text-align: right;\n",
              "    }\n",
              "</style>\n",
              "<table border=\"1\" class=\"dataframe\">\n",
              "  <thead>\n",
              "    <tr style=\"text-align: right;\">\n",
              "      <th></th>\n",
              "      <th>hr</th>\n",
              "      <th>pos_clicks</th>\n",
              "    </tr>\n",
              "  </thead>\n",
              "  <tbody>\n",
              "    <tr>\n",
              "      <th>0</th>\n",
              "      <td>0</td>\n",
              "      <td>522</td>\n",
              "    </tr>\n",
              "  </tbody>\n",
              "</table>\n",
              "</div>"
            ],
            "text/plain": [
              "   hr  pos_clicks\n",
              "0   0         522"
            ]
          },
          "metadata": {
            "tags": []
          },
          "execution_count": 104
        }
      ]
    },
    {
      "metadata": {
        "id": "DXSXYwpRE48T",
        "colab_type": "text"
      },
      "cell_type": "markdown",
      "source": [
        "### Hour in day - Impressions"
      ]
    },
    {
      "metadata": {
        "scrolled": true,
        "id": "WOvOr8qZE48U",
        "colab_type": "code",
        "colab": {
          "base_uri": "https://localhost:8080/",
          "height": 77
        },
        "outputId": "ef788d9d-cafb-4bf2-828a-7c581e76a677"
      },
      "cell_type": "code",
      "source": [
        "'''\n",
        "Taking into account the IMPRESSIONS\n",
        "'''\n",
        "hour_df['impressions_total'] = train_data[['hour_in_day','click']].groupby(['hour_in_day']).count().reset_index().sort_values('click',ascending=False)['click']\n",
        "            \n",
        "hour_df\n"
      ],
      "execution_count": 105,
      "outputs": [
        {
          "output_type": "execute_result",
          "data": {
            "text/html": [
              "<div>\n",
              "<style scoped>\n",
              "    .dataframe tbody tr th:only-of-type {\n",
              "        vertical-align: middle;\n",
              "    }\n",
              "\n",
              "    .dataframe tbody tr th {\n",
              "        vertical-align: top;\n",
              "    }\n",
              "\n",
              "    .dataframe thead th {\n",
              "        text-align: right;\n",
              "    }\n",
              "</style>\n",
              "<table border=\"1\" class=\"dataframe\">\n",
              "  <thead>\n",
              "    <tr style=\"text-align: right;\">\n",
              "      <th></th>\n",
              "      <th>hr</th>\n",
              "      <th>pos_clicks</th>\n",
              "      <th>impressions_total</th>\n",
              "    </tr>\n",
              "  </thead>\n",
              "  <tbody>\n",
              "    <tr>\n",
              "      <th>0</th>\n",
              "      <td>0</td>\n",
              "      <td>522</td>\n",
              "      <td>2994</td>\n",
              "    </tr>\n",
              "  </tbody>\n",
              "</table>\n",
              "</div>"
            ],
            "text/plain": [
              "   hr  pos_clicks  impressions_total\n",
              "0   0         522               2994"
            ]
          },
          "metadata": {
            "tags": []
          },
          "execution_count": 105
        }
      ]
    },
    {
      "metadata": {
        "id": "Scx1IJL5E48W",
        "colab_type": "text"
      },
      "cell_type": "markdown",
      "source": [
        "### Introducing Click through rate"
      ]
    },
    {
      "metadata": {
        "scrolled": true,
        "id": "45Qv1kZOE48X",
        "colab_type": "code",
        "colab": {
          "base_uri": "https://localhost:8080/",
          "height": 77
        },
        "outputId": "e24bf54b-93ec-4b17-d496-62dedaea1b96"
      },
      "cell_type": "code",
      "source": [
        "'''\n",
        "Introducing a new feature click through rate \n",
        "'''\n",
        "\n",
        "hour_df['click_through_rate'] = 100*hour_df['pos_clicks']/hour_df['impressions_total']\n",
        "\n",
        "#hour_df.sort_values(ascending = False, by = 'impressions_total')\n",
        "hour_df.sort_values(ascending = False, by = 'click_through_rate')\n"
      ],
      "execution_count": 106,
      "outputs": [
        {
          "output_type": "execute_result",
          "data": {
            "text/html": [
              "<div>\n",
              "<style scoped>\n",
              "    .dataframe tbody tr th:only-of-type {\n",
              "        vertical-align: middle;\n",
              "    }\n",
              "\n",
              "    .dataframe tbody tr th {\n",
              "        vertical-align: top;\n",
              "    }\n",
              "\n",
              "    .dataframe thead th {\n",
              "        text-align: right;\n",
              "    }\n",
              "</style>\n",
              "<table border=\"1\" class=\"dataframe\">\n",
              "  <thead>\n",
              "    <tr style=\"text-align: right;\">\n",
              "      <th></th>\n",
              "      <th>hr</th>\n",
              "      <th>pos_clicks</th>\n",
              "      <th>impressions_total</th>\n",
              "      <th>click_through_rate</th>\n",
              "    </tr>\n",
              "  </thead>\n",
              "  <tbody>\n",
              "    <tr>\n",
              "      <th>0</th>\n",
              "      <td>0</td>\n",
              "      <td>522</td>\n",
              "      <td>2994</td>\n",
              "      <td>17.43487</td>\n",
              "    </tr>\n",
              "  </tbody>\n",
              "</table>\n",
              "</div>"
            ],
            "text/plain": [
              "   hr  pos_clicks  impressions_total  click_through_rate\n",
              "0   0         522               2994            17.43487"
            ]
          },
          "metadata": {
            "tags": []
          },
          "execution_count": 106
        }
      ]
    },
    {
      "metadata": {
        "id": "mXMAgF0kE48Z",
        "colab_type": "code",
        "colab": {}
      },
      "cell_type": "code",
      "source": [
        "list_of_hours = hour_df.sort_values(by='click_through_rate',ascending=False)['hr'].tolist()"
      ],
      "execution_count": 0,
      "outputs": []
    },
    {
      "metadata": {
        "scrolled": false,
        "id": "hTlCRYySE48a",
        "colab_type": "code",
        "colab": {
          "base_uri": "https://localhost:8080/",
          "height": 365
        },
        "outputId": "a7939869-c685-4b53-c287-387ba4277694"
      },
      "cell_type": "code",
      "source": [
        "import seaborn as sns\n",
        "sns.barplot(y='click_through_rate',x='hr'\\\n",
        "            ,data=hour_df\\\n",
        "            ,order=list_of_hours)"
      ],
      "execution_count": 108,
      "outputs": [
        {
          "output_type": "stream",
          "text": [
            "/usr/local/lib/python3.6/dist-packages/seaborn/categorical.py:1428: FutureWarning:\n",
            "\n",
            "remove_na is deprecated and is a private function. Do not use.\n",
            "\n"
          ],
          "name": "stderr"
        },
        {
          "output_type": "execute_result",
          "data": {
            "text/plain": [
              "<matplotlib.axes._subplots.AxesSubplot at 0x7fa31b31ec88>"
            ]
          },
          "metadata": {
            "tags": []
          },
          "execution_count": 108
        },
        {
          "output_type": "display_data",
          "data": {
            "image/png": "[encoded data removed]",
            "text/plain": [
              "<Figure size 432x288 with 1 Axes>"
            ]
          },
          "metadata": {
            "tags": []
          }
        }
      ]
    },
    {
      "metadata": {
        "id": "ib4NX3zyE48d",
        "colab_type": "text"
      },
      "cell_type": "markdown",
      "source": [
        "# Weekday ~ day_name"
      ]
    },
    {
      "metadata": {
        "id": "_OBhztZKE48d",
        "colab_type": "code",
        "colab": {
          "base_uri": "https://localhost:8080/",
          "height": 344
        },
        "outputId": "65cdec2d-4eaf-4c0c-ad3f-7998d319c8e0"
      },
      "cell_type": "code",
      "source": [
        "train_data.groupby(['day_name','click']).size().unstack().plot(kind='bar', stacked=True, title=\"Day of the Week\")"
      ],
      "execution_count": 109,
      "outputs": [
        {
          "output_type": "execute_result",
          "data": {
            "text/plain": [
              "<matplotlib.axes._subplots.AxesSubplot at 0x7fa31b6b0048>"
            ]
          },
          "metadata": {
            "tags": []
          },
          "execution_count": 109
        },
        {
          "output_type": "display_data",
          "data": {
            "image/png": "[encoded data removed]",
            "text/plain": [
              "<Figure size 432x288 with 1 Axes>"
            ]
          },
          "metadata": {
            "tags": []
          }
        }
      ]
    },
    {
      "metadata": {
        "id": "87rWZurkE48i",
        "colab_type": "text"
      },
      "cell_type": "markdown",
      "source": [
        "# weekday ~ day_name (for clicks)"
      ]
    },
    {
      "metadata": {
        "id": "9SuYcu9QE48j",
        "colab_type": "code",
        "colab": {
          "base_uri": "https://localhost:8080/",
          "height": 344
        },
        "outputId": "08a3569c-4e70-4d8d-d0d6-29b2b450989f"
      },
      "cell_type": "code",
      "source": [
        "train_data_clicks.groupby(['day_name','click']).size().unstack().plot(kind='bar', stacked=True, title=\"Day of the Week\")"
      ],
      "execution_count": 110,
      "outputs": [
        {
          "output_type": "execute_result",
          "data": {
            "text/plain": [
              "<matplotlib.axes._subplots.AxesSubplot at 0x7fa31b594828>"
            ]
          },
          "metadata": {
            "tags": []
          },
          "execution_count": 110
        },
        {
          "output_type": "display_data",
          "data": {
            "image/png": "[encoded data removed]",
            "text/plain": [
              "<Figure size 432x288 with 1 Axes>"
            ]
          },
          "metadata": {
            "tags": []
          }
        }
      ]
    },
    {
      "metadata": {
        "id": "1g9kt-fEE48k",
        "colab_type": "code",
        "colab": {
          "base_uri": "https://localhost:8080/",
          "height": 106
        },
        "outputId": "0e657848-7882-4c51-a048-94939908c36a"
      },
      "cell_type": "code",
      "source": [
        "train_data_clicks[['day_name','click']].groupby(['day_name']).count().sort_values('click',ascending=False)"
      ],
      "execution_count": 111,
      "outputs": [
        {
          "output_type": "execute_result",
          "data": {
            "text/html": [
              "<div>\n",
              "<style scoped>\n",
              "    .dataframe tbody tr th:only-of-type {\n",
              "        vertical-align: middle;\n",
              "    }\n",
              "\n",
              "    .dataframe tbody tr th {\n",
              "        vertical-align: top;\n",
              "    }\n",
              "\n",
              "    .dataframe thead th {\n",
              "        text-align: right;\n",
              "    }\n",
              "</style>\n",
              "<table border=\"1\" class=\"dataframe\">\n",
              "  <thead>\n",
              "    <tr style=\"text-align: right;\">\n",
              "      <th></th>\n",
              "      <th>click</th>\n",
              "    </tr>\n",
              "    <tr>\n",
              "      <th>day_name</th>\n",
              "      <th></th>\n",
              "    </tr>\n",
              "  </thead>\n",
              "  <tbody>\n",
              "    <tr>\n",
              "      <th>Tuesday</th>\n",
              "      <td>522</td>\n",
              "    </tr>\n",
              "  </tbody>\n",
              "</table>\n",
              "</div>"
            ],
            "text/plain": [
              "          click\n",
              "day_name       \n",
              "Tuesday     522"
            ]
          },
          "metadata": {
            "tags": []
          },
          "execution_count": 111
        }
      ]
    },
    {
      "metadata": {
        "id": "N_H6XFflE48o",
        "colab_type": "text"
      },
      "cell_type": "markdown",
      "source": [
        "### Most clicks on Tuesday, then wednesday followed by Thursday"
      ]
    },
    {
      "metadata": {
        "id": "5TFTJA57E48o",
        "colab_type": "text"
      },
      "cell_type": "markdown",
      "source": [
        "# Day wise analysis of click through rates "
      ]
    },
    {
      "metadata": {
        "id": "fxy11aBHE48p",
        "colab_type": "code",
        "colab": {}
      },
      "cell_type": "code",
      "source": [
        "day_df = pd.DataFrame()"
      ],
      "execution_count": 0,
      "outputs": []
    },
    {
      "metadata": {
        "id": "jCSC9_40E48r",
        "colab_type": "code",
        "colab": {
          "base_uri": "https://localhost:8080/",
          "height": 77
        },
        "outputId": "bff1e7b1-359c-4bcf-9d48-a217dbd83c7d"
      },
      "cell_type": "code",
      "source": [
        "day_df['day'] = train_data_clicks[['day_name','click']].groupby(['day_name']).count().reset_index().sort_values('click',ascending=False)['day_name']\n",
        "day_df           "
      ],
      "execution_count": 113,
      "outputs": [
        {
          "output_type": "execute_result",
          "data": {
            "text/html": [
              "<div>\n",
              "<style scoped>\n",
              "    .dataframe tbody tr th:only-of-type {\n",
              "        vertical-align: middle;\n",
              "    }\n",
              "\n",
              "    .dataframe tbody tr th {\n",
              "        vertical-align: top;\n",
              "    }\n",
              "\n",
              "    .dataframe thead th {\n",
              "        text-align: right;\n",
              "    }\n",
              "</style>\n",
              "<table border=\"1\" class=\"dataframe\">\n",
              "  <thead>\n",
              "    <tr style=\"text-align: right;\">\n",
              "      <th></th>\n",
              "      <th>day</th>\n",
              "    </tr>\n",
              "  </thead>\n",
              "  <tbody>\n",
              "    <tr>\n",
              "      <th>0</th>\n",
              "      <td>Tuesday</td>\n",
              "    </tr>\n",
              "  </tbody>\n",
              "</table>\n",
              "</div>"
            ],
            "text/plain": [
              "       day\n",
              "0  Tuesday"
            ]
          },
          "metadata": {
            "tags": []
          },
          "execution_count": 113
        }
      ]
    },
    {
      "metadata": {
        "id": "0Zx0eUMME48s",
        "colab_type": "text"
      },
      "cell_type": "markdown",
      "source": [
        "### Day-wise clicks"
      ]
    },
    {
      "metadata": {
        "id": "bMDKw4bjE48t",
        "colab_type": "code",
        "colab": {
          "base_uri": "https://localhost:8080/",
          "height": 77
        },
        "outputId": "8c1394e3-a114-4b29-ad9c-f20245ed03ca"
      },
      "cell_type": "code",
      "source": [
        "day_df['pos_clicks'] = train_data_clicks[['day_name','click']]\\\n",
        "                        .groupby(['day_name']).count()\\\n",
        "                        .reset_index()\\\n",
        "                        .sort_values('click',ascending=False)['click']\n",
        "day_df"
      ],
      "execution_count": 114,
      "outputs": [
        {
          "output_type": "execute_result",
          "data": {
            "text/html": [
              "<div>\n",
              "<style scoped>\n",
              "    .dataframe tbody tr th:only-of-type {\n",
              "        vertical-align: middle;\n",
              "    }\n",
              "\n",
              "    .dataframe tbody tr th {\n",
              "        vertical-align: top;\n",
              "    }\n",
              "\n",
              "    .dataframe thead th {\n",
              "        text-align: right;\n",
              "    }\n",
              "</style>\n",
              "<table border=\"1\" class=\"dataframe\">\n",
              "  <thead>\n",
              "    <tr style=\"text-align: right;\">\n",
              "      <th></th>\n",
              "      <th>day</th>\n",
              "      <th>pos_clicks</th>\n",
              "    </tr>\n",
              "  </thead>\n",
              "  <tbody>\n",
              "    <tr>\n",
              "      <th>0</th>\n",
              "      <td>Tuesday</td>\n",
              "      <td>522</td>\n",
              "    </tr>\n",
              "  </tbody>\n",
              "</table>\n",
              "</div>"
            ],
            "text/plain": [
              "       day  pos_clicks\n",
              "0  Tuesday         522"
            ]
          },
          "metadata": {
            "tags": []
          },
          "execution_count": 114
        }
      ]
    },
    {
      "metadata": {
        "id": "HMpVyfyiE48w",
        "colab_type": "text"
      },
      "cell_type": "markdown",
      "source": [
        "### Day-wise Impressions"
      ]
    },
    {
      "metadata": {
        "id": "wJN1VwXmE48x",
        "colab_type": "code",
        "colab": {
          "base_uri": "https://localhost:8080/",
          "height": 77
        },
        "outputId": "457266e5-1c54-424f-b4f1-2e9dbccf1062"
      },
      "cell_type": "code",
      "source": [
        "day_df['total_impressions'] = train_data[['day_name','click']].groupby(['day_name']).count().reset_index().sort_values('click',ascending=False)['click']\n",
        "day_df"
      ],
      "execution_count": 115,
      "outputs": [
        {
          "output_type": "execute_result",
          "data": {
            "text/html": [
              "<div>\n",
              "<style scoped>\n",
              "    .dataframe tbody tr th:only-of-type {\n",
              "        vertical-align: middle;\n",
              "    }\n",
              "\n",
              "    .dataframe tbody tr th {\n",
              "        vertical-align: top;\n",
              "    }\n",
              "\n",
              "    .dataframe thead th {\n",
              "        text-align: right;\n",
              "    }\n",
              "</style>\n",
              "<table border=\"1\" class=\"dataframe\">\n",
              "  <thead>\n",
              "    <tr style=\"text-align: right;\">\n",
              "      <th></th>\n",
              "      <th>day</th>\n",
              "      <th>pos_clicks</th>\n",
              "      <th>total_impressions</th>\n",
              "    </tr>\n",
              "  </thead>\n",
              "  <tbody>\n",
              "    <tr>\n",
              "      <th>0</th>\n",
              "      <td>Tuesday</td>\n",
              "      <td>522</td>\n",
              "      <td>2994</td>\n",
              "    </tr>\n",
              "  </tbody>\n",
              "</table>\n",
              "</div>"
            ],
            "text/plain": [
              "       day  pos_clicks  total_impressions\n",
              "0  Tuesday         522               2994"
            ]
          },
          "metadata": {
            "tags": []
          },
          "execution_count": 115
        }
      ]
    },
    {
      "metadata": {
        "id": "bMNqlSRME48z",
        "colab_type": "text"
      },
      "cell_type": "markdown",
      "source": [
        "### Day-wise Click Percentages "
      ]
    },
    {
      "metadata": {
        "id": "PP47nXaUE480",
        "colab_type": "code",
        "colab": {
          "base_uri": "https://localhost:8080/",
          "height": 77
        },
        "outputId": "286ca381-ebf1-4d00-80e5-872aba7b92d9"
      },
      "cell_type": "code",
      "source": [
        "day_df['click_pct'] = 100*day_df['pos_clicks']/day_df['total_impressions']\n",
        "day_df.sort_values(ascending = False, by = 'click_pct')"
      ],
      "execution_count": 116,
      "outputs": [
        {
          "output_type": "execute_result",
          "data": {
            "text/html": [
              "<div>\n",
              "<style scoped>\n",
              "    .dataframe tbody tr th:only-of-type {\n",
              "        vertical-align: middle;\n",
              "    }\n",
              "\n",
              "    .dataframe tbody tr th {\n",
              "        vertical-align: top;\n",
              "    }\n",
              "\n",
              "    .dataframe thead th {\n",
              "        text-align: right;\n",
              "    }\n",
              "</style>\n",
              "<table border=\"1\" class=\"dataframe\">\n",
              "  <thead>\n",
              "    <tr style=\"text-align: right;\">\n",
              "      <th></th>\n",
              "      <th>day</th>\n",
              "      <th>pos_clicks</th>\n",
              "      <th>total_impressions</th>\n",
              "      <th>click_pct</th>\n",
              "    </tr>\n",
              "  </thead>\n",
              "  <tbody>\n",
              "    <tr>\n",
              "      <th>0</th>\n",
              "      <td>Tuesday</td>\n",
              "      <td>522</td>\n",
              "      <td>2994</td>\n",
              "      <td>17.43487</td>\n",
              "    </tr>\n",
              "  </tbody>\n",
              "</table>\n",
              "</div>"
            ],
            "text/plain": [
              "       day  pos_clicks  total_impressions  click_pct\n",
              "0  Tuesday         522               2994   17.43487"
            ]
          },
          "metadata": {
            "tags": []
          },
          "execution_count": 116
        }
      ]
    },
    {
      "metadata": {
        "id": "0Nb-HEMLE484",
        "colab_type": "text"
      },
      "cell_type": "markdown",
      "source": [
        "### Sunday has the highest value of click through rate "
      ]
    },
    {
      "metadata": {
        "id": "DGoOgASbE485",
        "colab_type": "code",
        "colab": {}
      },
      "cell_type": "code",
      "source": [
        "list_of_days = day_df.sort_values(by='click_pct',ascending=False)['day'].tolist()"
      ],
      "execution_count": 0,
      "outputs": []
    },
    {
      "metadata": {
        "id": "cJESC1E5E485",
        "colab_type": "code",
        "colab": {}
      },
      "cell_type": "code",
      "source": [
        "sns.barplot(y='click_pct',x='day'\\\n",
        "            ,data=day_df\\\n",
        "            ,order=list_of_days)"
      ],
      "execution_count": 0,
      "outputs": []
    },
    {
      "metadata": {
        "id": "O6yIOkbaE489",
        "colab_type": "text"
      },
      "cell_type": "markdown",
      "source": [
        "# Banner Position"
      ]
    },
    {
      "metadata": {
        "id": "gomSKu-RE48-",
        "colab_type": "text"
      },
      "cell_type": "markdown",
      "source": [
        "### Banner positions representing attractive and appealing designs that might highly affect a user's behavior and in turn trigger their decision to click. Or not. Hence making it an effective metric to predict clicks"
      ]
    },
    {
      "metadata": {
        "id": "94-nfTWEE48-",
        "colab_type": "code",
        "colab": {}
      },
      "cell_type": "code",
      "source": [
        "train_data['banner_pos'].unique()"
      ],
      "execution_count": 0,
      "outputs": []
    },
    {
      "metadata": {
        "id": "y2bH4RRqE49D",
        "colab_type": "text"
      },
      "cell_type": "markdown",
      "source": [
        "#### It's unclear as to what the 7 banner positions (represented as integers) represent. Intuitively and based on research, the 7 positions might represent ad placing in a 2D webpage  "
      ]
    },
    {
      "metadata": {
        "id": "4Z4E5G0YE49D",
        "colab_type": "code",
        "colab": {}
      },
      "cell_type": "code",
      "source": [
        "banner_temp =train_data[['banner_pos','click']].groupby(['banner_pos','click'])\n",
        "\n",
        "banner_temp.size().unstack().plot(kind='bar',stacked=True, title='banner positions')"
      ],
      "execution_count": 0,
      "outputs": []
    },
    {
      "metadata": {
        "id": "MeccgNkFE49E",
        "colab_type": "text"
      },
      "cell_type": "markdown",
      "source": [
        "#### Positions 0 and 1 ~ the most prominent banner positions garnering most impressions "
      ]
    },
    {
      "metadata": {
        "id": "Au73OzxwE49F",
        "colab_type": "code",
        "colab": {}
      },
      "cell_type": "code",
      "source": [
        "train_data[['banner_pos','click']].groupby(['banner_pos']).count().sort_values('click',ascending=False)"
      ],
      "execution_count": 0,
      "outputs": []
    },
    {
      "metadata": {
        "id": "p3-2F7cwE49H",
        "colab_type": "text"
      },
      "cell_type": "markdown",
      "source": [
        "### BANNER POSITIONS 0 and 1 generating most impressions and clicks"
      ]
    },
    {
      "metadata": {
        "id": "5TwWEMNcE49I",
        "colab_type": "code",
        "colab": {}
      },
      "cell_type": "code",
      "source": [
        "banner_temp =train_data_clicks[['banner_pos','click']].groupby(['banner_pos','click'])\n",
        "\n",
        "banner_temp.size().unstack().plot(kind='bar',stacked=True, title='banner positions')"
      ],
      "execution_count": 0,
      "outputs": []
    },
    {
      "metadata": {
        "id": "Bsl2YTgLE49J",
        "colab_type": "code",
        "colab": {}
      },
      "cell_type": "code",
      "source": [
        "train_data_clicks[['banner_pos','click']].groupby(['banner_pos']).count().sort_values('click',ascending=False)"
      ],
      "execution_count": 0,
      "outputs": []
    },
    {
      "metadata": {
        "id": "6dqnoXxlE49L",
        "colab_type": "text"
      },
      "cell_type": "markdown",
      "source": [
        "## CTR analysis on Banner position \n"
      ]
    },
    {
      "metadata": {
        "id": "Jtl4gzE-E49M",
        "colab_type": "code",
        "colab": {}
      },
      "cell_type": "code",
      "source": [
        "import pandas as pd \n",
        "\n",
        "banner_df = pd.DataFrame()"
      ],
      "execution_count": 0,
      "outputs": []
    },
    {
      "metadata": {
        "id": "FNtHPmHhE49M",
        "colab_type": "code",
        "colab": {}
      },
      "cell_type": "code",
      "source": [
        "banner_df['position'] = train_data_clicks[['banner_pos','click']].groupby(['banner_pos']).count().reset_index().sort_values('click',ascending=False)['banner_pos']"
      ],
      "execution_count": 0,
      "outputs": []
    },
    {
      "metadata": {
        "id": "eC87frhfE49N",
        "colab_type": "code",
        "colab": {}
      },
      "cell_type": "code",
      "source": [
        "banner_df['pos_clicks'] = train_data_clicks[['banner_pos','click']].groupby(['banner_pos']).count().reset_index().sort_values('click',ascending=False)['click']"
      ],
      "execution_count": 0,
      "outputs": []
    },
    {
      "metadata": {
        "id": "8rT9K3fdE49O",
        "colab_type": "code",
        "colab": {}
      },
      "cell_type": "code",
      "source": [
        "banner_df['total_impressions'] = train_data[['banner_pos','click']].groupby(['banner_pos']).count().reset_index().sort_values('click',ascending=False)['click']"
      ],
      "execution_count": 0,
      "outputs": []
    },
    {
      "metadata": {
        "id": "oWZfU5p_E49P",
        "colab_type": "code",
        "colab": {}
      },
      "cell_type": "code",
      "source": [
        "banner_df['click_pct'] = 100*banner_df['pos_clicks']/banner_df['total_impressions']\n",
        "\n",
        "banner_df"
      ],
      "execution_count": 0,
      "outputs": []
    },
    {
      "metadata": {
        "id": "mixEKY_wE49R",
        "colab_type": "code",
        "colab": {}
      },
      "cell_type": "code",
      "source": [
        "banner_df.sort_values(ascending=False,by='click_pct')"
      ],
      "execution_count": 0,
      "outputs": []
    },
    {
      "metadata": {
        "id": "g_gpJLgvE49S",
        "colab_type": "text"
      },
      "cell_type": "markdown",
      "source": [
        "#### Banner 7 has the highest click through rate "
      ]
    },
    {
      "metadata": {
        "id": "PXyoF06oE49T",
        "colab_type": "code",
        "colab": {}
      },
      "cell_type": "code",
      "source": [
        "list_of_banners = banner_df.sort_values(by='click_pct',ascending=False)['position'].tolist()"
      ],
      "execution_count": 0,
      "outputs": []
    },
    {
      "metadata": {
        "id": "IqA9bWm_E49U",
        "colab_type": "code",
        "colab": {}
      },
      "cell_type": "code",
      "source": [
        "sns.barplot(y='click_pct',x='position'\\\n",
        "            ,data=banner_df\\\n",
        "            ,order=list_of_banners)"
      ],
      "execution_count": 0,
      "outputs": []
    },
    {
      "metadata": {
        "id": "EV5H3XXtE49V",
        "colab_type": "text"
      },
      "cell_type": "markdown",
      "source": [
        "#### Banner position 7 seems to be a nice choice for placing advertisements. As per click through rate. "
      ]
    },
    {
      "metadata": {
        "id": "1MRE77MWE49V",
        "colab_type": "text"
      },
      "cell_type": "markdown",
      "source": [
        "# DEVICE TYPE Metrics"
      ]
    },
    {
      "metadata": {
        "id": "n2mS7Fn2E49W",
        "colab_type": "code",
        "colab": {}
      },
      "cell_type": "code",
      "source": [
        "device_temp = train_data[['device_type','click']].groupby(['device_type','click'])\n",
        "\n",
        "device_temp.size().unstack().plot(kind='bar',stacked=True, title='device types')\n"
      ],
      "execution_count": 0,
      "outputs": []
    },
    {
      "metadata": {
        "id": "gXi9yzHbE49X",
        "colab_type": "text"
      },
      "cell_type": "markdown",
      "source": [
        "### Device type 1 getting most impressions among the 5 devices"
      ]
    },
    {
      "metadata": {
        "id": "qWqCpBCGE49Z",
        "colab_type": "code",
        "colab": {}
      },
      "cell_type": "code",
      "source": [
        "train_data[['device_type','click']].groupby(['device_type']).count().sort_values('click',ascending=False)"
      ],
      "execution_count": 0,
      "outputs": []
    },
    {
      "metadata": {
        "id": "7Sy_cpmCE49b",
        "colab_type": "code",
        "colab": {}
      },
      "cell_type": "code",
      "source": [
        "train_data_clicks[['device_type','click']].groupby(['device_type','click']).size().unstack().plot(kind='bar',stacked=True, title='device types')"
      ],
      "execution_count": 0,
      "outputs": []
    },
    {
      "metadata": {
        "id": "FK4f17nlE49d",
        "colab_type": "code",
        "colab": {}
      },
      "cell_type": "code",
      "source": [
        "train_data_clicks[['device_type','click']].groupby(['device_type']).count().sort_values('click',ascending=False)"
      ],
      "execution_count": 0,
      "outputs": []
    },
    {
      "metadata": {
        "id": "xDV16onwE49f",
        "colab_type": "text"
      },
      "cell_type": "markdown",
      "source": [
        "### Device Type 1 gets the maximum number of clicks too"
      ]
    },
    {
      "metadata": {
        "id": "-Eprd1RIE49f",
        "colab_type": "code",
        "colab": {}
      },
      "cell_type": "code",
      "source": [
        "device1_df = train_data_clicks[train_data_clicks['device_type']==1]\n",
        "\n",
        "# extract CLICKS for DEVICE TYPE 1 "
      ],
      "execution_count": 0,
      "outputs": []
    },
    {
      "metadata": {
        "id": "OJegchfFE49g",
        "colab_type": "text"
      },
      "cell_type": "markdown",
      "source": [
        "### Hourly distribution of clicks on Device 1"
      ]
    },
    {
      "metadata": {
        "id": "pFc-VXsdE49g",
        "colab_type": "code",
        "colab": {}
      },
      "cell_type": "code",
      "source": [
        "temp_device_df = device1_df.groupby(['hour_in_day', 'click'])\n",
        "\n",
        "temp_device_df.size().unstack().plot(kind='bar', stacked=True, title=\"Clicks spread across hour in day for Device 1\")"
      ],
      "execution_count": 0,
      "outputs": []
    },
    {
      "metadata": {
        "id": "MfIL7MOxE49i",
        "colab_type": "text"
      },
      "cell_type": "markdown",
      "source": [
        "#### Device type 1 --- probably cell phone// Desktop Reasons --- Businesses might not prefer showing ads later in the evening----- after work hours// business hours ( Click spread max between 9 to 5 ) \n",
        "\n"
      ]
    },
    {
      "metadata": {
        "id": "bdyZFqxTE49i",
        "colab_type": "text"
      },
      "cell_type": "markdown",
      "source": [
        "## Click through rate analysis w.r.t Device type(merging data frames)\n"
      ]
    },
    {
      "metadata": {
        "id": "0kzrh2G0E49j",
        "colab_type": "text"
      },
      "cell_type": "markdown",
      "source": [
        "### Had to merge data frames to ensure consistency"
      ]
    },
    {
      "metadata": {
        "id": "JXQdqahYE49j",
        "colab_type": "code",
        "colab": {}
      },
      "cell_type": "code",
      "source": [
        "import pandas as pd\n",
        "dev_type_df=pd.DataFrame()\n",
        "\n",
        "dev_type_df_total_imp = pd.DataFrame()"
      ],
      "execution_count": 0,
      "outputs": []
    },
    {
      "metadata": {
        "id": "bUyut2RSE49l",
        "colab_type": "code",
        "colab": {}
      },
      "cell_type": "code",
      "source": [
        "#TOTAL CLICKS \n",
        "\n",
        "dev_type_df = train_data_clicks.groupby('device_type').agg({'click':'sum'}).reset_index()\n",
        "\n",
        "dev_type_df"
      ],
      "execution_count": 0,
      "outputs": []
    },
    {
      "metadata": {
        "id": "YKBRVQ5cE49n",
        "colab_type": "code",
        "colab": {}
      },
      "cell_type": "code",
      "source": [
        "#TOTAL IMPRESSIONS \n",
        "\n",
        "dev_type_df_total_imp = train_data.groupby('device_type').agg({'click':'count'}).reset_index()"
      ],
      "execution_count": 0,
      "outputs": []
    },
    {
      "metadata": {
        "id": "QLR9W9sFE49r",
        "colab_type": "code",
        "colab": {}
      },
      "cell_type": "code",
      "source": [
        "#dev_type_df_total_imp.drop([2], inplace = True)\n",
        "\n",
        "dev_type_df_total_imp"
      ],
      "execution_count": 0,
      "outputs": []
    },
    {
      "metadata": {
        "id": "y9pJNxaGE49t",
        "colab_type": "code",
        "colab": {}
      },
      "cell_type": "code",
      "source": [
        "dev_type_df['total_impressions'] = dev_type_df_total_imp['click']\n",
        "\n",
        "dev_type_df"
      ],
      "execution_count": 0,
      "outputs": []
    },
    {
      "metadata": {
        "id": "YyNDPWoIE49v",
        "colab_type": "code",
        "colab": {}
      },
      "cell_type": "code",
      "source": [
        "## sucess percentage == CTR \n",
        "\n",
        "dev_type_df['success_pct'] = (dev_type_df['click']/dev_type_df['total_impressions'])*100\n",
        "\n",
        "dev_type_df"
      ],
      "execution_count": 0,
      "outputs": []
    },
    {
      "metadata": {
        "id": "c_9yQmQdE49x",
        "colab_type": "code",
        "colab": {}
      },
      "cell_type": "code",
      "source": [
        "dev_type_df_total_imp.columns = ['device_type', 'click2']\n",
        "\n",
        "merged_df = pd.merge(left = dev_type_df , right = dev_type_df_total_imp,\n",
        "                    how = 'inner', on = 'device_type')\n",
        "\n"
      ],
      "execution_count": 0,
      "outputs": []
    },
    {
      "metadata": {
        "id": "9n3VKHtBE49y",
        "colab_type": "code",
        "colab": {}
      },
      "cell_type": "code",
      "source": [
        "merged_df"
      ],
      "execution_count": 0,
      "outputs": []
    },
    {
      "metadata": {
        "id": "-lEFFa9hE49z",
        "colab_type": "text"
      },
      "cell_type": "markdown",
      "source": [
        "#del merged_df['total_impressions']\n",
        "\n",
        "merged_df.columns = ['device_type', 'click','success_pct',\n",
        "                    'total_impressions']\n",
        "merged_df"
      ]
    },
    {
      "metadata": {
        "id": "RfGOYz2NE49z",
        "colab_type": "code",
        "colab": {}
      },
      "cell_type": "code",
      "source": [
        "merged_df['success_pct'] = 100*(merged_df['click']/merged_df['total_impressions'])\n",
        "\n",
        "merged_df"
      ],
      "execution_count": 0,
      "outputs": []
    },
    {
      "metadata": {
        "id": "bZmxD2OOE490",
        "colab_type": "text"
      },
      "cell_type": "markdown",
      "source": [
        "### Device Type 0 with the highest click through rate"
      ]
    },
    {
      "metadata": {
        "id": "xy02mGU6E490",
        "colab_type": "text"
      },
      "cell_type": "markdown",
      "source": [
        "## App Related Metrics"
      ]
    },
    {
      "metadata": {
        "id": "glYAaOIHE490",
        "colab_type": "text"
      },
      "cell_type": "markdown",
      "source": [
        "#### App_Id, App_Domain, App_Category"
      ]
    },
    {
      "metadata": {
        "id": "8uOnc3F7E490",
        "colab_type": "code",
        "colab": {}
      },
      "cell_type": "code",
      "source": [
        "app_features = ['app_id', 'app_domain', 'app_category']"
      ],
      "execution_count": 0,
      "outputs": []
    },
    {
      "metadata": {
        "scrolled": true,
        "id": "PpsAQbQxE491",
        "colab_type": "code",
        "colab": {}
      },
      "cell_type": "code",
      "source": [
        "train_data.groupby('app_category').agg({'click':'sum'}).sort_values(by='click',ascending = False)\n"
      ],
      "execution_count": 0,
      "outputs": []
    },
    {
      "metadata": {
        "id": "Uk3HkX_XE492",
        "colab_type": "code",
        "colab": {}
      },
      "cell_type": "code",
      "source": [
        "train_data['app_category'].value_counts().plot(kind='bar', title='App Category v/s Clicks')\n"
      ],
      "execution_count": 0,
      "outputs": []
    },
    {
      "metadata": {
        "id": "wdZpyYiEE493",
        "colab_type": "text"
      },
      "cell_type": "markdown",
      "source": [
        "### Studying Clicks behavior across different app categories"
      ]
    },
    {
      "metadata": {
        "id": "zJWEfC4FE493",
        "colab_type": "code",
        "colab": {}
      },
      "cell_type": "code",
      "source": [
        "train_app_category = train_data.groupby(['app_category', 'click']).size().unstack()\n"
      ],
      "execution_count": 0,
      "outputs": []
    },
    {
      "metadata": {
        "id": "xaWXrd_wE495",
        "colab_type": "code",
        "colab": {}
      },
      "cell_type": "code",
      "source": [
        "\n",
        "train_app_category.div(train_app_category.sum(axis=1), axis=0).plot(kind='bar', stacked=True, title=\"Intra-category CTR\")"
      ],
      "execution_count": 0,
      "outputs": []
    },
    {
      "metadata": {
        "id": "kr2QwC4cE495",
        "colab_type": "text"
      },
      "cell_type": "markdown",
      "source": [
        "## C1, C14-C21 features"
      ]
    },
    {
      "metadata": {
        "id": "IRFIXwPjE495",
        "colab_type": "code",
        "colab": {}
      },
      "cell_type": "code",
      "source": [
        "\n",
        "features = ['C1', 'C14', 'C15', 'C16', 'C17', 'C18',\n",
        "            'C20', 'C21']\n",
        "\n",
        "train_data[features].astype('object').describe()\n",
        "\n"
      ],
      "execution_count": 0,
      "outputs": []
    },
    {
      "metadata": {
        "id": "lcKk70zOE497",
        "colab_type": "code",
        "colab": {}
      },
      "cell_type": "code",
      "source": [
        "train_data.groupby(['C1', 'click']).size().unstack().plot(kind='bar', stacked=True, title='C1 histogram')\n",
        "train_data.groupby(['C15', 'click']).size().unstack().plot(kind='bar', stacked=True, title='C1 histogram')\n",
        "train_data.groupby(['C16', 'click']).size().unstack().plot(kind='bar', stacked=True, title='C1 histogram')\n",
        "train_data.groupby(['C18', 'click']).size().unstack().plot(kind='bar', stacked=True, title='C1 histogram')\n"
      ],
      "execution_count": 0,
      "outputs": []
    },
    {
      "metadata": {
        "id": "WAdwXx3aE499",
        "colab_type": "text"
      },
      "cell_type": "markdown",
      "source": [
        "# Part 2: Developing the Prediction model"
      ]
    },
    {
      "metadata": {
        "id": "Y0WCXClfE49-",
        "colab_type": "text"
      },
      "cell_type": "markdown",
      "source": [
        "### Using the key metrics discussed above as a part of the EDA to put together a predictive model in order to forecast the possibility of a click"
      ]
    },
    {
      "metadata": {
        "id": "V1E9tY2dE49-",
        "colab_type": "text"
      },
      "cell_type": "markdown",
      "source": [
        "### Data preparation stage ~~ To be fed in the data pipeline "
      ]
    },
    {
      "metadata": {
        "id": "iUinkWt3E49_",
        "colab_type": "code",
        "colab": {}
      },
      "cell_type": "code",
      "source": [
        "model_features = ['weekday', 'hour_in_day',\n",
        "                  'banner_pos', 'site_category',\n",
        "                  'device_conn_type', 'app_category',\n",
        "                  'device_type']"
      ],
      "execution_count": 0,
      "outputs": []
    },
    {
      "metadata": {
        "id": "AwjMUThXE4-A",
        "colab_type": "code",
        "colab": {}
      },
      "cell_type": "code",
      "source": [
        "model_target = 'click'"
      ],
      "execution_count": 0,
      "outputs": []
    },
    {
      "metadata": {
        "id": "cjTr8dHvE4-B",
        "colab_type": "code",
        "colab": {}
      },
      "cell_type": "code",
      "source": [
        "train_model = train_data[model_features+[model_target]].sample(frac=0.1,random_state=42)"
      ],
      "execution_count": 0,
      "outputs": []
    },
    {
      "metadata": {
        "id": "trJJBxd6E4-B",
        "colab_type": "text"
      },
      "cell_type": "markdown",
      "source": [
        "#### Clubbing the model features with the target and selecting a fraction in order to speeden up computation"
      ]
    },
    {
      "metadata": {
        "id": "fC7otNY2E4-B",
        "colab_type": "code",
        "colab": {}
      },
      "cell_type": "code",
      "source": [
        "def one_hot_features(data_frame, feature_set):\n",
        "    new_data_frame = pd.get_dummies(data_frame,\n",
        "                                     columns = feature_set,\n",
        "                                    sparse = True)\n",
        "\n",
        "    return new_data_frame"
      ],
      "execution_count": 0,
      "outputs": []
    },
    {
      "metadata": {
        "id": "SoUqsraoE4-D",
        "colab_type": "text"
      },
      "cell_type": "markdown",
      "source": [
        "#### Features Site_category and App_category are hashed and need to be represented in a readable format"
      ]
    },
    {
      "metadata": {
        "id": "L--9njR-E4-D",
        "colab_type": "text"
      },
      "cell_type": "markdown",
      "source": [
        "#### Banner_pos is represented as integers hence we make use of one hot encoding to deal with all these features"
      ]
    },
    {
      "metadata": {
        "id": "RPqRBfLXE4-D",
        "colab_type": "code",
        "colab": {}
      },
      "cell_type": "code",
      "source": [
        "train_model = one_hot_features(train_model,\n",
        "                                ['site_category',\n",
        "                                 'app_category',\n",
        "                                 'banner_pos'])\n"
      ],
      "execution_count": 0,
      "outputs": []
    },
    {
      "metadata": {
        "id": "FnZRhJDhE4-E",
        "colab_type": "code",
        "colab": {}
      },
      "cell_type": "code",
      "source": [
        "train_data.head()"
      ],
      "execution_count": 0,
      "outputs": []
    },
    {
      "metadata": {
        "id": "1DsplDgSE4-F",
        "colab_type": "text"
      },
      "cell_type": "markdown",
      "source": [
        "### Extracting all columns from the train model except the target mask column "
      ]
    },
    {
      "metadata": {
        "id": "ErfVqR9ME4-F",
        "colab_type": "code",
        "colab": {}
      },
      "cell_type": "code",
      "source": [
        "model_features = np.array(train_model.columns[train_model.columns!=model_target].tolist())"
      ],
      "execution_count": 0,
      "outputs": []
    },
    {
      "metadata": {
        "id": "21u6LSjfE4-F",
        "colab_type": "code",
        "colab": {}
      },
      "cell_type": "code",
      "source": [
        "from sklearn.model_selection import train_test_split"
      ],
      "execution_count": 0,
      "outputs": []
    },
    {
      "metadata": {
        "id": "TZjqV6sLE4-G",
        "colab_type": "code",
        "colab": {}
      },
      "cell_type": "code",
      "source": [
        "#from sklearn.model_selection import train_test_split\n",
        "x_train, x_test, y_train, y_test = train_test_split(\n",
        "    train_model[model_features].values,\n",
        "    train_model[model_target].values,\n",
        "    test_size=0.25,\n",
        "    random_state=42\n",
        ")\n"
      ],
      "execution_count": 0,
      "outputs": []
    },
    {
      "metadata": {
        "id": "QORaMuFBE4-I",
        "colab_type": "text"
      },
      "cell_type": "markdown",
      "source": [
        "### Feature Selection ~ To reduce the dimensional space occupied and to deal with overfitting, use GRID SEARCH cross validation and regularization to obtain trade off b/w number of features and F-1 score"
      ]
    },
    {
      "metadata": {
        "id": "6mAYjN2-E4-I",
        "colab_type": "code",
        "colab": {}
      },
      "cell_type": "code",
      "source": [
        "from sklearn.model_selection import StratifiedKFold\n",
        "from sklearn.model_selection import GridSearchCV\n",
        "\n",
        "from sklearn.linear_model import LogisticRegression\n",
        "from sklearn.feature_selection import SelectFromModel\n",
        "from sklearn.metrics import f1_score\n"
      ],
      "execution_count": 0,
      "outputs": []
    },
    {
      "metadata": {
        "id": "K4NOS_yxE4-J",
        "colab_type": "text"
      },
      "cell_type": "markdown",
      "source": [
        "### F1 score used as a performance metric because it represents the harmonic mean between precision and recall "
      ]
    },
    {
      "metadata": {
        "id": "RfrEAldKE4-J",
        "colab_type": "code",
        "colab": {}
      },
      "cell_type": "code",
      "source": [
        "num_splits = 3\n",
        "c_values = np.logspace(-3,0,7)\n"
      ],
      "execution_count": 0,
      "outputs": []
    },
    {
      "metadata": {
        "id": "kq3_lf4IE4-K",
        "colab_type": "code",
        "colab": {}
      },
      "cell_type": "code",
      "source": [
        "stratified_k_fold = StratifiedKFold(n_splits=num_splits)\n",
        "\n",
        "scores = np.zeros(7)\n",
        "nr_params = np.zeros(7)\n"
      ],
      "execution_count": 0,
      "outputs": []
    },
    {
      "metadata": {
        "id": "pk1ZTnvrE4-N",
        "colab_type": "text"
      },
      "cell_type": "markdown",
      "source": [
        "### Model: logistic Regression with L1 regularization and balanced class weights"
      ]
    },
    {
      "metadata": {
        "id": "8GFDAVuVE4-N",
        "colab_type": "code",
        "colab": {}
      },
      "cell_type": "code",
      "source": [
        "for train_data, valid_data in stratified_k_fold.split(x_train,\n",
        "                                                      y_train):\n",
        "    for i, c in enumerate(np.logspace(-3, 0, 7)):\n",
        "        lr_classify = LogisticRegression(penalty='l1',\n",
        "                                         class_weight='balanced',\n",
        "                                         C = c)\n",
        "        lr_classify.fit(x_train[train_data],\n",
        "                        y_train[train_data])\n",
        "\n",
        "        #validation_Set evaluation\n",
        "\n",
        "        y_prediction = lr_classify.predict(x_train[valid_data])\n",
        "        score_f1 = f1_score(y_train[valid_data],\n",
        "                            y_prediction, average='weighted' )\n",
        "\n",
        "        scores[i] += score_f1 / num_splits\n",
        "\n",
        "        ### spot the selected parameters ##\n",
        "\n",
        "        model_selected = SelectFromModel(lr_classify, prefit=True)\n",
        "        nr_params[i] += np.sum(model_selected.get_support()) / num_splits\n",
        "\n"
      ],
      "execution_count": 0,
      "outputs": []
    },
    {
      "metadata": {
        "id": "GdPSPTCpE4-P",
        "colab_type": "code",
        "colab": {}
      },
      "cell_type": "code",
      "source": [
        "plt.figure(figsize=(20, 10))\n",
        "plt.plot(nr_params, scores)\n",
        "\n",
        "for i, c in enumerate(c_values):\n",
        "    plt.annotate(c, (nr_params[i], scores[i]))\n",
        "plt.xlabel(\"Nr of parameters\")\n",
        "plt.ylabel(\"Avg F1 score\")\n"
      ],
      "execution_count": 0,
      "outputs": []
    },
    {
      "metadata": {
        "id": "HoNmna3LE4-Q",
        "colab_type": "text"
      },
      "cell_type": "markdown",
      "source": [
        "### Parameters obtained using c = 0.1 manage to reduce parameters dimension which optimizes the execution time also improving generalization capacity. \n"
      ]
    },
    {
      "metadata": {
        "id": "wXS6DlYfE4-R",
        "colab_type": "code",
        "colab": {}
      },
      "cell_type": "code",
      "source": [
        "lr_classify = LogisticRegression(C=0.1, class_weight='balanced', dual=False,\n",
        "          fit_intercept=True, intercept_scaling=1, max_iter=100,\n",
        "          multi_class='ovr', n_jobs=1, penalty='l1', random_state=None,\n",
        "          solver='liblinear', tol=0.0001, verbose=0, warm_start=False)\n"
      ],
      "execution_count": 0,
      "outputs": []
    },
    {
      "metadata": {
        "id": "-TIP982ME4-R",
        "colab_type": "code",
        "colab": {}
      },
      "cell_type": "code",
      "source": [
        "lr_classify.fit(x_train, y_train)\n"
      ],
      "execution_count": 0,
      "outputs": []
    },
    {
      "metadata": {
        "id": "EtYY26SXE4-S",
        "colab_type": "code",
        "colab": {}
      },
      "cell_type": "code",
      "source": [
        "model_selected = SelectFromModel(lr_classify,\n",
        "                                 prefit=True )"
      ],
      "execution_count": 0,
      "outputs": []
    },
    {
      "metadata": {
        "id": "YNuepwOnE4-U",
        "colab_type": "code",
        "colab": {}
      },
      "cell_type": "code",
      "source": [
        "#pruned_params = model_selected.get_support()\n",
        "pruned_params"
      ],
      "execution_count": 0,
      "outputs": []
    },
    {
      "metadata": {
        "id": "Rhyw7_faE4-U",
        "colab_type": "code",
        "colab": {}
      },
      "cell_type": "code",
      "source": [
        "model_features = model_features[pruned_params]\n",
        "\n",
        "x_train = x_train[:, pruned_params]\n",
        "\n",
        "x_test = x_test[:, pruned_params]\n"
      ],
      "execution_count": 0,
      "outputs": []
    },
    {
      "metadata": {
        "id": "4liHxq-dE4-V",
        "colab_type": "text"
      },
      "cell_type": "markdown",
      "source": [
        "## Model : Gradient Boosting"
      ]
    },
    {
      "metadata": {
        "id": "ZTeOqErgE4-V",
        "colab_type": "text"
      },
      "cell_type": "markdown",
      "source": [
        "### Part 3: Evaluating results using various performance metrics"
      ]
    },
    {
      "metadata": {
        "id": "DOp4SGgCE4-V",
        "colab_type": "code",
        "colab": {}
      },
      "cell_type": "code",
      "source": [
        "import xgboost\n",
        "from xgboost import XGBClassifier\n",
        "from sklearn.metrics import classification_report\n"
      ],
      "execution_count": 0,
      "outputs": []
    },
    {
      "metadata": {
        "id": "uuzX0sEnE4-W",
        "colab_type": "code",
        "colab": {}
      },
      "cell_type": "code",
      "source": [
        "x_train, x_valid, y_train, y_valid = train_test_split(\n",
        "    x_train,\n",
        "    y_train,\n",
        "    stratify=y_train,\n",
        "    test_size=0.1,\n",
        "    random_state=42)"
      ],
      "execution_count": 0,
      "outputs": []
    },
    {
      "metadata": {
        "id": "xLfN9cw1E4-X",
        "colab_type": "code",
        "colab": {}
      },
      "cell_type": "code",
      "source": [
        "model = XGBClassifier()\n",
        "xgb_clf = model"
      ],
      "execution_count": 0,
      "outputs": []
    },
    {
      "metadata": {
        "id": "4lRoidVRE4-Z",
        "colab_type": "text"
      },
      "cell_type": "markdown",
      "source": [
        "### Log Loss values measuring the performances of a classification models where the prediction label is a value between 0 and 1. The goal of the model is to minmize this value"
      ]
    },
    {
      "metadata": {
        "scrolled": true,
        "id": "zGotqhGbE4-Z",
        "colab_type": "code",
        "colab": {}
      },
      "cell_type": "code",
      "source": [
        "xgb_clf.fit(x_train, y_train, early_stopping_rounds=10,\n",
        "            eval_metric=\"logloss\", eval_set=[(x_valid, y_valid)])"
      ],
      "execution_count": 0,
      "outputs": []
    },
    {
      "metadata": {
        "id": "fLG_25ZME4-b",
        "colab_type": "code",
        "colab": {}
      },
      "cell_type": "code",
      "source": [
        "y_pred = xgb_clf.predict(x_test)\n",
        "predictions = [round(value) for value in y_pred]"
      ],
      "execution_count": 0,
      "outputs": []
    },
    {
      "metadata": {
        "id": "anUEcs_wE4-d",
        "colab_type": "code",
        "colab": {}
      },
      "cell_type": "code",
      "source": [
        "print(classification_report(y_test,\n",
        "                            predictions))"
      ],
      "execution_count": 0,
      "outputs": []
    },
    {
      "metadata": {
        "id": "C7NHtXTuE4-e",
        "colab_type": "text"
      },
      "cell_type": "markdown",
      "source": [
        "### Other evaluation metrics: Accuracy score, Confusion Matrix, ROC/AUC score"
      ]
    },
    {
      "metadata": {
        "id": "I648o8smE4-f",
        "colab_type": "code",
        "colab": {}
      },
      "cell_type": "code",
      "source": [
        "from sklearn import metrics\n",
        "\n",
        "print(metrics.accuracy_score(y_test, predictions))\n",
        "print(metrics.confusion_matrix(y_test, predictions))\n",
        "print(metrics.roc_auc_score(y_test, predictions))\n"
      ],
      "execution_count": 0,
      "outputs": []
    },
    {
      "metadata": {
        "id": "2F3kacU-E4-g",
        "colab_type": "text"
      },
      "cell_type": "markdown",
      "source": [
        "### The model has an 83% accuracy score and 0.5 is the area under the receiver operating characteristic curve. ROCAUC implying the expected position of positives drawn  before a uniformly drawn random negative"
      ]
    },
    {
      "metadata": {
        "id": "NhZesPH7E4-g",
        "colab_type": "text"
      },
      "cell_type": "markdown",
      "source": [
        "## Saving the XGBoost and Logistic models"
      ]
    },
    {
      "metadata": {
        "id": "cvBzv7ccE4-g",
        "colab_type": "code",
        "colab": {}
      },
      "cell_type": "code",
      "source": [
        "import pickle\n",
        "filename = 'xgb_mod.sav'\n",
        "filename2 = 'logistic.sav'\n",
        "pickle.dump(xgb_clf,open(filename, 'wb' ))\n",
        "pickle.dump(lr_classify, open(filename2, 'wb'))\n"
      ],
      "execution_count": 0,
      "outputs": []
    }
  ]
}